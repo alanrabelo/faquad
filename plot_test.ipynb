{
 "cells": [
  {
   "cell_type": "code",
   "execution_count": 1,
   "metadata": {},
   "outputs": [],
   "source": [
    "import plotly.plotly as py\n",
    "import plotly.graph_objs as go\n",
    "from plotly.offline import plot, iplot\n",
    "import numpy as np"
   ]
  },
  {
   "cell_type": "code",
   "execution_count": 2,
   "metadata": {},
   "outputs": [],
   "source": [
    "GREEN = \"rgb(163,218,151)\"\n",
    "GREEN_T = \"rgba(163,218,151,0.2)\"\n",
    "\n",
    "RED = \"rgb(255,122,101)\"\n",
    "RED_T = \"rgba(255,122,101,0.2)\""
   ]
  },
  {
   "cell_type": "code",
   "execution_count": null,
   "metadata": {},
   "outputs": [],
   "source": []
  },
  {
   "cell_type": "code",
   "execution_count": 37,
   "metadata": {},
   "outputs": [
    {
     "data": {
      "text/html": [
       "<iframe id=\"igraph\" scrolling=\"no\" style=\"border:none;\" seamless=\"seamless\" src=\"https://plot.ly/~heliohfs/36.embed\" height=\"525px\" width=\"100%\"></iframe>"
      ],
      "text/plain": [
       "<plotly.tools.PlotlyDisplay object>"
      ]
     },
     "execution_count": 37,
     "metadata": {},
     "output_type": "execute_result"
    }
   ],
   "source": [
    "x = [\"100%\", \"75%\", \"50%\", \"25%\", \"10%\"]\n",
    "x_rev = x[::-1]\n",
    "\n",
    "train_f1_means = [90, 80, 88, 75, 90]\n",
    "train_f1_stdev = [4, 2, 9, 8, 10]\n",
    "\n",
    "dev_f1_means = [20, 8, 19, 7, 10]\n",
    "dev_f1_stdev = [10, 2, 4, 9, 12]\n",
    "\n",
    "train_em_means = [20, 10, 8, 15, 10]\n",
    "train_em_stdev = [4, 2, 9, 8, 10]\n",
    "\n",
    "dev_em_means = [1, 2, 0.3, 3, 4]\n",
    "dev_em_stdev = [1, 2, 5, 3, 9]\n",
    "\n",
    "train_f1_stdev_up = (np.array(train_f1_means) + np.array(train_f1_stdev)).tolist()\n",
    "train_f1_stdev_down = (np.array(train_f1_means) - np.array(train_f1_stdev)).tolist()[::-1]\n",
    "\n",
    "train_em_stdev_up = (np.array(train_em_means) + np.array(train_em_stdev)).tolist()\n",
    "train_em_stdev_down = (np.array(train_em_means) - np.array(train_em_stdev)).tolist()[::-1]\n",
    "\n",
    "dev_f1_stdev_up = (np.array(dev_f1_means) + np.array(dev_f1_stdev)).tolist()\n",
    "dev_f1_stdev_down = (np.array(dev_f1_means) - np.array(dev_f1_stdev)).tolist()[::-1]\n",
    "\n",
    "dev_em_stdev_up = (np.array(dev_em_means) + np.array(dev_em_stdev)).tolist()\n",
    "dev_em_stdev_down = (np.array(dev_em_means) - np.array(dev_em_stdev)).tolist()[::-1]\n",
    "\n",
    "train_f1_stdev_plot = go.Scatter(\n",
    "    x=x + x_rev,\n",
    "    y=train_f1_stdev_up + train_f1_stdev_down,\n",
    "    fill='tozerox',\n",
    "    fillcolor=RED_T,\n",
    "    line=dict(color='rgba(255,255,255,0)'),\n",
    "    showlegend=False,\n",
    "    name='Train F1 Standard Deviation',\n",
    ")\n",
    "\n",
    "train_em_stdev_plot = go.Scatter(\n",
    "    x=x + x_rev,\n",
    "    y=train_em_stdev_up + train_em_stdev_down,\n",
    "    fill='tozerox',\n",
    "    fillcolor=RED_T,\n",
    "    line=dict(color='rgba(255,255,255,0)'),\n",
    "    showlegend=False,\n",
    "    name='Train EM Standard Deviation',\n",
    ")\n",
    "\n",
    "dev_f1_stdev_plot = go.Scatter(\n",
    "    x=x + x_rev,\n",
    "    y=dev_f1_stdev_up + dev_f1_stdev_down,\n",
    "    fill='tozerox',\n",
    "    fillcolor=GREEN_T,\n",
    "    line=dict(color='rgba(255,255,255,0)'),\n",
    "    showlegend=False,\n",
    "    name='Validation F1 Standard Deviation',\n",
    ")\n",
    "\n",
    "dev_em_stdev_plot = go.Scatter(\n",
    "    x=x + x_rev,\n",
    "    y=dev_em_stdev_up + dev_em_stdev_down,\n",
    "    fill='tozerox',\n",
    "    fillcolor=GREEN_T,\n",
    "    line=dict(color='rgba(255,255,255,0)'),\n",
    "    showlegend=False,\n",
    "    name='Validation EM Standard Deviation',\n",
    ")\n",
    "\n",
    "train_f1_plot = go.Scatter(\n",
    "    x=x,\n",
    "    y=train_f1_means,\n",
    "    line=dict(color=RED),\n",
    "    mode='lines',\n",
    "    name='Train F1 Mean',\n",
    ")\n",
    "\n",
    "train_em_plot = go.Scatter(\n",
    "    x=x,\n",
    "    y=train_em_means,\n",
    "    line=dict(color=RED, dash=\"dash\"),\n",
    "    mode='lines',\n",
    "    name='Train EM Mean',\n",
    ")\n",
    "\n",
    "dev_f1_plot = go.Scatter(\n",
    "    x=x,\n",
    "    y=dev_f1_means,\n",
    "    line=dict(color=GREEN),\n",
    "    mode='lines',\n",
    "    name='Validation F1 Mean',\n",
    ")\n",
    "\n",
    "dev_em_plot = go.Scatter(\n",
    "    x=x,\n",
    "    y=dev_em_means,\n",
    "    line=dict(color=GREEN, dash=\"dash\"),\n",
    "    mode='lines',\n",
    "    name='Validation EM Mean',\n",
    ")\n",
    "\n",
    "data = [train_f1_stdev_plot, train_em_stdev_plot, dev_f1_stdev_plot, dev_em_stdev_plot,\n",
    "        train_f1_plot, train_em_plot, dev_f1_plot, dev_em_plot]\n",
    "\n",
    "fig = go.Figure(data=data, layout=layout)\n",
    "py.iplot(fig, filename=\"kfold_plot\")\n",
    "\n"
   ]
  },
  {
   "cell_type": "code",
   "execution_count": null,
   "metadata": {},
   "outputs": [],
   "source": []
  }
 ],
 "metadata": {
  "kernelspec": {
   "display_name": "Python 3",
   "language": "python",
   "name": "python3"
  },
  "language_info": {
   "codemirror_mode": {
    "name": "ipython",
    "version": 3
   },
   "file_extension": ".py",
   "mimetype": "text/x-python",
   "name": "python",
   "nbconvert_exporter": "python",
   "pygments_lexer": "ipython3",
   "version": "3.7.3"
  }
 },
 "nbformat": 4,
 "nbformat_minor": 2
}
