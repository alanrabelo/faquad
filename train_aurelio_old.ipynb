{
 "cells": [
  {
   "cell_type": "code",
   "execution_count": 1,
   "metadata": {},
   "outputs": [],
   "source": [
    "from allennlp.commands.train import train_model\n",
    "from allennlp.common.params import Params\n",
    "\n",
    "import tempfile\n",
    "import json\n",
    "import os"
   ]
  },
  {
   "cell_type": "code",
   "execution_count": 2,
   "metadata": {},
   "outputs": [],
   "source": [
    "def run(train_dataset_path, dev_dataset_path):\n",
    "    # Loads files\n",
    "    with open(train_dataset_path, encoding=\"utf-8\") as file:\n",
    "        train_dataset = json.loads(file.read())\n",
    "\n",
    "    with open(dev_dataset_path, encoding=\"utf-8\") as file:\n",
    "        dev_dataset = json.loads(file.read())\n",
    "\n",
    "    # dev_dataset = reduce_answer(dev_dataset)\n",
    "\n",
    "    with open(os.path.realpath(\"experiment.json\"), \"r\") as file:\n",
    "        config = json.load(file)\n",
    "\n",
    "    # GloVe location\n",
    "    config[\"model\"][\"text_field_embedder\"][\"token_embedders\"][\"tokens\"][\"pretrained_file\"] \\\n",
    "        = os.path.realpath(\"glove/glove_s600.zip\")\n",
    "\n",
    "    # Writes a temporary training file\n",
    "    temp_train_file = tempfile.NamedTemporaryFile(mode=\"w\", suffix=\".json\", encoding=\"UTF-8\")\n",
    "    temp_train_file.write(json.dumps(train_dataset))\n",
    "    print(\"Temp file wrote at {}\".format(temp_train_file.name))\n",
    "\n",
    "    # Writes a temporary dev file\n",
    "    temp_dev_file = tempfile.NamedTemporaryFile(mode=\"w\", suffix=\".json\", encoding=\"UTF-8\")\n",
    "    temp_dev_file.write(json.dumps(dev_dataset))\n",
    "    print(\"Temp file wrote at {}\".format(temp_dev_file.name))\n",
    "\n",
    "    # Temporary dataset files location\n",
    "    config[\"train_data_path\"] = temp_train_file.name\n",
    "    config[\"validation_data_path\"] = temp_dev_file.name\n",
    "\n",
    "    # Creates a Param class and writes the train result\n",
    "    params = Params(config)\n",
    "    result = train_model(params=params,\n",
    "                serialization_dir=\"{}/old\".format(os.path.realpath(\"serialization\")))\n",
    "\n",
    "    # Closes and deletes temp files\n",
    "    temp_train_file.close()\n",
    "    temp_dev_file.close()\n",
    "    \n",
    "    \n",
    "    result"
   ]
  },
  {
   "cell_type": "code",
   "execution_count": 3,
   "metadata": {},
   "outputs": [
    {
     "name": "stdout",
     "output_type": "stream",
     "text": [
      "Temp file wrote at /tmp/tmpu0bzkdyx.json\n",
      "Temp file wrote at /tmp/tmp7q70_mg6.json\n"
     ]
    },
    {
     "name": "stderr",
     "output_type": "stream",
     "text": [
      "837it [00:01, 459.95it/s]\n",
      "63it [00:00, 262.85it/s]\n",
      "900it [00:02, 327.29it/s]\n",
      "100%|##########| 929605/929605 [01:02<00:00, 14824.53it/s]\n",
      "start_acc: 0.0203, end_acc: 0.0705, span_acc: 0.0048, em: 0.0072, f1: 0.1282, loss: 8.9742 ||: 100%|##########| 53/53 [00:18<00:00,  3.27it/s]\n",
      "start_acc: 0.0635, end_acc: 0.0476, span_acc: 0.0159, em: 0.0159, f1: 0.2825, loss: 8.4650 ||: 100%|##########| 4/4 [00:00<00:00,  3.92it/s]\n",
      "start_acc: 0.0478, end_acc: 0.1039, span_acc: 0.0108, em: 0.0131, f1: 0.1340, loss: 7.7576 ||: 100%|##########| 53/53 [00:15<00:00,  3.34it/s]\n",
      "start_acc: 0.0794, end_acc: 0.1429, span_acc: 0.0000, em: 0.0000, f1: 0.2997, loss: 8.2720 ||: 100%|##########| 4/4 [00:00<00:00,  6.27it/s]\n",
      "start_acc: 0.0753, end_acc: 0.1171, span_acc: 0.0251, em: 0.0287, f1: 0.1463, loss: 7.1543 ||: 100%|##########| 53/53 [00:15<00:00,  4.23it/s]\n",
      "start_acc: 0.0952, end_acc: 0.1429, span_acc: 0.0000, em: 0.0317, f1: 0.3250, loss: 8.2149 ||: 100%|##########| 4/4 [00:00<00:00,  6.08it/s]\n",
      "start_acc: 0.1159, end_acc: 0.1422, span_acc: 0.0406, em: 0.0442, f1: 0.1604, loss: 6.6783 ||: 100%|##########| 53/53 [00:15<00:00,  3.63it/s]\n",
      "start_acc: 0.1111, end_acc: 0.1429, span_acc: 0.0000, em: 0.0317, f1: 0.2794, loss: 8.3117 ||: 100%|##########| 4/4 [00:00<00:00,  6.11it/s]\n",
      "start_acc: 0.1314, end_acc: 0.1493, span_acc: 0.0550, em: 0.0585, f1: 0.1701, loss: 6.1560 ||: 100%|##########| 53/53 [00:15<00:00,  3.97it/s]\n",
      "start_acc: 0.0317, end_acc: 0.1270, span_acc: 0.0000, em: 0.0159, f1: 0.2639, loss: 8.4826 ||: 100%|##########| 4/4 [00:00<00:00,  6.87it/s]\n",
      "start_acc: 0.1589, end_acc: 0.1756, span_acc: 0.0836, em: 0.0860, f1: 0.1959, loss: 5.5909 ||: 100%|##########| 53/53 [00:15<00:00,  3.27it/s]\n",
      "start_acc: 0.1111, end_acc: 0.0952, span_acc: 0.0317, em: 0.0635, f1: 0.2937, loss: 8.9433 ||: 100%|##########| 4/4 [00:00<00:00,  6.20it/s]\n",
      "start_acc: 0.2103, end_acc: 0.1995, span_acc: 0.1147, em: 0.1171, f1: 0.2229, loss: 5.1062 ||: 100%|##########| 53/53 [00:15<00:00,  3.25it/s]\n",
      "start_acc: 0.1111, end_acc: 0.1111, span_acc: 0.0159, em: 0.0159, f1: 0.2940, loss: 8.8112 ||: 100%|##########| 4/4 [00:00<00:00,  6.16it/s]\n",
      "start_acc: 0.2557, end_acc: 0.2700, span_acc: 0.1553, em: 0.1577, f1: 0.2751, loss: 4.6195 ||: 100%|##########| 53/53 [00:15<00:00,  3.74it/s]\n",
      "start_acc: 0.1270, end_acc: 0.1429, span_acc: 0.0635, em: 0.0635, f1: 0.3313, loss: 9.1460 ||: 100%|##########| 4/4 [00:00<00:00,  4.91it/s]\n",
      "start_acc: 0.3238, end_acc: 0.3309, span_acc: 0.2294, em: 0.2354, f1: 0.3548, loss: 3.9986 ||: 100%|##########| 53/53 [00:15<00:00,  3.79it/s]\n",
      "start_acc: 0.1429, end_acc: 0.1587, span_acc: 0.0794, em: 0.0952, f1: 0.2947, loss: 9.6295 ||: 100%|##########| 4/4 [00:00<00:00,  6.38it/s]\n",
      "start_acc: 0.4098, end_acc: 0.3978, span_acc: 0.3011, em: 0.3011, f1: 0.4234, loss: 3.5470 ||: 100%|##########| 53/53 [00:15<00:00,  2.95it/s]\n",
      "start_acc: 0.1429, end_acc: 0.1746, span_acc: 0.0794, em: 0.1111, f1: 0.3478, loss: 9.7282 ||: 100%|##########| 4/4 [00:00<00:00,  7.40it/s]\n",
      "start_acc: 0.5137, end_acc: 0.5245, span_acc: 0.4170, em: 0.4205, f1: 0.5378, loss: 2.8698 ||: 100%|##########| 53/53 [00:15<00:00,  3.24it/s]\n",
      "start_acc: 0.0794, end_acc: 0.1905, span_acc: 0.0317, em: 0.0317, f1: 0.3077, loss: 11.8099 ||: 100%|##########| 4/4 [00:00<00:00,  6.69it/s]\n",
      "start_acc: 0.5878, end_acc: 0.5986, span_acc: 0.5149, em: 0.5185, f1: 0.6238, loss: 2.4613 ||: 100%|##########| 53/53 [00:15<00:00,  3.34it/s]\n",
      "start_acc: 0.1111, end_acc: 0.2063, span_acc: 0.0635, em: 0.0952, f1: 0.3364, loss: 10.2874 ||: 100%|##########| 4/4 [00:00<00:00,  6.44it/s]\n",
      "start_acc: 0.6894, end_acc: 0.7037, span_acc: 0.6296, em: 0.6284, f1: 0.7195, loss: 1.9057 ||: 100%|##########| 53/53 [00:15<00:00,  3.60it/s]\n",
      "start_acc: 0.1429, end_acc: 0.2063, span_acc: 0.0794, em: 0.1270, f1: 0.3544, loss: 12.4735 ||: 100%|##########| 4/4 [00:00<00:00,  5.68it/s]\n",
      "start_acc: 0.7085, end_acc: 0.7384, span_acc: 0.6428, em: 0.6428, f1: 0.7362, loss: 1.6342 ||: 100%|##########| 53/53 [00:15<00:00,  3.27it/s]\n",
      "start_acc: 0.1270, end_acc: 0.2222, span_acc: 0.0635, em: 0.1111, f1: 0.3404, loss: 11.5820 ||: 100%|##########| 4/4 [00:00<00:00,  6.43it/s]\n",
      "start_acc: 0.7802, end_acc: 0.8136, span_acc: 0.7431, em: 0.7407, f1: 0.8226, loss: 1.3547 ||: 100%|##########| 53/53 [00:15<00:00,  3.68it/s]\n",
      "start_acc: 0.1429, end_acc: 0.3175, span_acc: 0.1111, em: 0.1429, f1: 0.3928, loss: 12.9951 ||: 100%|##########| 4/4 [00:00<00:00,  6.20it/s]\n",
      "start_acc: 0.7778, end_acc: 0.7981, span_acc: 0.7228, em: 0.7228, f1: 0.8017, loss: 1.2699 ||: 100%|##########| 53/53 [00:15<00:00,  3.55it/s]\n",
      "start_acc: 0.1429, end_acc: 0.2381, span_acc: 0.0794, em: 0.1270, f1: 0.3997, loss: 13.7696 ||: 100%|##########| 4/4 [00:00<00:00,  6.17it/s]\n",
      "start_acc: 0.8339, end_acc: 0.8471, span_acc: 0.7873, em: 0.7897, f1: 0.8559, loss: 0.9688 ||: 100%|##########| 53/53 [00:15<00:00,  3.57it/s]\n",
      "start_acc: 0.1270, end_acc: 0.2698, span_acc: 0.0952, em: 0.0952, f1: 0.3696, loss: 13.4952 ||: 100%|##########| 4/4 [00:00<00:00,  6.19it/s]\n",
      "start_acc: 0.8626, end_acc: 0.8757, span_acc: 0.8351, em: 0.8339, f1: 0.8802, loss: 0.8449 ||: 100%|##########| 53/53 [00:15<00:00,  3.22it/s]\n",
      "start_acc: 0.1587, end_acc: 0.3175, span_acc: 0.0794, em: 0.1111, f1: 0.3937, loss: 13.7170 ||: 100%|##########| 4/4 [00:00<00:00,  6.01it/s]\n",
      "start_acc: 0.9188, end_acc: 0.9283, span_acc: 0.8996, em: 0.8961, f1: 0.9359, loss: 0.5256 ||: 100%|##########| 53/53 [00:15<00:00,  3.38it/s]\n",
      "start_acc: 0.1429, end_acc: 0.2857, span_acc: 0.1111, em: 0.1429, f1: 0.3776, loss: 14.5597 ||: 100%|##########| 4/4 [00:00<00:00,  6.43it/s]\n",
      "start_acc: 0.9486, end_acc: 0.9415, span_acc: 0.9247, em: 0.9200, f1: 0.9471, loss: 0.3597 ||: 100%|##########| 53/53 [00:15<00:00,  3.28it/s]\n",
      "start_acc: 0.1270, end_acc: 0.3175, span_acc: 0.0952, em: 0.1270, f1: 0.4037, loss: 14.8383 ||: 100%|##########| 4/4 [00:00<00:00,  6.74it/s]\n"
     ]
    }
   ],
   "source": [
    "run(\"data/qa_facom_dataset_train.json\", \"data/qa_facom_dataset_dev.json\");"
   ]
  }
 ],
 "metadata": {
  "kernelspec": {
   "display_name": "Python 3",
   "language": "python",
   "name": "python3"
  },
  "language_info": {
   "codemirror_mode": {
    "name": "ipython",
    "version": 3
   },
   "file_extension": ".py",
   "mimetype": "text/x-python",
   "name": "python",
   "nbconvert_exporter": "python",
   "pygments_lexer": "ipython3",
   "version": "3.6.2"
  }
 },
 "nbformat": 4,
 "nbformat_minor": 2
}
