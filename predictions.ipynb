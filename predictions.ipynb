{
 "cells": [
  {
   "cell_type": "code",
   "execution_count": 1,
   "metadata": {},
   "outputs": [
    {
     "name": "stdout",
     "output_type": "stream",
     "text": [
      "Better speed can be achieved with apex installed from https://www.github.com/nvidia/apex.\n"
     ]
    }
   ],
   "source": [
    "from aurelio.predictor import predict"
   ]
  },
  {
   "cell_type": "code",
   "execution_count": 3,
   "metadata": {},
   "outputs": [],
   "source": [
    "model_path = \"models/soa/model.tar.gz\"\n",
    "context = \"O sistema de bibliotecas da UFMS é regido pela Coordenadoria Biblioteca Central(CBC) localizado em Campo Grande, subordinado a Pró-reitoria de Ensino e Graduação(PREG) com bibliotecas setoriais em todos os campus do interior do estado. O acervo está disponível para consulta na internet através do sistema Pergamum, desenvolvido pela PUC-PR e PUC-Rio, acessível de qualquer computador dentro e fora da instituição onde é possível, também, fazer auto empréstimo, reservar livros, salas de estudo dentre outros serviços.\""
   ]
  },
  {
   "cell_type": "markdown",
   "metadata": {},
   "source": [
    "P: Através de qual sistema o acervo da biblioteca da UFMS está disponível para consulta na internet?\n",
    "R. Esperada: Pergamum"
   ]
  },
  {
   "cell_type": "code",
   "execution_count": 5,
   "metadata": {
    "scrolled": true
   },
   "outputs": [
    {
     "data": {
      "text/plain": [
       "'em todos os campus do interior do estado. O acervo está disponível para consulta na internet através do sistema Pergamum'"
      ]
     },
     "execution_count": 5,
     "metadata": {},
     "output_type": "execute_result"
    }
   ],
   "source": [
    "prediction = predict(model_path, context, \"Através de qual sistema o acervo da biblioteca da UFMS está disponível para consulta na internet?\")\n",
    "prediction[\"best_span_str\"]"
   ]
  },
  {
   "cell_type": "markdown",
   "metadata": {},
   "source": [
    "P: O Pergamum é acessível por quais computadores?\n",
    "R. Esperada: \"qualquer computador ou qualquer computador dentro e fora da instituição\""
   ]
  },
  {
   "cell_type": "code",
   "execution_count": 6,
   "metadata": {},
   "outputs": [
    {
     "data": {
      "text/plain": [
       "'qualquer computador dentro e fora da instituição onde é possível, também, fazer auto empréstimo, reservar livros, salas de estudo dentre outros serviços'"
      ]
     },
     "execution_count": 6,
     "metadata": {},
     "output_type": "execute_result"
    }
   ],
   "source": [
    "prediction = predict(model_path, context, \"O Pergamum é acessível por quais computadores?\")\n",
    "prediction[\"best_span_str\"]"
   ]
  },
  {
   "cell_type": "markdown",
   "metadata": {},
   "source": [
    "P: Onde se localiza a CBC?\n",
    "R. Esperada: \"Campo Grande\" ou \"em Campo Grande\" ou \"localizado em Campo Grande\""
   ]
  },
  {
   "cell_type": "code",
   "execution_count": 7,
   "metadata": {},
   "outputs": [
    {
     "data": {
      "text/plain": [
       "'Coordenadoria Biblioteca Central(CBC) localizado em Campo Grande, subordinado a Pró-reitoria de Ensino e Graduação(PREG) com bibliotecas setoriais em todos os campus do interior do estado. O acervo está disponível para consulta na internet através do sistema Pergamum'"
      ]
     },
     "execution_count": 7,
     "metadata": {},
     "output_type": "execute_result"
    }
   ],
   "source": [
    "prediction = predict(model_path, context, \"Onde se localiza a CBC?\")\n",
    "prediction[\"best_span_str\"]"
   ]
  },
  {
   "cell_type": "markdown",
   "metadata": {},
   "source": [
    "P: Por quem foi desenvolvido o Pergamum?\n",
    "R. Esperada: \"PUC-PR e PUC-Rio\""
   ]
  },
  {
   "cell_type": "code",
   "execution_count": 8,
   "metadata": {},
   "outputs": [
    {
     "data": {
      "text/plain": [
       "'PUC-PR e PUC-Rio'"
      ]
     },
     "execution_count": 8,
     "metadata": {},
     "output_type": "execute_result"
    }
   ],
   "source": [
    "prediction = predict(model_path, context, \"Por quem foi desenvolvido o Pergamum?\")\n",
    "prediction[\"best_span_str\"]"
   ]
  },
  {
   "cell_type": "markdown",
   "metadata": {},
   "source": [
    "P: Por quem é regido o sistema de bibliotecas da UFMS?\n",
    "R. Esperada: \"CBC\" ou \"Coordenadoria Biblioteca Central\" ou \"pela Coordenadoria Biblioteca Central(CBC)\""
   ]
  },
  {
   "cell_type": "code",
   "execution_count": 9,
   "metadata": {},
   "outputs": [
    {
     "data": {
      "text/plain": [
       "'PUC-PR e PUC-Rio'"
      ]
     },
     "execution_count": 9,
     "metadata": {},
     "output_type": "execute_result"
    }
   ],
   "source": [
    "prediction = predict(model_path, context, \"Por quem é regido o sistema de bibliotecas da UFMS?\")\n",
    "prediction[\"best_span_str\"]"
   ]
  }
 ],
 "metadata": {
  "kernelspec": {
   "display_name": "Python 3",
   "language": "python",
   "name": "python3"
  },
  "language_info": {
   "codemirror_mode": {
    "name": "ipython",
    "version": 3
   },
   "file_extension": ".py",
   "mimetype": "text/x-python",
   "name": "python",
   "nbconvert_exporter": "python",
   "pygments_lexer": "ipython3",
   "version": "3.6.2"
  }
 },
 "nbformat": 4,
 "nbformat_minor": 2
}
