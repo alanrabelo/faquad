{
 "cells": [
  {
   "cell_type": "code",
   "execution_count": 10,
   "metadata": {},
   "outputs": [],
   "source": [
    "from aurelio.plotter import plot, plot_single_fold, get_means_and_stdev\n",
    "from plotly.offline import init_notebook_mode\n",
    "import os"
   ]
  },
  {
   "cell_type": "code",
   "execution_count": 2,
   "metadata": {},
   "outputs": [
    {
     "data": {
      "text/html": [
       "<script type=\"text/javascript\">window.PlotlyConfig = {MathJaxConfig: 'local'};</script><script type=\"text/javascript\">if (window.MathJax) {MathJax.Hub.Config({SVG: {font: \"STIX-Web\"}});}</script><script>requirejs.config({paths: { 'plotly': ['https://cdn.plot.ly/plotly-latest.min']},});if(!window._Plotly) {require(['plotly'],function(plotly) {window._Plotly=plotly;});}</script>"
      ],
      "text/vnd.plotly.v1+html": [
       "<script type=\"text/javascript\">window.PlotlyConfig = {MathJaxConfig: 'local'};</script><script type=\"text/javascript\">if (window.MathJax) {MathJax.Hub.Config({SVG: {font: \"STIX-Web\"}});}</script><script>requirejs.config({paths: { 'plotly': ['https://cdn.plot.ly/plotly-latest.min']},});if(!window._Plotly) {require(['plotly'],function(plotly) {window._Plotly=plotly;});}</script>"
      ]
     },
     "metadata": {},
     "output_type": "display_data"
    }
   ],
   "source": [
    "init_notebook_mode(connected=True)"
   ]
  },
  {
   "cell_type": "markdown",
   "metadata": {},
   "source": [
    "### Curvas de Aprendizado utilizando K-fold com ELMo, Word Embeddings de 600 dimensões e respostas adicionais para treino e dev."
   ]
  },
  {
   "cell_type": "code",
   "execution_count": 3,
   "metadata": {
    "scrolled": false
   },
   "outputs": [
    {
     "data": {
      "application/vnd.plotly.v1+json": {
       "config": {
        "linkText": "Export to plot.ly",
        "plotlyServerURL": "https://plot.ly",
        "showLink": false
       },
       "data": [
        {
         "line": {
          "color": "rgb(163,218,151)"
         },
         "mode": "lines",
         "name": "Training F1",
         "type": "scatter",
         "uid": "7274ba33-0205-467e-a8f0-a14dea330c93",
         "x": [
          "10",
          "25",
          "50",
          "75",
          "100"
         ],
         "y": [
          0.60882656114281,
          0.7281467764237509,
          0.9094886745845082,
          0.9758806752021989,
          0.9812976621554484
         ]
        },
        {
         "line": {
          "color": "rgb(255,122,101)"
         },
         "mode": "lines",
         "name": "Validation F1",
         "type": "scatter",
         "uid": "db2c1cb9-3f21-4a33-a980-6a960c40fda1",
         "x": [
          "10",
          "25",
          "50",
          "75",
          "100"
         ],
         "y": [
          0.19681136344652087,
          0.19910399885155505,
          0.24383457860925073,
          0.30732134456615695,
          0.35486873071151803
         ]
        },
        {
         "fillcolor": "rgba(163,218,151,0.2)",
         "line": {
          "color": "rgba(255,255,255,0)"
         },
         "showlegend": false,
         "type": "scatter",
         "uid": "bce7363c-d89a-47c1-ac9a-c55467ff6352",
         "x": [
          "10",
          "25",
          "50",
          "75",
          "100"
         ],
         "y": [
          0.8478620091188187,
          0.9653140347809087,
          1.075950123616768,
          0.9788259808369756,
          0.9852485481128231
         ]
        },
        {
         "fill": "tonexty",
         "fillcolor": "rgba(163,218,151,0.2)",
         "line": {
          "color": "rgba(255,255,255,0)"
         },
         "name": "Training SD",
         "type": "scatter",
         "uid": "ca65e6bd-5b1b-4f37-93b4-a3cc400f8a58",
         "x": [
          "10",
          "25",
          "50",
          "75",
          "100"
         ],
         "y": [
          0.3697911131668012,
          0.4909795180665931,
          0.7430272255522485,
          0.9729353695674222,
          0.9773467761980738
         ]
        },
        {
         "fillcolor": "rgba(255,122,101,0.2)",
         "line": {
          "color": "rgba(255,255,255,0)"
         },
         "showlegend": false,
         "type": "scatter",
         "uid": "f43201fb-79f3-402d-89e8-db48d2ae8c45",
         "x": [
          "10",
          "25",
          "50",
          "75",
          "100"
         ],
         "y": [
          0.16872973010188788,
          0.16511521816504598,
          0.19531337230813617,
          0.2700086952598011,
          0.31188762299469486
         ]
        },
        {
         "fill": "tonexty",
         "fillcolor": "rgba(255,122,101,0.2)",
         "line": {
          "color": "rgba(255,255,255,0)"
         },
         "name": "Validation SD",
         "type": "scatter",
         "uid": "2f923269-41cd-457b-9de8-0f86d34cf33d",
         "x": [
          "10",
          "25",
          "50",
          "75",
          "100"
         ],
         "y": [
          0.22489299679115385,
          0.23309277953806412,
          0.2923557849103653,
          0.3446339938725128,
          0.3978498384283412
         ]
        },
        {
         "line": {
          "color": "rgb(163,218,151)",
          "dash": "dash"
         },
         "mode": "lines",
         "name": "Training EM",
         "type": "scatter",
         "uid": "b04c6d00-6c9d-4e83-9878-ccd7afd616e8",
         "x": [
          "10",
          "25",
          "50",
          "75",
          "100"
         ],
         "y": [
          0.5108448510338685,
          0.6480720907471885,
          0.8664611617122713,
          0.9434064029764392,
          0.9499999144065057
         ]
        },
        {
         "line": {
          "color": "rgb(255,122,101)",
          "dash": "dash"
         },
         "mode": "lines",
         "name": "Validation EM",
         "type": "scatter",
         "uid": "f20632a2-9a20-4441-8e80-ec8b95a21cef",
         "x": [
          "10",
          "25",
          "50",
          "75",
          "100"
         ],
         "y": [
          0.04892004547176961,
          0.051180581870237045,
          0.08352279904004042,
          0.13103195654919794,
          0.1733880678708265
         ]
        },
        {
         "fillcolor": "rgba(163,218,151,0.2)",
         "line": {
          "color": "rgba(255,255,255,0)"
         },
         "showlegend": false,
         "type": "scatter",
         "uid": "61ea37e1-5ab7-447b-85a7-9dd3ae1b6d01",
         "x": [
          "10",
          "25",
          "50",
          "75",
          "100"
         ],
         "y": [
          0.7872225877078133,
          0.9342315788688955,
          1.0595741303035113,
          0.9506995841368544,
          0.9554680181537776
         ]
        },
        {
         "fill": "tonexty",
         "fillcolor": "rgba(163,218,151,0.2)",
         "line": {
          "color": "rgba(255,255,255,0)"
         },
         "name": "Training EM SD",
         "showlegend": false,
         "type": "scatter",
         "uid": "d4678173-1dd1-4438-8ff1-4eefd91e6f4f",
         "x": [
          "10",
          "25",
          "50",
          "75",
          "100"
         ],
         "y": [
          0.23446711435992362,
          0.36191260262548147,
          0.6733481931210312,
          0.936113221816024,
          0.9445318106592338
         ]
        },
        {
         "fillcolor": "rgba(255,122,101,0.2)",
         "line": {
          "color": "rgba(255,255,255,0)"
         },
         "showlegend": false,
         "type": "scatter",
         "uid": "c414d326-5590-40ff-968e-99eaba8db9d8",
         "x": [
          "10",
          "25",
          "50",
          "75",
          "100"
         ],
         "y": [
          0.03390059833283663,
          0.024841852018934456,
          0.05311860613844242,
          0.10115558366896259,
          0.14723099170778087
         ]
        },
        {
         "fill": "tonexty",
         "fillcolor": "rgba(255,122,101,0.2)",
         "line": {
          "color": "rgba(255,255,255,0)"
         },
         "name": "Validation EM SD",
         "showlegend": false,
         "type": "scatter",
         "uid": "66b082ab-d1d1-4304-a4a3-cf33f8a07dbb",
         "x": [
          "10",
          "25",
          "50",
          "75",
          "100"
         ],
         "y": [
          0.0639394926107026,
          0.07751931172153964,
          0.11392699194163843,
          0.1609083294294333,
          0.19954514403387213
         ]
        }
       ],
       "layout": {
        "title": {
         "text": ""
        },
        "xaxis": {
         "title": {
          "text": "Training Samples Amount (in %)"
         }
        },
        "yaxis": {
         "title": {
          "text": "Score"
         }
        }
       }
      },
      "text/html": [
       "<div id=\"aeb3fcd2-2e37-4e07-8083-9a9af392ee54\" style=\"height: 525px; width: 100%;\" class=\"plotly-graph-div\"></div><script type=\"text/javascript\">require([\"plotly\"], function(Plotly) { window.PLOTLYENV=window.PLOTLYENV || {};window.PLOTLYENV.BASE_URL=\"https://plot.ly\";\n",
       "if (document.getElementById(\"aeb3fcd2-2e37-4e07-8083-9a9af392ee54\")) {\n",
       "    Plotly.newPlot(\"aeb3fcd2-2e37-4e07-8083-9a9af392ee54\", [{\"line\": {\"color\": \"rgb(163,218,151)\"}, \"mode\": \"lines\", \"name\": \"Training F1\", \"x\": [\"10\", \"25\", \"50\", \"75\", \"100\"], \"y\": [0.60882656114281, 0.7281467764237509, 0.9094886745845082, 0.9758806752021989, 0.9812976621554484], \"type\": \"scatter\", \"uid\": \"7274ba33-0205-467e-a8f0-a14dea330c93\"}, {\"line\": {\"color\": \"rgb(255,122,101)\"}, \"mode\": \"lines\", \"name\": \"Validation F1\", \"x\": [\"10\", \"25\", \"50\", \"75\", \"100\"], \"y\": [0.19681136344652087, 0.19910399885155505, 0.24383457860925073, 0.30732134456615695, 0.35486873071151803], \"type\": \"scatter\", \"uid\": \"db2c1cb9-3f21-4a33-a980-6a960c40fda1\"}, {\"fillcolor\": \"rgba(163,218,151,0.2)\", \"line\": {\"color\": \"rgba(255,255,255,0)\"}, \"showlegend\": false, \"x\": [\"10\", \"25\", \"50\", \"75\", \"100\"], \"y\": [0.8478620091188187, 0.9653140347809087, 1.075950123616768, 0.9788259808369756, 0.9852485481128231], \"type\": \"scatter\", \"uid\": \"bce7363c-d89a-47c1-ac9a-c55467ff6352\"}, {\"fill\": \"tonexty\", \"fillcolor\": \"rgba(163,218,151,0.2)\", \"line\": {\"color\": \"rgba(255,255,255,0)\"}, \"name\": \"Training SD\", \"x\": [\"10\", \"25\", \"50\", \"75\", \"100\"], \"y\": [0.3697911131668012, 0.4909795180665931, 0.7430272255522485, 0.9729353695674222, 0.9773467761980738], \"type\": \"scatter\", \"uid\": \"ca65e6bd-5b1b-4f37-93b4-a3cc400f8a58\"}, {\"fillcolor\": \"rgba(255,122,101,0.2)\", \"line\": {\"color\": \"rgba(255,255,255,0)\"}, \"showlegend\": false, \"x\": [\"10\", \"25\", \"50\", \"75\", \"100\"], \"y\": [0.16872973010188788, 0.16511521816504598, 0.19531337230813617, 0.2700086952598011, 0.31188762299469486], \"type\": \"scatter\", \"uid\": \"f43201fb-79f3-402d-89e8-db48d2ae8c45\"}, {\"fill\": \"tonexty\", \"fillcolor\": \"rgba(255,122,101,0.2)\", \"line\": {\"color\": \"rgba(255,255,255,0)\"}, \"name\": \"Validation SD\", \"x\": [\"10\", \"25\", \"50\", \"75\", \"100\"], \"y\": [0.22489299679115385, 0.23309277953806412, 0.2923557849103653, 0.3446339938725128, 0.3978498384283412], \"type\": \"scatter\", \"uid\": \"2f923269-41cd-457b-9de8-0f86d34cf33d\"}, {\"line\": {\"color\": \"rgb(163,218,151)\", \"dash\": \"dash\"}, \"mode\": \"lines\", \"name\": \"Training EM\", \"x\": [\"10\", \"25\", \"50\", \"75\", \"100\"], \"y\": [0.5108448510338685, 0.6480720907471885, 0.8664611617122713, 0.9434064029764392, 0.9499999144065057], \"type\": \"scatter\", \"uid\": \"b04c6d00-6c9d-4e83-9878-ccd7afd616e8\"}, {\"line\": {\"color\": \"rgb(255,122,101)\", \"dash\": \"dash\"}, \"mode\": \"lines\", \"name\": \"Validation EM\", \"x\": [\"10\", \"25\", \"50\", \"75\", \"100\"], \"y\": [0.04892004547176961, 0.051180581870237045, 0.08352279904004042, 0.13103195654919794, 0.1733880678708265], \"type\": \"scatter\", \"uid\": \"f20632a2-9a20-4441-8e80-ec8b95a21cef\"}, {\"fillcolor\": \"rgba(163,218,151,0.2)\", \"line\": {\"color\": \"rgba(255,255,255,0)\"}, \"showlegend\": false, \"x\": [\"10\", \"25\", \"50\", \"75\", \"100\"], \"y\": [0.7872225877078133, 0.9342315788688955, 1.0595741303035113, 0.9506995841368544, 0.9554680181537776], \"type\": \"scatter\", \"uid\": \"61ea37e1-5ab7-447b-85a7-9dd3ae1b6d01\"}, {\"fill\": \"tonexty\", \"fillcolor\": \"rgba(163,218,151,0.2)\", \"line\": {\"color\": \"rgba(255,255,255,0)\"}, \"name\": \"Training EM SD\", \"showlegend\": false, \"x\": [\"10\", \"25\", \"50\", \"75\", \"100\"], \"y\": [0.23446711435992362, 0.36191260262548147, 0.6733481931210312, 0.936113221816024, 0.9445318106592338], \"type\": \"scatter\", \"uid\": \"d4678173-1dd1-4438-8ff1-4eefd91e6f4f\"}, {\"fillcolor\": \"rgba(255,122,101,0.2)\", \"line\": {\"color\": \"rgba(255,255,255,0)\"}, \"showlegend\": false, \"x\": [\"10\", \"25\", \"50\", \"75\", \"100\"], \"y\": [0.03390059833283663, 0.024841852018934456, 0.05311860613844242, 0.10115558366896259, 0.14723099170778087], \"type\": \"scatter\", \"uid\": \"c414d326-5590-40ff-968e-99eaba8db9d8\"}, {\"fill\": \"tonexty\", \"fillcolor\": \"rgba(255,122,101,0.2)\", \"line\": {\"color\": \"rgba(255,255,255,0)\"}, \"name\": \"Validation EM SD\", \"showlegend\": false, \"x\": [\"10\", \"25\", \"50\", \"75\", \"100\"], \"y\": [0.0639394926107026, 0.07751931172153964, 0.11392699194163843, 0.1609083294294333, 0.19954514403387213], \"type\": \"scatter\", \"uid\": \"66b082ab-d1d1-4304-a4a3-cf33f8a07dbb\"}], {\"title\": {\"text\": \"\"}, \"xaxis\": {\"title\": {\"text\": \"Training Samples Amount (in %)\"}}, \"yaxis\": {\"title\": {\"text\": \"Score\"}}}, {\"showLink\": false, \"linkText\": \"Export to plot.ly\", \"plotlyServerURL\": \"https://plot.ly\"}); \n",
       "}\n",
       "});</script><script type=\"text/javascript\">window.addEventListener(\"resize\", function(){if (document.getElementById(\"aeb3fcd2-2e37-4e07-8083-9a9af392ee54\")) {window._Plotly.Plots.resize(document.getElementById(\"aeb3fcd2-2e37-4e07-8083-9a9af392ee54\"));};})</script>"
      ],
      "text/vnd.plotly.v1+html": [
       "<div id=\"aeb3fcd2-2e37-4e07-8083-9a9af392ee54\" style=\"height: 525px; width: 100%;\" class=\"plotly-graph-div\"></div><script type=\"text/javascript\">require([\"plotly\"], function(Plotly) { window.PLOTLYENV=window.PLOTLYENV || {};window.PLOTLYENV.BASE_URL=\"https://plot.ly\";\n",
       "if (document.getElementById(\"aeb3fcd2-2e37-4e07-8083-9a9af392ee54\")) {\n",
       "    Plotly.newPlot(\"aeb3fcd2-2e37-4e07-8083-9a9af392ee54\", [{\"line\": {\"color\": \"rgb(163,218,151)\"}, \"mode\": \"lines\", \"name\": \"Training F1\", \"x\": [\"10\", \"25\", \"50\", \"75\", \"100\"], \"y\": [0.60882656114281, 0.7281467764237509, 0.9094886745845082, 0.9758806752021989, 0.9812976621554484], \"type\": \"scatter\", \"uid\": \"7274ba33-0205-467e-a8f0-a14dea330c93\"}, {\"line\": {\"color\": \"rgb(255,122,101)\"}, \"mode\": \"lines\", \"name\": \"Validation F1\", \"x\": [\"10\", \"25\", \"50\", \"75\", \"100\"], \"y\": [0.19681136344652087, 0.19910399885155505, 0.24383457860925073, 0.30732134456615695, 0.35486873071151803], \"type\": \"scatter\", \"uid\": \"db2c1cb9-3f21-4a33-a980-6a960c40fda1\"}, {\"fillcolor\": \"rgba(163,218,151,0.2)\", \"line\": {\"color\": \"rgba(255,255,255,0)\"}, \"showlegend\": false, \"x\": [\"10\", \"25\", \"50\", \"75\", \"100\"], \"y\": [0.8478620091188187, 0.9653140347809087, 1.075950123616768, 0.9788259808369756, 0.9852485481128231], \"type\": \"scatter\", \"uid\": \"bce7363c-d89a-47c1-ac9a-c55467ff6352\"}, {\"fill\": \"tonexty\", \"fillcolor\": \"rgba(163,218,151,0.2)\", \"line\": {\"color\": \"rgba(255,255,255,0)\"}, \"name\": \"Training SD\", \"x\": [\"10\", \"25\", \"50\", \"75\", \"100\"], \"y\": [0.3697911131668012, 0.4909795180665931, 0.7430272255522485, 0.9729353695674222, 0.9773467761980738], \"type\": \"scatter\", \"uid\": \"ca65e6bd-5b1b-4f37-93b4-a3cc400f8a58\"}, {\"fillcolor\": \"rgba(255,122,101,0.2)\", \"line\": {\"color\": \"rgba(255,255,255,0)\"}, \"showlegend\": false, \"x\": [\"10\", \"25\", \"50\", \"75\", \"100\"], \"y\": [0.16872973010188788, 0.16511521816504598, 0.19531337230813617, 0.2700086952598011, 0.31188762299469486], \"type\": \"scatter\", \"uid\": \"f43201fb-79f3-402d-89e8-db48d2ae8c45\"}, {\"fill\": \"tonexty\", \"fillcolor\": \"rgba(255,122,101,0.2)\", \"line\": {\"color\": \"rgba(255,255,255,0)\"}, \"name\": \"Validation SD\", \"x\": [\"10\", \"25\", \"50\", \"75\", \"100\"], \"y\": [0.22489299679115385, 0.23309277953806412, 0.2923557849103653, 0.3446339938725128, 0.3978498384283412], \"type\": \"scatter\", \"uid\": \"2f923269-41cd-457b-9de8-0f86d34cf33d\"}, {\"line\": {\"color\": \"rgb(163,218,151)\", \"dash\": \"dash\"}, \"mode\": \"lines\", \"name\": \"Training EM\", \"x\": [\"10\", \"25\", \"50\", \"75\", \"100\"], \"y\": [0.5108448510338685, 0.6480720907471885, 0.8664611617122713, 0.9434064029764392, 0.9499999144065057], \"type\": \"scatter\", \"uid\": \"b04c6d00-6c9d-4e83-9878-ccd7afd616e8\"}, {\"line\": {\"color\": \"rgb(255,122,101)\", \"dash\": \"dash\"}, \"mode\": \"lines\", \"name\": \"Validation EM\", \"x\": [\"10\", \"25\", \"50\", \"75\", \"100\"], \"y\": [0.04892004547176961, 0.051180581870237045, 0.08352279904004042, 0.13103195654919794, 0.1733880678708265], \"type\": \"scatter\", \"uid\": \"f20632a2-9a20-4441-8e80-ec8b95a21cef\"}, {\"fillcolor\": \"rgba(163,218,151,0.2)\", \"line\": {\"color\": \"rgba(255,255,255,0)\"}, \"showlegend\": false, \"x\": [\"10\", \"25\", \"50\", \"75\", \"100\"], \"y\": [0.7872225877078133, 0.9342315788688955, 1.0595741303035113, 0.9506995841368544, 0.9554680181537776], \"type\": \"scatter\", \"uid\": \"61ea37e1-5ab7-447b-85a7-9dd3ae1b6d01\"}, {\"fill\": \"tonexty\", \"fillcolor\": \"rgba(163,218,151,0.2)\", \"line\": {\"color\": \"rgba(255,255,255,0)\"}, \"name\": \"Training EM SD\", \"showlegend\": false, \"x\": [\"10\", \"25\", \"50\", \"75\", \"100\"], \"y\": [0.23446711435992362, 0.36191260262548147, 0.6733481931210312, 0.936113221816024, 0.9445318106592338], \"type\": \"scatter\", \"uid\": \"d4678173-1dd1-4438-8ff1-4eefd91e6f4f\"}, {\"fillcolor\": \"rgba(255,122,101,0.2)\", \"line\": {\"color\": \"rgba(255,255,255,0)\"}, \"showlegend\": false, \"x\": [\"10\", \"25\", \"50\", \"75\", \"100\"], \"y\": [0.03390059833283663, 0.024841852018934456, 0.05311860613844242, 0.10115558366896259, 0.14723099170778087], \"type\": \"scatter\", \"uid\": \"c414d326-5590-40ff-968e-99eaba8db9d8\"}, {\"fill\": \"tonexty\", \"fillcolor\": \"rgba(255,122,101,0.2)\", \"line\": {\"color\": \"rgba(255,255,255,0)\"}, \"name\": \"Validation EM SD\", \"showlegend\": false, \"x\": [\"10\", \"25\", \"50\", \"75\", \"100\"], \"y\": [0.0639394926107026, 0.07751931172153964, 0.11392699194163843, 0.1609083294294333, 0.19954514403387213], \"type\": \"scatter\", \"uid\": \"66b082ab-d1d1-4304-a4a3-cf33f8a07dbb\"}], {\"title\": {\"text\": \"\"}, \"xaxis\": {\"title\": {\"text\": \"Training Samples Amount (in %)\"}}, \"yaxis\": {\"title\": {\"text\": \"Score\"}}}, {\"showLink\": false, \"linkText\": \"Export to plot.ly\", \"plotlyServerURL\": \"https://plot.ly\"}); \n",
       "}\n",
       "});</script><script type=\"text/javascript\">window.addEventListener(\"resize\", function(){if (document.getElementById(\"aeb3fcd2-2e37-4e07-8083-9a9af392ee54\")) {window._Plotly.Plots.resize(document.getElementById(\"aeb3fcd2-2e37-4e07-8083-9a9af392ee54\"));};})</script>"
      ]
     },
     "metadata": {},
     "output_type": "display_data"
    }
   ],
   "source": [
    "metrics_elmo_path = \"{}/metrics/elmo\".format(os.getcwd())\n",
    "plot(metrics_elmo_path)\n",
    "# metrics_elmo_path"
   ]
  },
  {
   "cell_type": "markdown",
   "metadata": {},
   "source": [
    "### Curvas de Aprendizado utilizando K-fold sem ELMo, Word Embeddings de 600 dimensões e respostas adicionais para treino e dev."
   ]
  },
  {
   "cell_type": "code",
   "execution_count": 4,
   "metadata": {
    "scrolled": false
   },
   "outputs": [
    {
     "data": {
      "application/vnd.plotly.v1+json": {
       "config": {
        "linkText": "Export to plot.ly",
        "plotlyServerURL": "https://plot.ly",
        "showLink": false
       },
       "data": [
        {
         "line": {
          "color": "rgb(163,218,151)"
         },
         "mode": "lines",
         "name": "Training F1",
         "type": "scatter",
         "uid": "91dd9792-6d8a-4667-9379-311b23d2db34",
         "x": [
          "10",
          "25",
          "50",
          "75",
          "100"
         ],
         "y": [
          0.2933603733749407,
          0.42626118846149635,
          0.5746978039267543,
          0.865585195408065,
          0.9628123133624085
         ]
        },
        {
         "line": {
          "color": "rgb(255,122,101)"
         },
         "mode": "lines",
         "name": "Validation F1",
         "type": "scatter",
         "uid": "89333735-5ecf-4100-9b8a-41f308e47ba2",
         "x": [
          "10",
          "25",
          "50",
          "75",
          "100"
         ],
         "y": [
          0.17095290977194816,
          0.17823845186440113,
          0.1989521134216075,
          0.2517238643475064,
          0.3256526534886361
         ]
        },
        {
         "fillcolor": "rgba(163,218,151,0.2)",
         "line": {
          "color": "rgba(255,255,255,0)"
         },
         "showlegend": false,
         "type": "scatter",
         "uid": "0605d4d1-6cf5-42f3-9a52-fc7c06d863a6",
         "x": [
          "10",
          "25",
          "50",
          "75",
          "100"
         ],
         "y": [
          0.3514792983266001,
          0.5837303187478586,
          0.8179100387294705,
          0.9766695844106746,
          0.9755473477116077
         ]
        },
        {
         "fill": "tonexty",
         "fillcolor": "rgba(163,218,151,0.2)",
         "line": {
          "color": "rgba(255,255,255,0)"
         },
         "name": "Training SD",
         "type": "scatter",
         "uid": "c75f3b9c-1d90-4a59-b639-0cdfd0594a66",
         "x": [
          "10",
          "25",
          "50",
          "75",
          "100"
         ],
         "y": [
          0.2352414484232813,
          0.26879205817513413,
          0.33148556912403804,
          0.7545008064054554,
          0.9500772790132093
         ]
        },
        {
         "fillcolor": "rgba(255,122,101,0.2)",
         "line": {
          "color": "rgba(255,255,255,0)"
         },
         "showlegend": false,
         "type": "scatter",
         "uid": "896efd13-e146-4b49-a43c-9a1510e84a54",
         "x": [
          "10",
          "25",
          "50",
          "75",
          "100"
         ],
         "y": [
          0.14907449039284162,
          0.1522418509980022,
          0.1569968199176485,
          0.21640193742713543,
          0.2976120465063673
         ]
        },
        {
         "fill": "tonexty",
         "fillcolor": "rgba(255,122,101,0.2)",
         "line": {
          "color": "rgba(255,255,255,0)"
         },
         "name": "Validation SD",
         "type": "scatter",
         "uid": "ae1a8a4e-f257-4995-954b-13551afa54b9",
         "x": [
          "10",
          "25",
          "50",
          "75",
          "100"
         ],
         "y": [
          0.1928313291510547,
          0.20423505273080006,
          0.24090740692556653,
          0.2870457912678773,
          0.3536932604709049
         ]
        },
        {
         "line": {
          "color": "rgb(163,218,151)",
          "dash": "dash"
         },
         "mode": "lines",
         "name": "Training EM",
         "type": "scatter",
         "uid": "4a55b55e-aab2-4433-9bdb-0fd4cd009604",
         "x": [
          "10",
          "25",
          "50",
          "75",
          "100"
         ],
         "y": [
          0.14887253991111135,
          0.3050783518373385,
          0.4540437568258438,
          0.7757184429567977,
          0.9143278204928733
         ]
        },
        {
         "line": {
          "color": "rgb(255,122,101)",
          "dash": "dash"
         },
         "mode": "lines",
         "name": "Validation EM",
         "type": "scatter",
         "uid": "5ad8b9e9-d0a9-489c-b328-b938ad30014d",
         "x": [
          "10",
          "25",
          "50",
          "75",
          "100"
         ],
         "y": [
          0.027795040208833312,
          0.04335059576438887,
          0.04556060797440108,
          0.09325965222516946,
          0.12550966275104206
         ]
        },
        {
         "fillcolor": "rgba(163,218,151,0.2)",
         "line": {
          "color": "rgba(255,255,255,0)"
         },
         "showlegend": false,
         "type": "scatter",
         "uid": "fef54e1f-e036-4493-ad2a-4380ec0ec58e",
         "x": [
          "10",
          "25",
          "50",
          "75",
          "100"
         ],
         "y": [
          0.216923168402664,
          0.4701062746420327,
          0.7384954434124456,
          0.9252720515194628,
          0.9378310893348002
         ]
        },
        {
         "fill": "tonexty",
         "fillcolor": "rgba(163,218,151,0.2)",
         "line": {
          "color": "rgba(255,255,255,0)"
         },
         "name": "Training EM SD",
         "showlegend": false,
         "type": "scatter",
         "uid": "c9b0875b-6333-40d1-8e8c-e4833e650ef0",
         "x": [
          "10",
          "25",
          "50",
          "75",
          "100"
         ],
         "y": [
          0.0808219114195587,
          0.1400504290326443,
          0.169592070239242,
          0.6261648343941326,
          0.8908245516509464
         ]
        },
        {
         "fillcolor": "rgba(255,122,101,0.2)",
         "line": {
          "color": "rgba(255,255,255,0)"
         },
         "showlegend": false,
         "type": "scatter",
         "uid": "2e9ffd28-d6ad-44ca-ad3e-5344e59b1dbb",
         "x": [
          "10",
          "25",
          "50",
          "75",
          "100"
         ],
         "y": [
          0.01829966098147112,
          0.028111610222108112,
          0.01310872049251692,
          0.062483293619438884,
          0.10765465085240172
         ]
        },
        {
         "fill": "tonexty",
         "fillcolor": "rgba(255,122,101,0.2)",
         "line": {
          "color": "rgba(255,255,255,0)"
         },
         "name": "Validation EM SD",
         "showlegend": false,
         "type": "scatter",
         "uid": "3fa8e070-ffe1-4fbe-8ec5-d55576626fba",
         "x": [
          "10",
          "25",
          "50",
          "75",
          "100"
         ],
         "y": [
          0.0372904194361955,
          0.05858958130666963,
          0.07801249545628523,
          0.12403601083090005,
          0.1433646746496824
         ]
        }
       ],
       "layout": {
        "title": {
         "text": ""
        },
        "xaxis": {
         "title": {
          "text": "Training Samples Amount (in %)"
         }
        },
        "yaxis": {
         "title": {
          "text": "Score"
         }
        }
       }
      },
      "text/html": [
       "<div id=\"1165e566-c577-4f62-b167-9c94ed1edf33\" style=\"height: 525px; width: 100%;\" class=\"plotly-graph-div\"></div><script type=\"text/javascript\">require([\"plotly\"], function(Plotly) { window.PLOTLYENV=window.PLOTLYENV || {};window.PLOTLYENV.BASE_URL=\"https://plot.ly\";\n",
       "if (document.getElementById(\"1165e566-c577-4f62-b167-9c94ed1edf33\")) {\n",
       "    Plotly.newPlot(\"1165e566-c577-4f62-b167-9c94ed1edf33\", [{\"line\": {\"color\": \"rgb(163,218,151)\"}, \"mode\": \"lines\", \"name\": \"Training F1\", \"x\": [\"10\", \"25\", \"50\", \"75\", \"100\"], \"y\": [0.2933603733749407, 0.42626118846149635, 0.5746978039267543, 0.865585195408065, 0.9628123133624085], \"type\": \"scatter\", \"uid\": \"91dd9792-6d8a-4667-9379-311b23d2db34\"}, {\"line\": {\"color\": \"rgb(255,122,101)\"}, \"mode\": \"lines\", \"name\": \"Validation F1\", \"x\": [\"10\", \"25\", \"50\", \"75\", \"100\"], \"y\": [0.17095290977194816, 0.17823845186440113, 0.1989521134216075, 0.2517238643475064, 0.3256526534886361], \"type\": \"scatter\", \"uid\": \"89333735-5ecf-4100-9b8a-41f308e47ba2\"}, {\"fillcolor\": \"rgba(163,218,151,0.2)\", \"line\": {\"color\": \"rgba(255,255,255,0)\"}, \"showlegend\": false, \"x\": [\"10\", \"25\", \"50\", \"75\", \"100\"], \"y\": [0.3514792983266001, 0.5837303187478586, 0.8179100387294705, 0.9766695844106746, 0.9755473477116077], \"type\": \"scatter\", \"uid\": \"0605d4d1-6cf5-42f3-9a52-fc7c06d863a6\"}, {\"fill\": \"tonexty\", \"fillcolor\": \"rgba(163,218,151,0.2)\", \"line\": {\"color\": \"rgba(255,255,255,0)\"}, \"name\": \"Training SD\", \"x\": [\"10\", \"25\", \"50\", \"75\", \"100\"], \"y\": [0.2352414484232813, 0.26879205817513413, 0.33148556912403804, 0.7545008064054554, 0.9500772790132093], \"type\": \"scatter\", \"uid\": \"c75f3b9c-1d90-4a59-b639-0cdfd0594a66\"}, {\"fillcolor\": \"rgba(255,122,101,0.2)\", \"line\": {\"color\": \"rgba(255,255,255,0)\"}, \"showlegend\": false, \"x\": [\"10\", \"25\", \"50\", \"75\", \"100\"], \"y\": [0.14907449039284162, 0.1522418509980022, 0.1569968199176485, 0.21640193742713543, 0.2976120465063673], \"type\": \"scatter\", \"uid\": \"896efd13-e146-4b49-a43c-9a1510e84a54\"}, {\"fill\": \"tonexty\", \"fillcolor\": \"rgba(255,122,101,0.2)\", \"line\": {\"color\": \"rgba(255,255,255,0)\"}, \"name\": \"Validation SD\", \"x\": [\"10\", \"25\", \"50\", \"75\", \"100\"], \"y\": [0.1928313291510547, 0.20423505273080006, 0.24090740692556653, 0.2870457912678773, 0.3536932604709049], \"type\": \"scatter\", \"uid\": \"ae1a8a4e-f257-4995-954b-13551afa54b9\"}, {\"line\": {\"color\": \"rgb(163,218,151)\", \"dash\": \"dash\"}, \"mode\": \"lines\", \"name\": \"Training EM\", \"x\": [\"10\", \"25\", \"50\", \"75\", \"100\"], \"y\": [0.14887253991111135, 0.3050783518373385, 0.4540437568258438, 0.7757184429567977, 0.9143278204928733], \"type\": \"scatter\", \"uid\": \"4a55b55e-aab2-4433-9bdb-0fd4cd009604\"}, {\"line\": {\"color\": \"rgb(255,122,101)\", \"dash\": \"dash\"}, \"mode\": \"lines\", \"name\": \"Validation EM\", \"x\": [\"10\", \"25\", \"50\", \"75\", \"100\"], \"y\": [0.027795040208833312, 0.04335059576438887, 0.04556060797440108, 0.09325965222516946, 0.12550966275104206], \"type\": \"scatter\", \"uid\": \"5ad8b9e9-d0a9-489c-b328-b938ad30014d\"}, {\"fillcolor\": \"rgba(163,218,151,0.2)\", \"line\": {\"color\": \"rgba(255,255,255,0)\"}, \"showlegend\": false, \"x\": [\"10\", \"25\", \"50\", \"75\", \"100\"], \"y\": [0.216923168402664, 0.4701062746420327, 0.7384954434124456, 0.9252720515194628, 0.9378310893348002], \"type\": \"scatter\", \"uid\": \"fef54e1f-e036-4493-ad2a-4380ec0ec58e\"}, {\"fill\": \"tonexty\", \"fillcolor\": \"rgba(163,218,151,0.2)\", \"line\": {\"color\": \"rgba(255,255,255,0)\"}, \"name\": \"Training EM SD\", \"showlegend\": false, \"x\": [\"10\", \"25\", \"50\", \"75\", \"100\"], \"y\": [0.0808219114195587, 0.1400504290326443, 0.169592070239242, 0.6261648343941326, 0.8908245516509464], \"type\": \"scatter\", \"uid\": \"c9b0875b-6333-40d1-8e8c-e4833e650ef0\"}, {\"fillcolor\": \"rgba(255,122,101,0.2)\", \"line\": {\"color\": \"rgba(255,255,255,0)\"}, \"showlegend\": false, \"x\": [\"10\", \"25\", \"50\", \"75\", \"100\"], \"y\": [0.01829966098147112, 0.028111610222108112, 0.01310872049251692, 0.062483293619438884, 0.10765465085240172], \"type\": \"scatter\", \"uid\": \"2e9ffd28-d6ad-44ca-ad3e-5344e59b1dbb\"}, {\"fill\": \"tonexty\", \"fillcolor\": \"rgba(255,122,101,0.2)\", \"line\": {\"color\": \"rgba(255,255,255,0)\"}, \"name\": \"Validation EM SD\", \"showlegend\": false, \"x\": [\"10\", \"25\", \"50\", \"75\", \"100\"], \"y\": [0.0372904194361955, 0.05858958130666963, 0.07801249545628523, 0.12403601083090005, 0.1433646746496824], \"type\": \"scatter\", \"uid\": \"3fa8e070-ffe1-4fbe-8ec5-d55576626fba\"}], {\"title\": {\"text\": \"\"}, \"xaxis\": {\"title\": {\"text\": \"Training Samples Amount (in %)\"}}, \"yaxis\": {\"title\": {\"text\": \"Score\"}}}, {\"showLink\": false, \"linkText\": \"Export to plot.ly\", \"plotlyServerURL\": \"https://plot.ly\"}); \n",
       "}\n",
       "});</script><script type=\"text/javascript\">window.addEventListener(\"resize\", function(){if (document.getElementById(\"1165e566-c577-4f62-b167-9c94ed1edf33\")) {window._Plotly.Plots.resize(document.getElementById(\"1165e566-c577-4f62-b167-9c94ed1edf33\"));};})</script>"
      ],
      "text/vnd.plotly.v1+html": [
       "<div id=\"1165e566-c577-4f62-b167-9c94ed1edf33\" style=\"height: 525px; width: 100%;\" class=\"plotly-graph-div\"></div><script type=\"text/javascript\">require([\"plotly\"], function(Plotly) { window.PLOTLYENV=window.PLOTLYENV || {};window.PLOTLYENV.BASE_URL=\"https://plot.ly\";\n",
       "if (document.getElementById(\"1165e566-c577-4f62-b167-9c94ed1edf33\")) {\n",
       "    Plotly.newPlot(\"1165e566-c577-4f62-b167-9c94ed1edf33\", [{\"line\": {\"color\": \"rgb(163,218,151)\"}, \"mode\": \"lines\", \"name\": \"Training F1\", \"x\": [\"10\", \"25\", \"50\", \"75\", \"100\"], \"y\": [0.2933603733749407, 0.42626118846149635, 0.5746978039267543, 0.865585195408065, 0.9628123133624085], \"type\": \"scatter\", \"uid\": \"91dd9792-6d8a-4667-9379-311b23d2db34\"}, {\"line\": {\"color\": \"rgb(255,122,101)\"}, \"mode\": \"lines\", \"name\": \"Validation F1\", \"x\": [\"10\", \"25\", \"50\", \"75\", \"100\"], \"y\": [0.17095290977194816, 0.17823845186440113, 0.1989521134216075, 0.2517238643475064, 0.3256526534886361], \"type\": \"scatter\", \"uid\": \"89333735-5ecf-4100-9b8a-41f308e47ba2\"}, {\"fillcolor\": \"rgba(163,218,151,0.2)\", \"line\": {\"color\": \"rgba(255,255,255,0)\"}, \"showlegend\": false, \"x\": [\"10\", \"25\", \"50\", \"75\", \"100\"], \"y\": [0.3514792983266001, 0.5837303187478586, 0.8179100387294705, 0.9766695844106746, 0.9755473477116077], \"type\": \"scatter\", \"uid\": \"0605d4d1-6cf5-42f3-9a52-fc7c06d863a6\"}, {\"fill\": \"tonexty\", \"fillcolor\": \"rgba(163,218,151,0.2)\", \"line\": {\"color\": \"rgba(255,255,255,0)\"}, \"name\": \"Training SD\", \"x\": [\"10\", \"25\", \"50\", \"75\", \"100\"], \"y\": [0.2352414484232813, 0.26879205817513413, 0.33148556912403804, 0.7545008064054554, 0.9500772790132093], \"type\": \"scatter\", \"uid\": \"c75f3b9c-1d90-4a59-b639-0cdfd0594a66\"}, {\"fillcolor\": \"rgba(255,122,101,0.2)\", \"line\": {\"color\": \"rgba(255,255,255,0)\"}, \"showlegend\": false, \"x\": [\"10\", \"25\", \"50\", \"75\", \"100\"], \"y\": [0.14907449039284162, 0.1522418509980022, 0.1569968199176485, 0.21640193742713543, 0.2976120465063673], \"type\": \"scatter\", \"uid\": \"896efd13-e146-4b49-a43c-9a1510e84a54\"}, {\"fill\": \"tonexty\", \"fillcolor\": \"rgba(255,122,101,0.2)\", \"line\": {\"color\": \"rgba(255,255,255,0)\"}, \"name\": \"Validation SD\", \"x\": [\"10\", \"25\", \"50\", \"75\", \"100\"], \"y\": [0.1928313291510547, 0.20423505273080006, 0.24090740692556653, 0.2870457912678773, 0.3536932604709049], \"type\": \"scatter\", \"uid\": \"ae1a8a4e-f257-4995-954b-13551afa54b9\"}, {\"line\": {\"color\": \"rgb(163,218,151)\", \"dash\": \"dash\"}, \"mode\": \"lines\", \"name\": \"Training EM\", \"x\": [\"10\", \"25\", \"50\", \"75\", \"100\"], \"y\": [0.14887253991111135, 0.3050783518373385, 0.4540437568258438, 0.7757184429567977, 0.9143278204928733], \"type\": \"scatter\", \"uid\": \"4a55b55e-aab2-4433-9bdb-0fd4cd009604\"}, {\"line\": {\"color\": \"rgb(255,122,101)\", \"dash\": \"dash\"}, \"mode\": \"lines\", \"name\": \"Validation EM\", \"x\": [\"10\", \"25\", \"50\", \"75\", \"100\"], \"y\": [0.027795040208833312, 0.04335059576438887, 0.04556060797440108, 0.09325965222516946, 0.12550966275104206], \"type\": \"scatter\", \"uid\": \"5ad8b9e9-d0a9-489c-b328-b938ad30014d\"}, {\"fillcolor\": \"rgba(163,218,151,0.2)\", \"line\": {\"color\": \"rgba(255,255,255,0)\"}, \"showlegend\": false, \"x\": [\"10\", \"25\", \"50\", \"75\", \"100\"], \"y\": [0.216923168402664, 0.4701062746420327, 0.7384954434124456, 0.9252720515194628, 0.9378310893348002], \"type\": \"scatter\", \"uid\": \"fef54e1f-e036-4493-ad2a-4380ec0ec58e\"}, {\"fill\": \"tonexty\", \"fillcolor\": \"rgba(163,218,151,0.2)\", \"line\": {\"color\": \"rgba(255,255,255,0)\"}, \"name\": \"Training EM SD\", \"showlegend\": false, \"x\": [\"10\", \"25\", \"50\", \"75\", \"100\"], \"y\": [0.0808219114195587, 0.1400504290326443, 0.169592070239242, 0.6261648343941326, 0.8908245516509464], \"type\": \"scatter\", \"uid\": \"c9b0875b-6333-40d1-8e8c-e4833e650ef0\"}, {\"fillcolor\": \"rgba(255,122,101,0.2)\", \"line\": {\"color\": \"rgba(255,255,255,0)\"}, \"showlegend\": false, \"x\": [\"10\", \"25\", \"50\", \"75\", \"100\"], \"y\": [0.01829966098147112, 0.028111610222108112, 0.01310872049251692, 0.062483293619438884, 0.10765465085240172], \"type\": \"scatter\", \"uid\": \"2e9ffd28-d6ad-44ca-ad3e-5344e59b1dbb\"}, {\"fill\": \"tonexty\", \"fillcolor\": \"rgba(255,122,101,0.2)\", \"line\": {\"color\": \"rgba(255,255,255,0)\"}, \"name\": \"Validation EM SD\", \"showlegend\": false, \"x\": [\"10\", \"25\", \"50\", \"75\", \"100\"], \"y\": [0.0372904194361955, 0.05858958130666963, 0.07801249545628523, 0.12403601083090005, 0.1433646746496824], \"type\": \"scatter\", \"uid\": \"3fa8e070-ffe1-4fbe-8ec5-d55576626fba\"}], {\"title\": {\"text\": \"\"}, \"xaxis\": {\"title\": {\"text\": \"Training Samples Amount (in %)\"}}, \"yaxis\": {\"title\": {\"text\": \"Score\"}}}, {\"showLink\": false, \"linkText\": \"Export to plot.ly\", \"plotlyServerURL\": \"https://plot.ly\"}); \n",
       "}\n",
       "});</script><script type=\"text/javascript\">window.addEventListener(\"resize\", function(){if (document.getElementById(\"1165e566-c577-4f62-b167-9c94ed1edf33\")) {window._Plotly.Plots.resize(document.getElementById(\"1165e566-c577-4f62-b167-9c94ed1edf33\"));};})</script>"
      ]
     },
     "metadata": {},
     "output_type": "display_data"
    }
   ],
   "source": [
    "metrics_no_elmo_path = \"{}/metrics/no_elmo\".format(os.getcwd())\n",
    "plot(metrics_no_elmo_path)"
   ]
  },
  {
   "cell_type": "markdown",
   "metadata": {},
   "source": [
    "### Curvas de Aprendizado sem K-Fold e com ELMo, com Word Embeddings de 600 dimensões e respostas adicionais para treino e dev."
   ]
  },
  {
   "cell_type": "code",
   "execution_count": 5,
   "metadata": {
    "scrolled": false
   },
   "outputs": [
    {
     "data": {
      "application/vnd.plotly.v1+json": {
       "config": {
        "linkText": "Export to plot.ly",
        "plotlyServerURL": "https://plot.ly",
        "showLink": false
       },
       "data": [
        {
         "line": {
          "color": "rgb(163,218,151)"
         },
         "mode": "lines",
         "name": "Training F1",
         "type": "scatter",
         "uid": "4515f662-6340-493e-9d1e-63d39f1b2e6d",
         "x": [
          "10",
          "25",
          "50",
          "75",
          "100"
         ],
         "y": [
          0.6170317671149266,
          0.5025182821886298,
          0.9786308985778861,
          0.9780632655540922,
          0.9782481182935795
         ]
        },
        {
         "line": {
          "color": "rgb(255,122,101)"
         },
         "mode": "lines",
         "name": "Validation F1",
         "type": "scatter",
         "uid": "d4a0cf97-2261-4a99-938c-80afa4c97140",
         "x": [
          "10",
          "25",
          "50",
          "75",
          "100"
         ],
         "y": [
          0.3267164720044898,
          0.3610185503188394,
          0.4299751990987093,
          0.4895108532920971,
          0.4673085448741661
         ]
        },
        {
         "line": {
          "color": "rgb(163,218,151)",
          "dash": "dash"
         },
         "mode": "lines",
         "name": "Training EM",
         "type": "scatter",
         "uid": "d85780bd-bea8-483d-93c8-2bd3fdbe41cb",
         "x": [
          "10",
          "25",
          "50",
          "75",
          "100"
         ],
         "y": [
          0.5707762557077626,
          0.4200426439232409,
          0.953360768175583,
          0.953939393939394,
          0.9522102747909199
         ]
        },
        {
         "line": {
          "color": "rgb(255,122,101)",
          "dash": "dash"
         },
         "mode": "lines",
         "name": "Validation EM",
         "type": "scatter",
         "uid": "978d8cc9-5b7a-4e1b-84d3-cc11c7af81a0",
         "x": [
          "10",
          "25",
          "50",
          "75",
          "100"
         ],
         "y": [
          0.06349206349206349,
          0.06349206349206349,
          0.2222222222222222,
          0.2222222222222222,
          0.2222222222222222
         ]
        }
       ],
       "layout": {
        "title": {
         "text": ""
        },
        "xaxis": {
         "title": {
          "text": "Training Samples Amount (in %)"
         }
        },
        "yaxis": {
         "title": {
          "text": "Score"
         }
        }
       }
      },
      "text/html": [
       "<div id=\"89c4802d-6d1c-452b-91e0-280f599539be\" style=\"height: 525px; width: 100%;\" class=\"plotly-graph-div\"></div><script type=\"text/javascript\">require([\"plotly\"], function(Plotly) { window.PLOTLYENV=window.PLOTLYENV || {};window.PLOTLYENV.BASE_URL=\"https://plot.ly\";\n",
       "if (document.getElementById(\"89c4802d-6d1c-452b-91e0-280f599539be\")) {\n",
       "    Plotly.newPlot(\"89c4802d-6d1c-452b-91e0-280f599539be\", [{\"line\": {\"color\": \"rgb(163,218,151)\"}, \"mode\": \"lines\", \"name\": \"Training F1\", \"x\": [\"10\", \"25\", \"50\", \"75\", \"100\"], \"y\": [0.6170317671149266, 0.5025182821886298, 0.9786308985778861, 0.9780632655540922, 0.9782481182935795], \"type\": \"scatter\", \"uid\": \"4515f662-6340-493e-9d1e-63d39f1b2e6d\"}, {\"line\": {\"color\": \"rgb(255,122,101)\"}, \"mode\": \"lines\", \"name\": \"Validation F1\", \"x\": [\"10\", \"25\", \"50\", \"75\", \"100\"], \"y\": [0.3267164720044898, 0.3610185503188394, 0.4299751990987093, 0.4895108532920971, 0.4673085448741661], \"type\": \"scatter\", \"uid\": \"d4a0cf97-2261-4a99-938c-80afa4c97140\"}, {\"line\": {\"color\": \"rgb(163,218,151)\", \"dash\": \"dash\"}, \"mode\": \"lines\", \"name\": \"Training EM\", \"x\": [\"10\", \"25\", \"50\", \"75\", \"100\"], \"y\": [0.5707762557077626, 0.4200426439232409, 0.953360768175583, 0.953939393939394, 0.9522102747909199], \"type\": \"scatter\", \"uid\": \"d85780bd-bea8-483d-93c8-2bd3fdbe41cb\"}, {\"line\": {\"color\": \"rgb(255,122,101)\", \"dash\": \"dash\"}, \"mode\": \"lines\", \"name\": \"Validation EM\", \"x\": [\"10\", \"25\", \"50\", \"75\", \"100\"], \"y\": [0.06349206349206349, 0.06349206349206349, 0.2222222222222222, 0.2222222222222222, 0.2222222222222222], \"type\": \"scatter\", \"uid\": \"978d8cc9-5b7a-4e1b-84d3-cc11c7af81a0\"}], {\"title\": {\"text\": \"\"}, \"xaxis\": {\"title\": {\"text\": \"Training Samples Amount (in %)\"}}, \"yaxis\": {\"title\": {\"text\": \"Score\"}}}, {\"showLink\": false, \"linkText\": \"Export to plot.ly\", \"plotlyServerURL\": \"https://plot.ly\"}); \n",
       "}\n",
       "});</script><script type=\"text/javascript\">window.addEventListener(\"resize\", function(){if (document.getElementById(\"89c4802d-6d1c-452b-91e0-280f599539be\")) {window._Plotly.Plots.resize(document.getElementById(\"89c4802d-6d1c-452b-91e0-280f599539be\"));};})</script>"
      ],
      "text/vnd.plotly.v1+html": [
       "<div id=\"89c4802d-6d1c-452b-91e0-280f599539be\" style=\"height: 525px; width: 100%;\" class=\"plotly-graph-div\"></div><script type=\"text/javascript\">require([\"plotly\"], function(Plotly) { window.PLOTLYENV=window.PLOTLYENV || {};window.PLOTLYENV.BASE_URL=\"https://plot.ly\";\n",
       "if (document.getElementById(\"89c4802d-6d1c-452b-91e0-280f599539be\")) {\n",
       "    Plotly.newPlot(\"89c4802d-6d1c-452b-91e0-280f599539be\", [{\"line\": {\"color\": \"rgb(163,218,151)\"}, \"mode\": \"lines\", \"name\": \"Training F1\", \"x\": [\"10\", \"25\", \"50\", \"75\", \"100\"], \"y\": [0.6170317671149266, 0.5025182821886298, 0.9786308985778861, 0.9780632655540922, 0.9782481182935795], \"type\": \"scatter\", \"uid\": \"4515f662-6340-493e-9d1e-63d39f1b2e6d\"}, {\"line\": {\"color\": \"rgb(255,122,101)\"}, \"mode\": \"lines\", \"name\": \"Validation F1\", \"x\": [\"10\", \"25\", \"50\", \"75\", \"100\"], \"y\": [0.3267164720044898, 0.3610185503188394, 0.4299751990987093, 0.4895108532920971, 0.4673085448741661], \"type\": \"scatter\", \"uid\": \"d4a0cf97-2261-4a99-938c-80afa4c97140\"}, {\"line\": {\"color\": \"rgb(163,218,151)\", \"dash\": \"dash\"}, \"mode\": \"lines\", \"name\": \"Training EM\", \"x\": [\"10\", \"25\", \"50\", \"75\", \"100\"], \"y\": [0.5707762557077626, 0.4200426439232409, 0.953360768175583, 0.953939393939394, 0.9522102747909199], \"type\": \"scatter\", \"uid\": \"d85780bd-bea8-483d-93c8-2bd3fdbe41cb\"}, {\"line\": {\"color\": \"rgb(255,122,101)\", \"dash\": \"dash\"}, \"mode\": \"lines\", \"name\": \"Validation EM\", \"x\": [\"10\", \"25\", \"50\", \"75\", \"100\"], \"y\": [0.06349206349206349, 0.06349206349206349, 0.2222222222222222, 0.2222222222222222, 0.2222222222222222], \"type\": \"scatter\", \"uid\": \"978d8cc9-5b7a-4e1b-84d3-cc11c7af81a0\"}], {\"title\": {\"text\": \"\"}, \"xaxis\": {\"title\": {\"text\": \"Training Samples Amount (in %)\"}}, \"yaxis\": {\"title\": {\"text\": \"Score\"}}}, {\"showLink\": false, \"linkText\": \"Export to plot.ly\", \"plotlyServerURL\": \"https://plot.ly\"}); \n",
       "}\n",
       "});</script><script type=\"text/javascript\">window.addEventListener(\"resize\", function(){if (document.getElementById(\"89c4802d-6d1c-452b-91e0-280f599539be\")) {window._Plotly.Plots.resize(document.getElementById(\"89c4802d-6d1c-452b-91e0-280f599539be\"));};})</script>"
      ]
     },
     "metadata": {},
     "output_type": "display_data"
    }
   ],
   "source": [
    "metrics_single_fold_elmo_path = \"{}/metrics/single_fold_elmo\".format(os.getcwd())\n",
    "plot_single_fold(metrics_single_fold_elmo_path)"
   ]
  },
  {
   "cell_type": "markdown",
   "metadata": {},
   "source": [
    "### Curvas de Aprendizado sem K-Fold e sem ELMo, com Word Embeddings de 600 dimensões e respostas adicionais para treino e dev."
   ]
  },
  {
   "cell_type": "code",
   "execution_count": 6,
   "metadata": {},
   "outputs": [
    {
     "data": {
      "application/vnd.plotly.v1+json": {
       "config": {
        "linkText": "Export to plot.ly",
        "plotlyServerURL": "https://plot.ly",
        "showLink": false
       },
       "data": [
        {
         "line": {
          "color": "rgb(163,218,151)"
         },
         "mode": "lines",
         "name": "Training F1",
         "type": "scatter",
         "uid": "178fad58-ef4d-4e9d-b922-149de0ba2eea",
         "x": [
          "10",
          "25",
          "50",
          "75",
          "100"
         ],
         "y": [
          0.7667357791203572,
          0.9506731669340456,
          0.9560872600763132,
          0.9461498674605393,
          0.908122486798762
         ]
        },
        {
         "line": {
          "color": "rgb(255,122,101)"
         },
         "mode": "lines",
         "name": "Validation F1",
         "type": "scatter",
         "uid": "159b2304-e9d5-4ce2-922d-de80a545915c",
         "x": [
          "10",
          "25",
          "50",
          "75",
          "100"
         ],
         "y": [
          0.28588269722623644,
          0.38969952023863047,
          0.40064340082029676,
          0.4050473744545434,
          0.4279977462063188
         ]
        },
        {
         "line": {
          "color": "rgb(163,218,151)",
          "dash": "dash"
         },
         "mode": "lines",
         "name": "Training EM",
         "type": "scatter",
         "uid": "0367a87a-7627-436a-95f0-3e62e0559377",
         "x": [
          "10",
          "25",
          "50",
          "75",
          "100"
         ],
         "y": [
          0.6940639269406392,
          0.9040511727078892,
          0.897119341563786,
          0.8957575757575758,
          0.8327359617682198
         ]
        },
        {
         "line": {
          "color": "rgb(255,122,101)",
          "dash": "dash"
         },
         "mode": "lines",
         "name": "Validation EM",
         "type": "scatter",
         "uid": "adcb2e8f-f2d0-4453-8e2e-a09a7f6dd7f8",
         "x": [
          "10",
          "25",
          "50",
          "75",
          "100"
         ],
         "y": [
          0.06349206349206349,
          0.15873015873015872,
          0.19047619047619047,
          0.1746031746031746,
          0.25396825396825395
         ]
        }
       ],
       "layout": {
        "title": {
         "text": ""
        },
        "xaxis": {
         "title": {
          "text": "Training Samples Amount (in %)"
         }
        },
        "yaxis": {
         "title": {
          "text": "Score"
         }
        }
       }
      },
      "text/html": [
       "<div id=\"db84f727-92e2-4c92-b9ea-d6d2926fe9d9\" style=\"height: 525px; width: 100%;\" class=\"plotly-graph-div\"></div><script type=\"text/javascript\">require([\"plotly\"], function(Plotly) { window.PLOTLYENV=window.PLOTLYENV || {};window.PLOTLYENV.BASE_URL=\"https://plot.ly\";\n",
       "if (document.getElementById(\"db84f727-92e2-4c92-b9ea-d6d2926fe9d9\")) {\n",
       "    Plotly.newPlot(\"db84f727-92e2-4c92-b9ea-d6d2926fe9d9\", [{\"line\": {\"color\": \"rgb(163,218,151)\"}, \"mode\": \"lines\", \"name\": \"Training F1\", \"x\": [\"10\", \"25\", \"50\", \"75\", \"100\"], \"y\": [0.7667357791203572, 0.9506731669340456, 0.9560872600763132, 0.9461498674605393, 0.908122486798762], \"type\": \"scatter\", \"uid\": \"178fad58-ef4d-4e9d-b922-149de0ba2eea\"}, {\"line\": {\"color\": \"rgb(255,122,101)\"}, \"mode\": \"lines\", \"name\": \"Validation F1\", \"x\": [\"10\", \"25\", \"50\", \"75\", \"100\"], \"y\": [0.28588269722623644, 0.38969952023863047, 0.40064340082029676, 0.4050473744545434, 0.4279977462063188], \"type\": \"scatter\", \"uid\": \"159b2304-e9d5-4ce2-922d-de80a545915c\"}, {\"line\": {\"color\": \"rgb(163,218,151)\", \"dash\": \"dash\"}, \"mode\": \"lines\", \"name\": \"Training EM\", \"x\": [\"10\", \"25\", \"50\", \"75\", \"100\"], \"y\": [0.6940639269406392, 0.9040511727078892, 0.897119341563786, 0.8957575757575758, 0.8327359617682198], \"type\": \"scatter\", \"uid\": \"0367a87a-7627-436a-95f0-3e62e0559377\"}, {\"line\": {\"color\": \"rgb(255,122,101)\", \"dash\": \"dash\"}, \"mode\": \"lines\", \"name\": \"Validation EM\", \"x\": [\"10\", \"25\", \"50\", \"75\", \"100\"], \"y\": [0.06349206349206349, 0.15873015873015872, 0.19047619047619047, 0.1746031746031746, 0.25396825396825395], \"type\": \"scatter\", \"uid\": \"adcb2e8f-f2d0-4453-8e2e-a09a7f6dd7f8\"}], {\"title\": {\"text\": \"\"}, \"xaxis\": {\"title\": {\"text\": \"Training Samples Amount (in %)\"}}, \"yaxis\": {\"title\": {\"text\": \"Score\"}}}, {\"showLink\": false, \"linkText\": \"Export to plot.ly\", \"plotlyServerURL\": \"https://plot.ly\"}); \n",
       "}\n",
       "});</script><script type=\"text/javascript\">window.addEventListener(\"resize\", function(){if (document.getElementById(\"db84f727-92e2-4c92-b9ea-d6d2926fe9d9\")) {window._Plotly.Plots.resize(document.getElementById(\"db84f727-92e2-4c92-b9ea-d6d2926fe9d9\"));};})</script>"
      ],
      "text/vnd.plotly.v1+html": [
       "<div id=\"db84f727-92e2-4c92-b9ea-d6d2926fe9d9\" style=\"height: 525px; width: 100%;\" class=\"plotly-graph-div\"></div><script type=\"text/javascript\">require([\"plotly\"], function(Plotly) { window.PLOTLYENV=window.PLOTLYENV || {};window.PLOTLYENV.BASE_URL=\"https://plot.ly\";\n",
       "if (document.getElementById(\"db84f727-92e2-4c92-b9ea-d6d2926fe9d9\")) {\n",
       "    Plotly.newPlot(\"db84f727-92e2-4c92-b9ea-d6d2926fe9d9\", [{\"line\": {\"color\": \"rgb(163,218,151)\"}, \"mode\": \"lines\", \"name\": \"Training F1\", \"x\": [\"10\", \"25\", \"50\", \"75\", \"100\"], \"y\": [0.7667357791203572, 0.9506731669340456, 0.9560872600763132, 0.9461498674605393, 0.908122486798762], \"type\": \"scatter\", \"uid\": \"178fad58-ef4d-4e9d-b922-149de0ba2eea\"}, {\"line\": {\"color\": \"rgb(255,122,101)\"}, \"mode\": \"lines\", \"name\": \"Validation F1\", \"x\": [\"10\", \"25\", \"50\", \"75\", \"100\"], \"y\": [0.28588269722623644, 0.38969952023863047, 0.40064340082029676, 0.4050473744545434, 0.4279977462063188], \"type\": \"scatter\", \"uid\": \"159b2304-e9d5-4ce2-922d-de80a545915c\"}, {\"line\": {\"color\": \"rgb(163,218,151)\", \"dash\": \"dash\"}, \"mode\": \"lines\", \"name\": \"Training EM\", \"x\": [\"10\", \"25\", \"50\", \"75\", \"100\"], \"y\": [0.6940639269406392, 0.9040511727078892, 0.897119341563786, 0.8957575757575758, 0.8327359617682198], \"type\": \"scatter\", \"uid\": \"0367a87a-7627-436a-95f0-3e62e0559377\"}, {\"line\": {\"color\": \"rgb(255,122,101)\", \"dash\": \"dash\"}, \"mode\": \"lines\", \"name\": \"Validation EM\", \"x\": [\"10\", \"25\", \"50\", \"75\", \"100\"], \"y\": [0.06349206349206349, 0.15873015873015872, 0.19047619047619047, 0.1746031746031746, 0.25396825396825395], \"type\": \"scatter\", \"uid\": \"adcb2e8f-f2d0-4453-8e2e-a09a7f6dd7f8\"}], {\"title\": {\"text\": \"\"}, \"xaxis\": {\"title\": {\"text\": \"Training Samples Amount (in %)\"}}, \"yaxis\": {\"title\": {\"text\": \"Score\"}}}, {\"showLink\": false, \"linkText\": \"Export to plot.ly\", \"plotlyServerURL\": \"https://plot.ly\"}); \n",
       "}\n",
       "});</script><script type=\"text/javascript\">window.addEventListener(\"resize\", function(){if (document.getElementById(\"db84f727-92e2-4c92-b9ea-d6d2926fe9d9\")) {window._Plotly.Plots.resize(document.getElementById(\"db84f727-92e2-4c92-b9ea-d6d2926fe9d9\"));};})</script>"
      ]
     },
     "metadata": {},
     "output_type": "display_data"
    }
   ],
   "source": [
    "metrics_single_fold_no_elmo_path = \"{}/metrics/single_fold_no_elmo\".format(os.getcwd())\n",
    "plot_single_fold(metrics_single_fold_no_elmo_path)"
   ]
  },
  {
   "cell_type": "markdown",
   "metadata": {},
   "source": [
    "### Curvas de Aprendizado sem K-Fold e com ELMo, com Word Embeddings de 600 dimensões e respostas adicionais apenas para dev."
   ]
  },
  {
   "cell_type": "code",
   "execution_count": 7,
   "metadata": {
    "scrolled": false
   },
   "outputs": [
    {
     "data": {
      "application/vnd.plotly.v1+json": {
       "config": {
        "linkText": "Export to plot.ly",
        "plotlyServerURL": "https://plot.ly",
        "showLink": false
       },
       "data": [
        {
         "line": {
          "color": "rgb(163,218,151)"
         },
         "mode": "lines",
         "name": "Training F1",
         "type": "scatter",
         "uid": "5056461c-15d2-42dc-b571-30060c7ef2f1",
         "x": [
          "10",
          "25",
          "50",
          "75",
          "100"
         ],
         "y": [
          0.8501322831817111,
          0.44739680661130315,
          0.9880800755453,
          0.9796715843838862,
          0.9835898056815203
         ]
        },
        {
         "line": {
          "color": "rgb(255,122,101)"
         },
         "mode": "lines",
         "name": "Validation F1",
         "type": "scatter",
         "uid": "73dad91e-dd64-4fb3-9372-f92d495d9981",
         "x": [
          "10",
          "25",
          "50",
          "75",
          "100"
         ],
         "y": [
          0.3031248100081656,
          0.34791750046482856,
          0.44553980841007645,
          0.5082978575643291,
          0.5101020101267073
         ]
        },
        {
         "line": {
          "color": "rgb(163,218,151)",
          "dash": "dash"
         },
         "mode": "lines",
         "name": "Training EM",
         "type": "scatter",
         "uid": "805747de-1a1a-4c10-8cbe-37a6e854e8e4",
         "x": [
          "10",
          "25",
          "50",
          "75",
          "100"
         ],
         "y": [
          0.8082191780821918,
          0.3603411513859275,
          0.9643347050754458,
          0.9490909090909091,
          0.9522102747909199
         ]
        },
        {
         "line": {
          "color": "rgb(255,122,101)",
          "dash": "dash"
         },
         "mode": "lines",
         "name": "Validation EM",
         "type": "scatter",
         "uid": "89ea93fb-e427-4a62-9fd5-80128c265d71",
         "x": [
          "10",
          "25",
          "50",
          "75",
          "100"
         ],
         "y": [
          0.06349206349206349,
          0.06349206349206349,
          0.2222222222222222,
          0.2222222222222222,
          0.2222222222222222
         ]
        }
       ],
       "layout": {
        "title": {
         "text": ""
        },
        "xaxis": {
         "title": {
          "text": "Training Samples Amount (in %)"
         }
        },
        "yaxis": {
         "title": {
          "text": "Score"
         }
        }
       }
      },
      "text/html": [
       "<div id=\"1a586807-d431-40f9-a2ba-6fcb0bd317c8\" style=\"height: 525px; width: 100%;\" class=\"plotly-graph-div\"></div><script type=\"text/javascript\">require([\"plotly\"], function(Plotly) { window.PLOTLYENV=window.PLOTLYENV || {};window.PLOTLYENV.BASE_URL=\"https://plot.ly\";\n",
       "if (document.getElementById(\"1a586807-d431-40f9-a2ba-6fcb0bd317c8\")) {\n",
       "    Plotly.newPlot(\"1a586807-d431-40f9-a2ba-6fcb0bd317c8\", [{\"line\": {\"color\": \"rgb(163,218,151)\"}, \"mode\": \"lines\", \"name\": \"Training F1\", \"x\": [\"10\", \"25\", \"50\", \"75\", \"100\"], \"y\": [0.8501322831817111, 0.44739680661130315, 0.9880800755453, 0.9796715843838862, 0.9835898056815203], \"type\": \"scatter\", \"uid\": \"5056461c-15d2-42dc-b571-30060c7ef2f1\"}, {\"line\": {\"color\": \"rgb(255,122,101)\"}, \"mode\": \"lines\", \"name\": \"Validation F1\", \"x\": [\"10\", \"25\", \"50\", \"75\", \"100\"], \"y\": [0.3031248100081656, 0.34791750046482856, 0.44553980841007645, 0.5082978575643291, 0.5101020101267073], \"type\": \"scatter\", \"uid\": \"73dad91e-dd64-4fb3-9372-f92d495d9981\"}, {\"line\": {\"color\": \"rgb(163,218,151)\", \"dash\": \"dash\"}, \"mode\": \"lines\", \"name\": \"Training EM\", \"x\": [\"10\", \"25\", \"50\", \"75\", \"100\"], \"y\": [0.8082191780821918, 0.3603411513859275, 0.9643347050754458, 0.9490909090909091, 0.9522102747909199], \"type\": \"scatter\", \"uid\": \"805747de-1a1a-4c10-8cbe-37a6e854e8e4\"}, {\"line\": {\"color\": \"rgb(255,122,101)\", \"dash\": \"dash\"}, \"mode\": \"lines\", \"name\": \"Validation EM\", \"x\": [\"10\", \"25\", \"50\", \"75\", \"100\"], \"y\": [0.06349206349206349, 0.06349206349206349, 0.2222222222222222, 0.2222222222222222, 0.2222222222222222], \"type\": \"scatter\", \"uid\": \"89ea93fb-e427-4a62-9fd5-80128c265d71\"}], {\"title\": {\"text\": \"\"}, \"xaxis\": {\"title\": {\"text\": \"Training Samples Amount (in %)\"}}, \"yaxis\": {\"title\": {\"text\": \"Score\"}}}, {\"showLink\": false, \"linkText\": \"Export to plot.ly\", \"plotlyServerURL\": \"https://plot.ly\"}); \n",
       "}\n",
       "});</script><script type=\"text/javascript\">window.addEventListener(\"resize\", function(){if (document.getElementById(\"1a586807-d431-40f9-a2ba-6fcb0bd317c8\")) {window._Plotly.Plots.resize(document.getElementById(\"1a586807-d431-40f9-a2ba-6fcb0bd317c8\"));};})</script>"
      ],
      "text/vnd.plotly.v1+html": [
       "<div id=\"1a586807-d431-40f9-a2ba-6fcb0bd317c8\" style=\"height: 525px; width: 100%;\" class=\"plotly-graph-div\"></div><script type=\"text/javascript\">require([\"plotly\"], function(Plotly) { window.PLOTLYENV=window.PLOTLYENV || {};window.PLOTLYENV.BASE_URL=\"https://plot.ly\";\n",
       "if (document.getElementById(\"1a586807-d431-40f9-a2ba-6fcb0bd317c8\")) {\n",
       "    Plotly.newPlot(\"1a586807-d431-40f9-a2ba-6fcb0bd317c8\", [{\"line\": {\"color\": \"rgb(163,218,151)\"}, \"mode\": \"lines\", \"name\": \"Training F1\", \"x\": [\"10\", \"25\", \"50\", \"75\", \"100\"], \"y\": [0.8501322831817111, 0.44739680661130315, 0.9880800755453, 0.9796715843838862, 0.9835898056815203], \"type\": \"scatter\", \"uid\": \"5056461c-15d2-42dc-b571-30060c7ef2f1\"}, {\"line\": {\"color\": \"rgb(255,122,101)\"}, \"mode\": \"lines\", \"name\": \"Validation F1\", \"x\": [\"10\", \"25\", \"50\", \"75\", \"100\"], \"y\": [0.3031248100081656, 0.34791750046482856, 0.44553980841007645, 0.5082978575643291, 0.5101020101267073], \"type\": \"scatter\", \"uid\": \"73dad91e-dd64-4fb3-9372-f92d495d9981\"}, {\"line\": {\"color\": \"rgb(163,218,151)\", \"dash\": \"dash\"}, \"mode\": \"lines\", \"name\": \"Training EM\", \"x\": [\"10\", \"25\", \"50\", \"75\", \"100\"], \"y\": [0.8082191780821918, 0.3603411513859275, 0.9643347050754458, 0.9490909090909091, 0.9522102747909199], \"type\": \"scatter\", \"uid\": \"805747de-1a1a-4c10-8cbe-37a6e854e8e4\"}, {\"line\": {\"color\": \"rgb(255,122,101)\", \"dash\": \"dash\"}, \"mode\": \"lines\", \"name\": \"Validation EM\", \"x\": [\"10\", \"25\", \"50\", \"75\", \"100\"], \"y\": [0.06349206349206349, 0.06349206349206349, 0.2222222222222222, 0.2222222222222222, 0.2222222222222222], \"type\": \"scatter\", \"uid\": \"89ea93fb-e427-4a62-9fd5-80128c265d71\"}], {\"title\": {\"text\": \"\"}, \"xaxis\": {\"title\": {\"text\": \"Training Samples Amount (in %)\"}}, \"yaxis\": {\"title\": {\"text\": \"Score\"}}}, {\"showLink\": false, \"linkText\": \"Export to plot.ly\", \"plotlyServerURL\": \"https://plot.ly\"}); \n",
       "}\n",
       "});</script><script type=\"text/javascript\">window.addEventListener(\"resize\", function(){if (document.getElementById(\"1a586807-d431-40f9-a2ba-6fcb0bd317c8\")) {window._Plotly.Plots.resize(document.getElementById(\"1a586807-d431-40f9-a2ba-6fcb0bd317c8\"));};})</script>"
      ]
     },
     "metadata": {},
     "output_type": "display_data"
    }
   ],
   "source": [
    "metrics_single_fold_elmo_reduced_path = \"{}/metrics/single_fold_elmo_reduced\".format(os.getcwd())\n",
    "plot_single_fold(metrics_single_fold_elmo_reduced_path)"
   ]
  },
  {
   "cell_type": "markdown",
   "metadata": {},
   "source": [
    "### Curvas de Aprendizado sem K-Fold e sem ELMo, com Word Embeddings de 600 dimensões e respostas adicionais apenas para dev."
   ]
  },
  {
   "cell_type": "code",
   "execution_count": 8,
   "metadata": {
    "scrolled": false
   },
   "outputs": [
    {
     "data": {
      "application/vnd.plotly.v1+json": {
       "config": {
        "linkText": "Export to plot.ly",
        "plotlyServerURL": "https://plot.ly",
        "showLink": false
       },
       "data": [
        {
         "line": {
          "color": "rgb(163,218,151)"
         },
         "mode": "lines",
         "name": "Training F1",
         "type": "scatter",
         "uid": "71bc0fa9-a280-4f3a-ab92-483c98c9507c",
         "x": [
          "10",
          "25",
          "50",
          "75",
          "100"
         ],
         "y": [
          0.6795792230018363,
          0.9699082527737473,
          0.9777777370506667,
          0.9603322755082441,
          0.9441697990617359
         ]
        },
        {
         "line": {
          "color": "rgb(255,122,101)"
         },
         "mode": "lines",
         "name": "Validation F1",
         "type": "scatter",
         "uid": "7a6af349-1a80-40a3-a6c6-35cd5c96a382",
         "x": [
          "10",
          "25",
          "50",
          "75",
          "100"
         ],
         "y": [
          0.27572505221579896,
          0.3785980140975576,
          0.4750540973401135,
          0.48629016509997086,
          0.42088802773260936
         ]
        },
        {
         "line": {
          "color": "rgb(163,218,151)",
          "dash": "dash"
         },
         "mode": "lines",
         "name": "Training EM",
         "type": "scatter",
         "uid": "c452c711-931f-421a-973d-0a6263e97999",
         "x": [
          "10",
          "25",
          "50",
          "75",
          "100"
         ],
         "y": [
          0.6027397260273972,
          0.929637526652452,
          0.9478737997256516,
          0.9187878787878788,
          0.8984468339307049
         ]
        },
        {
         "line": {
          "color": "rgb(255,122,101)",
          "dash": "dash"
         },
         "mode": "lines",
         "name": "Validation EM",
         "type": "scatter",
         "uid": "7a860f28-653b-492a-b04d-318cd6bca418",
         "x": [
          "10",
          "25",
          "50",
          "75",
          "100"
         ],
         "y": [
          0.06349206349206349,
          0.12698412698412698,
          0.23809523809523808,
          0.19047619047619047,
          0.19047619047619047
         ]
        }
       ],
       "layout": {
        "title": {
         "text": ""
        },
        "xaxis": {
         "title": {
          "text": "Training Samples Amount (in %)"
         }
        },
        "yaxis": {
         "title": {
          "text": "Score"
         }
        }
       }
      },
      "text/html": [
       "<div id=\"7c85a627-767e-47cf-a2c1-4146099f9fb8\" style=\"height: 525px; width: 100%;\" class=\"plotly-graph-div\"></div><script type=\"text/javascript\">require([\"plotly\"], function(Plotly) { window.PLOTLYENV=window.PLOTLYENV || {};window.PLOTLYENV.BASE_URL=\"https://plot.ly\";\n",
       "if (document.getElementById(\"7c85a627-767e-47cf-a2c1-4146099f9fb8\")) {\n",
       "    Plotly.newPlot(\"7c85a627-767e-47cf-a2c1-4146099f9fb8\", [{\"line\": {\"color\": \"rgb(163,218,151)\"}, \"mode\": \"lines\", \"name\": \"Training F1\", \"x\": [\"10\", \"25\", \"50\", \"75\", \"100\"], \"y\": [0.6795792230018363, 0.9699082527737473, 0.9777777370506667, 0.9603322755082441, 0.9441697990617359], \"type\": \"scatter\", \"uid\": \"71bc0fa9-a280-4f3a-ab92-483c98c9507c\"}, {\"line\": {\"color\": \"rgb(255,122,101)\"}, \"mode\": \"lines\", \"name\": \"Validation F1\", \"x\": [\"10\", \"25\", \"50\", \"75\", \"100\"], \"y\": [0.27572505221579896, 0.3785980140975576, 0.4750540973401135, 0.48629016509997086, 0.42088802773260936], \"type\": \"scatter\", \"uid\": \"7a6af349-1a80-40a3-a6c6-35cd5c96a382\"}, {\"line\": {\"color\": \"rgb(163,218,151)\", \"dash\": \"dash\"}, \"mode\": \"lines\", \"name\": \"Training EM\", \"x\": [\"10\", \"25\", \"50\", \"75\", \"100\"], \"y\": [0.6027397260273972, 0.929637526652452, 0.9478737997256516, 0.9187878787878788, 0.8984468339307049], \"type\": \"scatter\", \"uid\": \"c452c711-931f-421a-973d-0a6263e97999\"}, {\"line\": {\"color\": \"rgb(255,122,101)\", \"dash\": \"dash\"}, \"mode\": \"lines\", \"name\": \"Validation EM\", \"x\": [\"10\", \"25\", \"50\", \"75\", \"100\"], \"y\": [0.06349206349206349, 0.12698412698412698, 0.23809523809523808, 0.19047619047619047, 0.19047619047619047], \"type\": \"scatter\", \"uid\": \"7a860f28-653b-492a-b04d-318cd6bca418\"}], {\"title\": {\"text\": \"\"}, \"xaxis\": {\"title\": {\"text\": \"Training Samples Amount (in %)\"}}, \"yaxis\": {\"title\": {\"text\": \"Score\"}}}, {\"showLink\": false, \"linkText\": \"Export to plot.ly\", \"plotlyServerURL\": \"https://plot.ly\"}); \n",
       "}\n",
       "});</script><script type=\"text/javascript\">window.addEventListener(\"resize\", function(){if (document.getElementById(\"7c85a627-767e-47cf-a2c1-4146099f9fb8\")) {window._Plotly.Plots.resize(document.getElementById(\"7c85a627-767e-47cf-a2c1-4146099f9fb8\"));};})</script>"
      ],
      "text/vnd.plotly.v1+html": [
       "<div id=\"7c85a627-767e-47cf-a2c1-4146099f9fb8\" style=\"height: 525px; width: 100%;\" class=\"plotly-graph-div\"></div><script type=\"text/javascript\">require([\"plotly\"], function(Plotly) { window.PLOTLYENV=window.PLOTLYENV || {};window.PLOTLYENV.BASE_URL=\"https://plot.ly\";\n",
       "if (document.getElementById(\"7c85a627-767e-47cf-a2c1-4146099f9fb8\")) {\n",
       "    Plotly.newPlot(\"7c85a627-767e-47cf-a2c1-4146099f9fb8\", [{\"line\": {\"color\": \"rgb(163,218,151)\"}, \"mode\": \"lines\", \"name\": \"Training F1\", \"x\": [\"10\", \"25\", \"50\", \"75\", \"100\"], \"y\": [0.6795792230018363, 0.9699082527737473, 0.9777777370506667, 0.9603322755082441, 0.9441697990617359], \"type\": \"scatter\", \"uid\": \"71bc0fa9-a280-4f3a-ab92-483c98c9507c\"}, {\"line\": {\"color\": \"rgb(255,122,101)\"}, \"mode\": \"lines\", \"name\": \"Validation F1\", \"x\": [\"10\", \"25\", \"50\", \"75\", \"100\"], \"y\": [0.27572505221579896, 0.3785980140975576, 0.4750540973401135, 0.48629016509997086, 0.42088802773260936], \"type\": \"scatter\", \"uid\": \"7a6af349-1a80-40a3-a6c6-35cd5c96a382\"}, {\"line\": {\"color\": \"rgb(163,218,151)\", \"dash\": \"dash\"}, \"mode\": \"lines\", \"name\": \"Training EM\", \"x\": [\"10\", \"25\", \"50\", \"75\", \"100\"], \"y\": [0.6027397260273972, 0.929637526652452, 0.9478737997256516, 0.9187878787878788, 0.8984468339307049], \"type\": \"scatter\", \"uid\": \"c452c711-931f-421a-973d-0a6263e97999\"}, {\"line\": {\"color\": \"rgb(255,122,101)\", \"dash\": \"dash\"}, \"mode\": \"lines\", \"name\": \"Validation EM\", \"x\": [\"10\", \"25\", \"50\", \"75\", \"100\"], \"y\": [0.06349206349206349, 0.12698412698412698, 0.23809523809523808, 0.19047619047619047, 0.19047619047619047], \"type\": \"scatter\", \"uid\": \"7a860f28-653b-492a-b04d-318cd6bca418\"}], {\"title\": {\"text\": \"\"}, \"xaxis\": {\"title\": {\"text\": \"Training Samples Amount (in %)\"}}, \"yaxis\": {\"title\": {\"text\": \"Score\"}}}, {\"showLink\": false, \"linkText\": \"Export to plot.ly\", \"plotlyServerURL\": \"https://plot.ly\"}); \n",
       "}\n",
       "});</script><script type=\"text/javascript\">window.addEventListener(\"resize\", function(){if (document.getElementById(\"7c85a627-767e-47cf-a2c1-4146099f9fb8\")) {window._Plotly.Plots.resize(document.getElementById(\"7c85a627-767e-47cf-a2c1-4146099f9fb8\"));};})</script>"
      ]
     },
     "metadata": {},
     "output_type": "display_data"
    }
   ],
   "source": [
    "metrics_single_fold_no_elmo_reduced_path = \"{}/metrics/single_fold_no_elmo_reduced\".format(os.getcwd())\n",
    "plot_single_fold(metrics_single_fold_no_elmo_reduced_path)"
   ]
  },
  {
   "cell_type": "markdown",
   "metadata": {},
   "source": [
    "### Experimento com K-Fold, ELMo, GloVe 600 e respostas adicionais apenas para dev"
   ]
  },
  {
   "cell_type": "code",
   "execution_count": 11,
   "metadata": {
    "scrolled": true
   },
   "outputs": [
    {
     "data": {
      "text/plain": [
       "{'train': {'f1': {'mean': 0.9760429333954306, 'stdev': 0.004262986439240876},\n",
       "  'em': {'mean': 0.9483928306663921, 'stdev': 0.005926589362910821}},\n",
       " 'dev': {'f1': {'mean': 0.35550908820070837, 'stdev': 0.061698432367137755},\n",
       "  'em': {'mean': 0.16898193760262725, 'stdev': 0.03601870563967206}}}"
      ]
     },
     "execution_count": 11,
     "metadata": {},
     "output_type": "execute_result"
    }
   ],
   "source": [
    "metrics_kfold_reduced_elmo_path = \"{}/metrics/kfold_reduced_elmo\".format(os.getcwd())\n",
    "get_means_and_stdev(metrics_kfold_reduced_elmo_path)"
   ]
  }
 ],
 "metadata": {
  "kernelspec": {
   "display_name": "Python 3",
   "language": "python",
   "name": "python3"
  },
  "language_info": {
   "codemirror_mode": {
    "name": "ipython",
    "version": 3
   },
   "file_extension": ".py",
   "mimetype": "text/x-python",
   "name": "python",
   "nbconvert_exporter": "python",
   "pygments_lexer": "ipython3",
   "version": "3.7.3"
  }
 },
 "nbformat": 4,
 "nbformat_minor": 2
}
