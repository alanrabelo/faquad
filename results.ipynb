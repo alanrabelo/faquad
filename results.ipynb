{
 "cells": [
  {
   "cell_type": "code",
   "execution_count": 1,
   "metadata": {},
   "outputs": [],
   "source": [
    "from aurelio.plotter import plot, plot_single_fold\n",
    "from plotly.offline import init_notebook_mode\n",
    "import os"
   ]
  },
  {
   "cell_type": "code",
   "execution_count": 2,
   "metadata": {},
   "outputs": [
    {
     "data": {
      "text/html": [
       "<script type=\"text/javascript\">window.PlotlyConfig = {MathJaxConfig: 'local'};</script><script type=\"text/javascript\">if (window.MathJax) {MathJax.Hub.Config({SVG: {font: \"STIX-Web\"}});}</script><script>requirejs.config({paths: { 'plotly': ['https://cdn.plot.ly/plotly-latest.min']},});if(!window._Plotly) {require(['plotly'],function(plotly) {window._Plotly=plotly;});}</script>"
      ],
      "text/vnd.plotly.v1+html": [
       "<script type=\"text/javascript\">window.PlotlyConfig = {MathJaxConfig: 'local'};</script><script type=\"text/javascript\">if (window.MathJax) {MathJax.Hub.Config({SVG: {font: \"STIX-Web\"}});}</script><script>requirejs.config({paths: { 'plotly': ['https://cdn.plot.ly/plotly-latest.min']},});if(!window._Plotly) {require(['plotly'],function(plotly) {window._Plotly=plotly;});}</script>"
      ]
     },
     "metadata": {},
     "output_type": "display_data"
    }
   ],
   "source": [
    "init_notebook_mode(connected=True)"
   ]
  },
  {
   "cell_type": "markdown",
   "metadata": {},
   "source": [
    "### Curvas de Aprendizado utilizando K-fold com ELMo, Word Embeddings de 600 dimensões e respostas adicionais para treino e dev."
   ]
  },
  {
   "cell_type": "code",
   "execution_count": 3,
   "metadata": {
    "scrolled": false
   },
   "outputs": [
    {
     "data": {
      "application/vnd.plotly.v1+json": {
       "config": {
        "linkText": "Export to plot.ly",
        "plotlyServerURL": "https://plot.ly",
        "showLink": false
       },
       "data": [
        {
         "line": {
          "color": "rgb(163,218,151)"
         },
         "mode": "lines",
         "name": "Training F1",
         "type": "scatter",
         "uid": "1e2470dd-391e-4dce-9b4e-a0a69a2755d2",
         "x": [
          "10",
          "25",
          "50",
          "75",
          "100"
         ],
         "y": [
          0.60882656114281,
          0.7281467764237509,
          0.9094886745845082,
          0.9758806752021989,
          0.9812976621554484
         ]
        },
        {
         "line": {
          "color": "rgb(255,122,101)"
         },
         "mode": "lines",
         "name": "Validation F1",
         "type": "scatter",
         "uid": "bd4c0aca-bf5d-4f0c-883a-525292978bdd",
         "x": [
          "10",
          "25",
          "50",
          "75",
          "100"
         ],
         "y": [
          0.1901699570480866,
          0.18666700840044026,
          0.23258489364351223,
          0.29250070165900066,
          0.33731690639962064
         ]
        },
        {
         "fillcolor": "rgba(163,218,151,0.2)",
         "line": {
          "color": "rgba(255,255,255,0)"
         },
         "showlegend": false,
         "type": "scatter",
         "uid": "0247d5ab-f9c6-416e-8ad0-92dfd53dc6c5",
         "x": [
          "10",
          "25",
          "50",
          "75",
          "100"
         ],
         "y": [
          0.8478620091188187,
          0.9653140347809087,
          1.075950123616768,
          0.9788259808369756,
          0.9852485481128231
         ]
        },
        {
         "fill": "tonexty",
         "fillcolor": "rgba(163,218,151,0.2)",
         "line": {
          "color": "rgba(255,255,255,0)"
         },
         "name": "Training SD",
         "type": "scatter",
         "uid": "9a87767d-e120-422e-8728-f6ccdbd57a6d",
         "x": [
          "10",
          "25",
          "50",
          "75",
          "100"
         ],
         "y": [
          0.3697911131668012,
          0.4909795180665931,
          0.7430272255522485,
          0.9729353695674222,
          0.9773467761980738
         ]
        },
        {
         "fillcolor": "rgba(255,122,101,0.2)",
         "line": {
          "color": "rgba(255,255,255,0)"
         },
         "showlegend": false,
         "type": "scatter",
         "uid": "42fdccbc-4f7c-4e2f-82e3-68a5faf852ec",
         "x": [
          "10",
          "25",
          "50",
          "75",
          "100"
         ],
         "y": [
          0.15676206550370173,
          0.16528891096235385,
          0.1937774465947003,
          0.2482727629481667,
          0.29852630762681803
         ]
        },
        {
         "fill": "tonexty",
         "fillcolor": "rgba(255,122,101,0.2)",
         "line": {
          "color": "rgba(255,255,255,0)"
         },
         "name": "Validation SD",
         "type": "scatter",
         "uid": "fd863dcd-aaa3-42e1-a271-14f5dd41c8fe",
         "x": [
          "10",
          "25",
          "50",
          "75",
          "100"
         ],
         "y": [
          0.22357784859247146,
          0.20804510583852667,
          0.27139234069232415,
          0.33672864036983463,
          0.37610750517242325
         ]
        },
        {
         "line": {
          "color": "rgb(163,218,151)",
          "dash": "dash"
         },
         "mode": "lines",
         "name": "Training EM",
         "type": "scatter",
         "uid": "7088ca42-c5fc-494b-b872-b1115d4e2286",
         "x": [
          "10",
          "25",
          "50",
          "75",
          "100"
         ],
         "y": [
          0.5108448510338685,
          0.6480720907471885,
          0.8664611617122713,
          0.9434064029764392,
          0.9499999144065057
         ]
        },
        {
         "line": {
          "color": "rgb(255,122,101)",
          "dash": "dash"
         },
         "mode": "lines",
         "name": "Validation EM",
         "type": "scatter",
         "uid": "f1bd0626-6772-4147-b6dc-239f877f9220",
         "x": [
          "10",
          "25",
          "50",
          "75",
          "100"
         ],
         "y": [
          0.0366839290977222,
          0.0356111321628563,
          0.06003452486211107,
          0.10316365626710454,
          0.13672687465790914
         ]
        },
        {
         "fillcolor": "rgba(163,218,151,0.2)",
         "line": {
          "color": "rgba(255,255,255,0)"
         },
         "showlegend": false,
         "type": "scatter",
         "uid": "6505d7cb-4a11-45ae-b4b9-342a115fd8f8",
         "x": [
          "10",
          "25",
          "50",
          "75",
          "100"
         ],
         "y": [
          0.7872225877078133,
          0.9342315788688955,
          1.0595741303035113,
          0.9506995841368544,
          0.9554680181537776
         ]
        },
        {
         "fill": "tonexty",
         "fillcolor": "rgba(163,218,151,0.2)",
         "line": {
          "color": "rgba(255,255,255,0)"
         },
         "name": "Training EM SD",
         "showlegend": false,
         "type": "scatter",
         "uid": "b3401c6d-2e85-4ac5-814e-f0c23bb35fc9",
         "x": [
          "10",
          "25",
          "50",
          "75",
          "100"
         ],
         "y": [
          0.23446711435992362,
          0.36191260262548147,
          0.6733481931210312,
          0.936113221816024,
          0.9445318106592338
         ]
        },
        {
         "fillcolor": "rgba(255,122,101,0.2)",
         "line": {
          "color": "rgba(255,255,255,0)"
         },
         "showlegend": false,
         "type": "scatter",
         "uid": "8ba043a0-2ca0-4516-bbb7-39d6bbd1f330",
         "x": [
          "10",
          "25",
          "50",
          "75",
          "100"
         ],
         "y": [
          0.02013160100287608,
          0.01477176518944276,
          0.03893710410279476,
          0.06224815219526842,
          0.11881394260055542
         ]
        },
        {
         "fill": "tonexty",
         "fillcolor": "rgba(255,122,101,0.2)",
         "line": {
          "color": "rgba(255,255,255,0)"
         },
         "name": "Validation EM SD",
         "showlegend": false,
         "type": "scatter",
         "uid": "266f34f4-3a2e-42ef-923b-3da00e37e730",
         "x": [
          "10",
          "25",
          "50",
          "75",
          "100"
         ],
         "y": [
          0.053236257192568325,
          0.056450499136269844,
          0.08113194562142738,
          0.14407916033894066,
          0.15463980671526287
         ]
        }
       ],
       "layout": {
        "title": {
         "text": ""
        },
        "xaxis": {
         "title": {
          "text": "Training Samples Amount (in %)"
         }
        },
        "yaxis": {
         "title": {
          "text": "Score"
         }
        }
       }
      },
      "text/html": [
       "<div id=\"d71d5ae8-67c3-45ff-bf7d-e43fad2edbb3\" style=\"height: 525px; width: 100%;\" class=\"plotly-graph-div\"></div><script type=\"text/javascript\">require([\"plotly\"], function(Plotly) { window.PLOTLYENV=window.PLOTLYENV || {};window.PLOTLYENV.BASE_URL=\"https://plot.ly\";\n",
       "if (document.getElementById(\"d71d5ae8-67c3-45ff-bf7d-e43fad2edbb3\")) {\n",
       "    Plotly.newPlot(\"d71d5ae8-67c3-45ff-bf7d-e43fad2edbb3\", [{\"line\": {\"color\": \"rgb(163,218,151)\"}, \"mode\": \"lines\", \"name\": \"Training F1\", \"x\": [\"10\", \"25\", \"50\", \"75\", \"100\"], \"y\": [0.60882656114281, 0.7281467764237509, 0.9094886745845082, 0.9758806752021989, 0.9812976621554484], \"type\": \"scatter\", \"uid\": \"1e2470dd-391e-4dce-9b4e-a0a69a2755d2\"}, {\"line\": {\"color\": \"rgb(255,122,101)\"}, \"mode\": \"lines\", \"name\": \"Validation F1\", \"x\": [\"10\", \"25\", \"50\", \"75\", \"100\"], \"y\": [0.1901699570480866, 0.18666700840044026, 0.23258489364351223, 0.29250070165900066, 0.33731690639962064], \"type\": \"scatter\", \"uid\": \"bd4c0aca-bf5d-4f0c-883a-525292978bdd\"}, {\"fillcolor\": \"rgba(163,218,151,0.2)\", \"line\": {\"color\": \"rgba(255,255,255,0)\"}, \"showlegend\": false, \"x\": [\"10\", \"25\", \"50\", \"75\", \"100\"], \"y\": [0.8478620091188187, 0.9653140347809087, 1.075950123616768, 0.9788259808369756, 0.9852485481128231], \"type\": \"scatter\", \"uid\": \"0247d5ab-f9c6-416e-8ad0-92dfd53dc6c5\"}, {\"fill\": \"tonexty\", \"fillcolor\": \"rgba(163,218,151,0.2)\", \"line\": {\"color\": \"rgba(255,255,255,0)\"}, \"name\": \"Training SD\", \"x\": [\"10\", \"25\", \"50\", \"75\", \"100\"], \"y\": [0.3697911131668012, 0.4909795180665931, 0.7430272255522485, 0.9729353695674222, 0.9773467761980738], \"type\": \"scatter\", \"uid\": \"9a87767d-e120-422e-8728-f6ccdbd57a6d\"}, {\"fillcolor\": \"rgba(255,122,101,0.2)\", \"line\": {\"color\": \"rgba(255,255,255,0)\"}, \"showlegend\": false, \"x\": [\"10\", \"25\", \"50\", \"75\", \"100\"], \"y\": [0.15676206550370173, 0.16528891096235385, 0.1937774465947003, 0.2482727629481667, 0.29852630762681803], \"type\": \"scatter\", \"uid\": \"42fdccbc-4f7c-4e2f-82e3-68a5faf852ec\"}, {\"fill\": \"tonexty\", \"fillcolor\": \"rgba(255,122,101,0.2)\", \"line\": {\"color\": \"rgba(255,255,255,0)\"}, \"name\": \"Validation SD\", \"x\": [\"10\", \"25\", \"50\", \"75\", \"100\"], \"y\": [0.22357784859247146, 0.20804510583852667, 0.27139234069232415, 0.33672864036983463, 0.37610750517242325], \"type\": \"scatter\", \"uid\": \"fd863dcd-aaa3-42e1-a271-14f5dd41c8fe\"}, {\"line\": {\"color\": \"rgb(163,218,151)\", \"dash\": \"dash\"}, \"mode\": \"lines\", \"name\": \"Training EM\", \"x\": [\"10\", \"25\", \"50\", \"75\", \"100\"], \"y\": [0.5108448510338685, 0.6480720907471885, 0.8664611617122713, 0.9434064029764392, 0.9499999144065057], \"type\": \"scatter\", \"uid\": \"7088ca42-c5fc-494b-b872-b1115d4e2286\"}, {\"line\": {\"color\": \"rgb(255,122,101)\", \"dash\": \"dash\"}, \"mode\": \"lines\", \"name\": \"Validation EM\", \"x\": [\"10\", \"25\", \"50\", \"75\", \"100\"], \"y\": [0.0366839290977222, 0.0356111321628563, 0.06003452486211107, 0.10316365626710454, 0.13672687465790914], \"type\": \"scatter\", \"uid\": \"f1bd0626-6772-4147-b6dc-239f877f9220\"}, {\"fillcolor\": \"rgba(163,218,151,0.2)\", \"line\": {\"color\": \"rgba(255,255,255,0)\"}, \"showlegend\": false, \"x\": [\"10\", \"25\", \"50\", \"75\", \"100\"], \"y\": [0.7872225877078133, 0.9342315788688955, 1.0595741303035113, 0.9506995841368544, 0.9554680181537776], \"type\": \"scatter\", \"uid\": \"6505d7cb-4a11-45ae-b4b9-342a115fd8f8\"}, {\"fill\": \"tonexty\", \"fillcolor\": \"rgba(163,218,151,0.2)\", \"line\": {\"color\": \"rgba(255,255,255,0)\"}, \"name\": \"Training EM SD\", \"showlegend\": false, \"x\": [\"10\", \"25\", \"50\", \"75\", \"100\"], \"y\": [0.23446711435992362, 0.36191260262548147, 0.6733481931210312, 0.936113221816024, 0.9445318106592338], \"type\": \"scatter\", \"uid\": \"b3401c6d-2e85-4ac5-814e-f0c23bb35fc9\"}, {\"fillcolor\": \"rgba(255,122,101,0.2)\", \"line\": {\"color\": \"rgba(255,255,255,0)\"}, \"showlegend\": false, \"x\": [\"10\", \"25\", \"50\", \"75\", \"100\"], \"y\": [0.02013160100287608, 0.01477176518944276, 0.03893710410279476, 0.06224815219526842, 0.11881394260055542], \"type\": \"scatter\", \"uid\": \"8ba043a0-2ca0-4516-bbb7-39d6bbd1f330\"}, {\"fill\": \"tonexty\", \"fillcolor\": \"rgba(255,122,101,0.2)\", \"line\": {\"color\": \"rgba(255,255,255,0)\"}, \"name\": \"Validation EM SD\", \"showlegend\": false, \"x\": [\"10\", \"25\", \"50\", \"75\", \"100\"], \"y\": [0.053236257192568325, 0.056450499136269844, 0.08113194562142738, 0.14407916033894066, 0.15463980671526287], \"type\": \"scatter\", \"uid\": \"266f34f4-3a2e-42ef-923b-3da00e37e730\"}], {\"title\": {\"text\": \"\"}, \"xaxis\": {\"title\": {\"text\": \"Training Samples Amount (in %)\"}}, \"yaxis\": {\"title\": {\"text\": \"Score\"}}}, {\"showLink\": false, \"linkText\": \"Export to plot.ly\", \"plotlyServerURL\": \"https://plot.ly\"}); \n",
       "}\n",
       "});</script><script type=\"text/javascript\">window.addEventListener(\"resize\", function(){if (document.getElementById(\"d71d5ae8-67c3-45ff-bf7d-e43fad2edbb3\")) {window._Plotly.Plots.resize(document.getElementById(\"d71d5ae8-67c3-45ff-bf7d-e43fad2edbb3\"));};})</script>"
      ],
      "text/vnd.plotly.v1+html": [
       "<div id=\"d71d5ae8-67c3-45ff-bf7d-e43fad2edbb3\" style=\"height: 525px; width: 100%;\" class=\"plotly-graph-div\"></div><script type=\"text/javascript\">require([\"plotly\"], function(Plotly) { window.PLOTLYENV=window.PLOTLYENV || {};window.PLOTLYENV.BASE_URL=\"https://plot.ly\";\n",
       "if (document.getElementById(\"d71d5ae8-67c3-45ff-bf7d-e43fad2edbb3\")) {\n",
       "    Plotly.newPlot(\"d71d5ae8-67c3-45ff-bf7d-e43fad2edbb3\", [{\"line\": {\"color\": \"rgb(163,218,151)\"}, \"mode\": \"lines\", \"name\": \"Training F1\", \"x\": [\"10\", \"25\", \"50\", \"75\", \"100\"], \"y\": [0.60882656114281, 0.7281467764237509, 0.9094886745845082, 0.9758806752021989, 0.9812976621554484], \"type\": \"scatter\", \"uid\": \"1e2470dd-391e-4dce-9b4e-a0a69a2755d2\"}, {\"line\": {\"color\": \"rgb(255,122,101)\"}, \"mode\": \"lines\", \"name\": \"Validation F1\", \"x\": [\"10\", \"25\", \"50\", \"75\", \"100\"], \"y\": [0.1901699570480866, 0.18666700840044026, 0.23258489364351223, 0.29250070165900066, 0.33731690639962064], \"type\": \"scatter\", \"uid\": \"bd4c0aca-bf5d-4f0c-883a-525292978bdd\"}, {\"fillcolor\": \"rgba(163,218,151,0.2)\", \"line\": {\"color\": \"rgba(255,255,255,0)\"}, \"showlegend\": false, \"x\": [\"10\", \"25\", \"50\", \"75\", \"100\"], \"y\": [0.8478620091188187, 0.9653140347809087, 1.075950123616768, 0.9788259808369756, 0.9852485481128231], \"type\": \"scatter\", \"uid\": \"0247d5ab-f9c6-416e-8ad0-92dfd53dc6c5\"}, {\"fill\": \"tonexty\", \"fillcolor\": \"rgba(163,218,151,0.2)\", \"line\": {\"color\": \"rgba(255,255,255,0)\"}, \"name\": \"Training SD\", \"x\": [\"10\", \"25\", \"50\", \"75\", \"100\"], \"y\": [0.3697911131668012, 0.4909795180665931, 0.7430272255522485, 0.9729353695674222, 0.9773467761980738], \"type\": \"scatter\", \"uid\": \"9a87767d-e120-422e-8728-f6ccdbd57a6d\"}, {\"fillcolor\": \"rgba(255,122,101,0.2)\", \"line\": {\"color\": \"rgba(255,255,255,0)\"}, \"showlegend\": false, \"x\": [\"10\", \"25\", \"50\", \"75\", \"100\"], \"y\": [0.15676206550370173, 0.16528891096235385, 0.1937774465947003, 0.2482727629481667, 0.29852630762681803], \"type\": \"scatter\", \"uid\": \"42fdccbc-4f7c-4e2f-82e3-68a5faf852ec\"}, {\"fill\": \"tonexty\", \"fillcolor\": \"rgba(255,122,101,0.2)\", \"line\": {\"color\": \"rgba(255,255,255,0)\"}, \"name\": \"Validation SD\", \"x\": [\"10\", \"25\", \"50\", \"75\", \"100\"], \"y\": [0.22357784859247146, 0.20804510583852667, 0.27139234069232415, 0.33672864036983463, 0.37610750517242325], \"type\": \"scatter\", \"uid\": \"fd863dcd-aaa3-42e1-a271-14f5dd41c8fe\"}, {\"line\": {\"color\": \"rgb(163,218,151)\", \"dash\": \"dash\"}, \"mode\": \"lines\", \"name\": \"Training EM\", \"x\": [\"10\", \"25\", \"50\", \"75\", \"100\"], \"y\": [0.5108448510338685, 0.6480720907471885, 0.8664611617122713, 0.9434064029764392, 0.9499999144065057], \"type\": \"scatter\", \"uid\": \"7088ca42-c5fc-494b-b872-b1115d4e2286\"}, {\"line\": {\"color\": \"rgb(255,122,101)\", \"dash\": \"dash\"}, \"mode\": \"lines\", \"name\": \"Validation EM\", \"x\": [\"10\", \"25\", \"50\", \"75\", \"100\"], \"y\": [0.0366839290977222, 0.0356111321628563, 0.06003452486211107, 0.10316365626710454, 0.13672687465790914], \"type\": \"scatter\", \"uid\": \"f1bd0626-6772-4147-b6dc-239f877f9220\"}, {\"fillcolor\": \"rgba(163,218,151,0.2)\", \"line\": {\"color\": \"rgba(255,255,255,0)\"}, \"showlegend\": false, \"x\": [\"10\", \"25\", \"50\", \"75\", \"100\"], \"y\": [0.7872225877078133, 0.9342315788688955, 1.0595741303035113, 0.9506995841368544, 0.9554680181537776], \"type\": \"scatter\", \"uid\": \"6505d7cb-4a11-45ae-b4b9-342a115fd8f8\"}, {\"fill\": \"tonexty\", \"fillcolor\": \"rgba(163,218,151,0.2)\", \"line\": {\"color\": \"rgba(255,255,255,0)\"}, \"name\": \"Training EM SD\", \"showlegend\": false, \"x\": [\"10\", \"25\", \"50\", \"75\", \"100\"], \"y\": [0.23446711435992362, 0.36191260262548147, 0.6733481931210312, 0.936113221816024, 0.9445318106592338], \"type\": \"scatter\", \"uid\": \"b3401c6d-2e85-4ac5-814e-f0c23bb35fc9\"}, {\"fillcolor\": \"rgba(255,122,101,0.2)\", \"line\": {\"color\": \"rgba(255,255,255,0)\"}, \"showlegend\": false, \"x\": [\"10\", \"25\", \"50\", \"75\", \"100\"], \"y\": [0.02013160100287608, 0.01477176518944276, 0.03893710410279476, 0.06224815219526842, 0.11881394260055542], \"type\": \"scatter\", \"uid\": \"8ba043a0-2ca0-4516-bbb7-39d6bbd1f330\"}, {\"fill\": \"tonexty\", \"fillcolor\": \"rgba(255,122,101,0.2)\", \"line\": {\"color\": \"rgba(255,255,255,0)\"}, \"name\": \"Validation EM SD\", \"showlegend\": false, \"x\": [\"10\", \"25\", \"50\", \"75\", \"100\"], \"y\": [0.053236257192568325, 0.056450499136269844, 0.08113194562142738, 0.14407916033894066, 0.15463980671526287], \"type\": \"scatter\", \"uid\": \"266f34f4-3a2e-42ef-923b-3da00e37e730\"}], {\"title\": {\"text\": \"\"}, \"xaxis\": {\"title\": {\"text\": \"Training Samples Amount (in %)\"}}, \"yaxis\": {\"title\": {\"text\": \"Score\"}}}, {\"showLink\": false, \"linkText\": \"Export to plot.ly\", \"plotlyServerURL\": \"https://plot.ly\"}); \n",
       "}\n",
       "});</script><script type=\"text/javascript\">window.addEventListener(\"resize\", function(){if (document.getElementById(\"d71d5ae8-67c3-45ff-bf7d-e43fad2edbb3\")) {window._Plotly.Plots.resize(document.getElementById(\"d71d5ae8-67c3-45ff-bf7d-e43fad2edbb3\"));};})</script>"
      ]
     },
     "metadata": {},
     "output_type": "display_data"
    }
   ],
   "source": [
    "metrics_elmo_path = \"{}/metrics/elmo\".format(os.getcwd())\n",
    "plot(metrics_elmo_path)\n",
    "# metrics_elmo_path"
   ]
  },
  {
   "cell_type": "markdown",
   "metadata": {},
   "source": [
    "### Curvas de Aprendizado utilizando K-fold sem ELMo, Word Embeddings de 600 dimensões e respostas adicionais para treino e dev."
   ]
  },
  {
   "cell_type": "code",
   "execution_count": 4,
   "metadata": {
    "scrolled": false
   },
   "outputs": [
    {
     "data": {
      "application/vnd.plotly.v1+json": {
       "config": {
        "linkText": "Export to plot.ly",
        "plotlyServerURL": "https://plot.ly",
        "showLink": false
       },
       "data": [
        {
         "line": {
          "color": "rgb(163,218,151)"
         },
         "mode": "lines",
         "name": "Training F1",
         "type": "scatter",
         "uid": "c3bc306c-857e-46c5-8c23-5490c8e93f49",
         "x": [
          "10",
          "25",
          "50",
          "75",
          "100"
         ],
         "y": [
          0.2933603733749407,
          0.42626118846149635,
          0.5746978039267543,
          0.865585195408065,
          0.9628123133624085
         ]
        },
        {
         "line": {
          "color": "rgb(255,122,101)"
         },
         "mode": "lines",
         "name": "Validation F1",
         "type": "scatter",
         "uid": "803e88ab-38d3-4da6-ad59-3ebe6ce5da52",
         "x": [
          "10",
          "25",
          "50",
          "75",
          "100"
         ],
         "y": [
          0.16343299179869306,
          0.16566432615922266,
          0.21175937074478451,
          0.2548661432034651,
          0.2962840569873868
         ]
        },
        {
         "fillcolor": "rgba(163,218,151,0.2)",
         "line": {
          "color": "rgba(255,255,255,0)"
         },
         "showlegend": false,
         "type": "scatter",
         "uid": "882fdff8-98c6-44d1-b69e-dfe7636f85f6",
         "x": [
          "10",
          "25",
          "50",
          "75",
          "100"
         ],
         "y": [
          0.3514792983266001,
          0.5837303187478586,
          0.8179100387294705,
          0.9766695844106746,
          0.9755473477116077
         ]
        },
        {
         "fill": "tonexty",
         "fillcolor": "rgba(163,218,151,0.2)",
         "line": {
          "color": "rgba(255,255,255,0)"
         },
         "name": "Training SD",
         "type": "scatter",
         "uid": "34fe12e9-fd26-45e2-b643-8fe3c7006836",
         "x": [
          "10",
          "25",
          "50",
          "75",
          "100"
         ],
         "y": [
          0.2352414484232813,
          0.26879205817513413,
          0.33148556912403804,
          0.7545008064054554,
          0.9500772790132093
         ]
        },
        {
         "fillcolor": "rgba(255,122,101,0.2)",
         "line": {
          "color": "rgba(255,255,255,0)"
         },
         "showlegend": false,
         "type": "scatter",
         "uid": "90b8a54b-0433-4af6-9e06-c2c581fa858c",
         "x": [
          "10",
          "25",
          "50",
          "75",
          "100"
         ],
         "y": [
          0.13739416417824235,
          0.14244870461545484,
          0.16684483891201174,
          0.22362650844785292,
          0.266925634692316
         ]
        },
        {
         "fill": "tonexty",
         "fillcolor": "rgba(255,122,101,0.2)",
         "line": {
          "color": "rgba(255,255,255,0)"
         },
         "name": "Validation SD",
         "type": "scatter",
         "uid": "c3360696-7c1f-4f3c-be0e-41505ad02295",
         "x": [
          "10",
          "25",
          "50",
          "75",
          "100"
         ],
         "y": [
          0.18947181941914376,
          0.1888799477029905,
          0.2566739025775573,
          0.2861057779590773,
          0.3256424792824576
         ]
        },
        {
         "line": {
          "color": "rgb(163,218,151)",
          "dash": "dash"
         },
         "mode": "lines",
         "name": "Training EM",
         "type": "scatter",
         "uid": "743d869e-618f-4f2a-b75f-a4906525a568",
         "x": [
          "10",
          "25",
          "50",
          "75",
          "100"
         ],
         "y": [
          0.14887253991111135,
          0.3050783518373385,
          0.4540437568258438,
          0.7757184429567977,
          0.9143278204928733
         ]
        },
        {
         "line": {
          "color": "rgb(255,122,101)",
          "dash": "dash"
         },
         "mode": "lines",
         "name": "Validation EM",
         "type": "scatter",
         "uid": "dfc51f22-33c7-4bbe-bcb9-0c7e20850702",
         "x": [
          "10",
          "25",
          "50",
          "75",
          "100"
         ],
         "y": [
          0.018815628815628815,
          0.026643930781861818,
          0.03447391688770999,
          0.07216959285924804,
          0.09553239863584691
         ]
        },
        {
         "fillcolor": "rgba(163,218,151,0.2)",
         "line": {
          "color": "rgba(255,255,255,0)"
         },
         "showlegend": false,
         "type": "scatter",
         "uid": "c6c4a120-38b0-4e53-a40f-2e18b180f7a2",
         "x": [
          "10",
          "25",
          "50",
          "75",
          "100"
         ],
         "y": [
          0.216923168402664,
          0.4701062746420327,
          0.7384954434124456,
          0.9252720515194628,
          0.9378310893348002
         ]
        },
        {
         "fill": "tonexty",
         "fillcolor": "rgba(163,218,151,0.2)",
         "line": {
          "color": "rgba(255,255,255,0)"
         },
         "name": "Training EM SD",
         "showlegend": false,
         "type": "scatter",
         "uid": "08d8cdbb-0d99-42ce-86fb-e26d38577e84",
         "x": [
          "10",
          "25",
          "50",
          "75",
          "100"
         ],
         "y": [
          0.0808219114195587,
          0.1400504290326443,
          0.169592070239242,
          0.6261648343941326,
          0.8908245516509464
         ]
        },
        {
         "fillcolor": "rgba(255,122,101,0.2)",
         "line": {
          "color": "rgba(255,255,255,0)"
         },
         "showlegend": false,
         "type": "scatter",
         "uid": "ad96ca2c-0bcf-4988-a481-2c05c66e790e",
         "x": [
          "10",
          "25",
          "50",
          "75",
          "100"
         ],
         "y": [
          0.007093105618127229,
          0.010787968252408457,
          0.010785304193599972,
          0.03596655704718567,
          0.07532695671093881
         ]
        },
        {
         "fill": "tonexty",
         "fillcolor": "rgba(255,122,101,0.2)",
         "line": {
          "color": "rgba(255,255,255,0)"
         },
         "name": "Validation EM SD",
         "showlegend": false,
         "type": "scatter",
         "uid": "0088c9f3-cc79-41cf-8432-4ab451400535",
         "x": [
          "10",
          "25",
          "50",
          "75",
          "100"
         ],
         "y": [
          0.030538152013130402,
          0.04249989331131518,
          0.058162529581820006,
          0.10837262867131041,
          0.115737840560755
         ]
        }
       ],
       "layout": {
        "title": {
         "text": ""
        },
        "xaxis": {
         "title": {
          "text": "Training Samples Amount (in %)"
         }
        },
        "yaxis": {
         "title": {
          "text": "Score"
         }
        }
       }
      },
      "text/html": [
       "<div id=\"3071ec4e-cd97-4d2e-96b7-93fe93a26b2e\" style=\"height: 525px; width: 100%;\" class=\"plotly-graph-div\"></div><script type=\"text/javascript\">require([\"plotly\"], function(Plotly) { window.PLOTLYENV=window.PLOTLYENV || {};window.PLOTLYENV.BASE_URL=\"https://plot.ly\";\n",
       "if (document.getElementById(\"3071ec4e-cd97-4d2e-96b7-93fe93a26b2e\")) {\n",
       "    Plotly.newPlot(\"3071ec4e-cd97-4d2e-96b7-93fe93a26b2e\", [{\"line\": {\"color\": \"rgb(163,218,151)\"}, \"mode\": \"lines\", \"name\": \"Training F1\", \"x\": [\"10\", \"25\", \"50\", \"75\", \"100\"], \"y\": [0.2933603733749407, 0.42626118846149635, 0.5746978039267543, 0.865585195408065, 0.9628123133624085], \"type\": \"scatter\", \"uid\": \"c3bc306c-857e-46c5-8c23-5490c8e93f49\"}, {\"line\": {\"color\": \"rgb(255,122,101)\"}, \"mode\": \"lines\", \"name\": \"Validation F1\", \"x\": [\"10\", \"25\", \"50\", \"75\", \"100\"], \"y\": [0.16343299179869306, 0.16566432615922266, 0.21175937074478451, 0.2548661432034651, 0.2962840569873868], \"type\": \"scatter\", \"uid\": \"803e88ab-38d3-4da6-ad59-3ebe6ce5da52\"}, {\"fillcolor\": \"rgba(163,218,151,0.2)\", \"line\": {\"color\": \"rgba(255,255,255,0)\"}, \"showlegend\": false, \"x\": [\"10\", \"25\", \"50\", \"75\", \"100\"], \"y\": [0.3514792983266001, 0.5837303187478586, 0.8179100387294705, 0.9766695844106746, 0.9755473477116077], \"type\": \"scatter\", \"uid\": \"882fdff8-98c6-44d1-b69e-dfe7636f85f6\"}, {\"fill\": \"tonexty\", \"fillcolor\": \"rgba(163,218,151,0.2)\", \"line\": {\"color\": \"rgba(255,255,255,0)\"}, \"name\": \"Training SD\", \"x\": [\"10\", \"25\", \"50\", \"75\", \"100\"], \"y\": [0.2352414484232813, 0.26879205817513413, 0.33148556912403804, 0.7545008064054554, 0.9500772790132093], \"type\": \"scatter\", \"uid\": \"34fe12e9-fd26-45e2-b643-8fe3c7006836\"}, {\"fillcolor\": \"rgba(255,122,101,0.2)\", \"line\": {\"color\": \"rgba(255,255,255,0)\"}, \"showlegend\": false, \"x\": [\"10\", \"25\", \"50\", \"75\", \"100\"], \"y\": [0.13739416417824235, 0.14244870461545484, 0.16684483891201174, 0.22362650844785292, 0.266925634692316], \"type\": \"scatter\", \"uid\": \"90b8a54b-0433-4af6-9e06-c2c581fa858c\"}, {\"fill\": \"tonexty\", \"fillcolor\": \"rgba(255,122,101,0.2)\", \"line\": {\"color\": \"rgba(255,255,255,0)\"}, \"name\": \"Validation SD\", \"x\": [\"10\", \"25\", \"50\", \"75\", \"100\"], \"y\": [0.18947181941914376, 0.1888799477029905, 0.2566739025775573, 0.2861057779590773, 0.3256424792824576], \"type\": \"scatter\", \"uid\": \"c3360696-7c1f-4f3c-be0e-41505ad02295\"}, {\"line\": {\"color\": \"rgb(163,218,151)\", \"dash\": \"dash\"}, \"mode\": \"lines\", \"name\": \"Training EM\", \"x\": [\"10\", \"25\", \"50\", \"75\", \"100\"], \"y\": [0.14887253991111135, 0.3050783518373385, 0.4540437568258438, 0.7757184429567977, 0.9143278204928733], \"type\": \"scatter\", \"uid\": \"743d869e-618f-4f2a-b75f-a4906525a568\"}, {\"line\": {\"color\": \"rgb(255,122,101)\", \"dash\": \"dash\"}, \"mode\": \"lines\", \"name\": \"Validation EM\", \"x\": [\"10\", \"25\", \"50\", \"75\", \"100\"], \"y\": [0.018815628815628815, 0.026643930781861818, 0.03447391688770999, 0.07216959285924804, 0.09553239863584691], \"type\": \"scatter\", \"uid\": \"dfc51f22-33c7-4bbe-bcb9-0c7e20850702\"}, {\"fillcolor\": \"rgba(163,218,151,0.2)\", \"line\": {\"color\": \"rgba(255,255,255,0)\"}, \"showlegend\": false, \"x\": [\"10\", \"25\", \"50\", \"75\", \"100\"], \"y\": [0.216923168402664, 0.4701062746420327, 0.7384954434124456, 0.9252720515194628, 0.9378310893348002], \"type\": \"scatter\", \"uid\": \"c6c4a120-38b0-4e53-a40f-2e18b180f7a2\"}, {\"fill\": \"tonexty\", \"fillcolor\": \"rgba(163,218,151,0.2)\", \"line\": {\"color\": \"rgba(255,255,255,0)\"}, \"name\": \"Training EM SD\", \"showlegend\": false, \"x\": [\"10\", \"25\", \"50\", \"75\", \"100\"], \"y\": [0.0808219114195587, 0.1400504290326443, 0.169592070239242, 0.6261648343941326, 0.8908245516509464], \"type\": \"scatter\", \"uid\": \"08d8cdbb-0d99-42ce-86fb-e26d38577e84\"}, {\"fillcolor\": \"rgba(255,122,101,0.2)\", \"line\": {\"color\": \"rgba(255,255,255,0)\"}, \"showlegend\": false, \"x\": [\"10\", \"25\", \"50\", \"75\", \"100\"], \"y\": [0.007093105618127229, 0.010787968252408457, 0.010785304193599972, 0.03596655704718567, 0.07532695671093881], \"type\": \"scatter\", \"uid\": \"ad96ca2c-0bcf-4988-a481-2c05c66e790e\"}, {\"fill\": \"tonexty\", \"fillcolor\": \"rgba(255,122,101,0.2)\", \"line\": {\"color\": \"rgba(255,255,255,0)\"}, \"name\": \"Validation EM SD\", \"showlegend\": false, \"x\": [\"10\", \"25\", \"50\", \"75\", \"100\"], \"y\": [0.030538152013130402, 0.04249989331131518, 0.058162529581820006, 0.10837262867131041, 0.115737840560755], \"type\": \"scatter\", \"uid\": \"0088c9f3-cc79-41cf-8432-4ab451400535\"}], {\"title\": {\"text\": \"\"}, \"xaxis\": {\"title\": {\"text\": \"Training Samples Amount (in %)\"}}, \"yaxis\": {\"title\": {\"text\": \"Score\"}}}, {\"showLink\": false, \"linkText\": \"Export to plot.ly\", \"plotlyServerURL\": \"https://plot.ly\"}); \n",
       "}\n",
       "});</script><script type=\"text/javascript\">window.addEventListener(\"resize\", function(){if (document.getElementById(\"3071ec4e-cd97-4d2e-96b7-93fe93a26b2e\")) {window._Plotly.Plots.resize(document.getElementById(\"3071ec4e-cd97-4d2e-96b7-93fe93a26b2e\"));};})</script>"
      ],
      "text/vnd.plotly.v1+html": [
       "<div id=\"3071ec4e-cd97-4d2e-96b7-93fe93a26b2e\" style=\"height: 525px; width: 100%;\" class=\"plotly-graph-div\"></div><script type=\"text/javascript\">require([\"plotly\"], function(Plotly) { window.PLOTLYENV=window.PLOTLYENV || {};window.PLOTLYENV.BASE_URL=\"https://plot.ly\";\n",
       "if (document.getElementById(\"3071ec4e-cd97-4d2e-96b7-93fe93a26b2e\")) {\n",
       "    Plotly.newPlot(\"3071ec4e-cd97-4d2e-96b7-93fe93a26b2e\", [{\"line\": {\"color\": \"rgb(163,218,151)\"}, \"mode\": \"lines\", \"name\": \"Training F1\", \"x\": [\"10\", \"25\", \"50\", \"75\", \"100\"], \"y\": [0.2933603733749407, 0.42626118846149635, 0.5746978039267543, 0.865585195408065, 0.9628123133624085], \"type\": \"scatter\", \"uid\": \"c3bc306c-857e-46c5-8c23-5490c8e93f49\"}, {\"line\": {\"color\": \"rgb(255,122,101)\"}, \"mode\": \"lines\", \"name\": \"Validation F1\", \"x\": [\"10\", \"25\", \"50\", \"75\", \"100\"], \"y\": [0.16343299179869306, 0.16566432615922266, 0.21175937074478451, 0.2548661432034651, 0.2962840569873868], \"type\": \"scatter\", \"uid\": \"803e88ab-38d3-4da6-ad59-3ebe6ce5da52\"}, {\"fillcolor\": \"rgba(163,218,151,0.2)\", \"line\": {\"color\": \"rgba(255,255,255,0)\"}, \"showlegend\": false, \"x\": [\"10\", \"25\", \"50\", \"75\", \"100\"], \"y\": [0.3514792983266001, 0.5837303187478586, 0.8179100387294705, 0.9766695844106746, 0.9755473477116077], \"type\": \"scatter\", \"uid\": \"882fdff8-98c6-44d1-b69e-dfe7636f85f6\"}, {\"fill\": \"tonexty\", \"fillcolor\": \"rgba(163,218,151,0.2)\", \"line\": {\"color\": \"rgba(255,255,255,0)\"}, \"name\": \"Training SD\", \"x\": [\"10\", \"25\", \"50\", \"75\", \"100\"], \"y\": [0.2352414484232813, 0.26879205817513413, 0.33148556912403804, 0.7545008064054554, 0.9500772790132093], \"type\": \"scatter\", \"uid\": \"34fe12e9-fd26-45e2-b643-8fe3c7006836\"}, {\"fillcolor\": \"rgba(255,122,101,0.2)\", \"line\": {\"color\": \"rgba(255,255,255,0)\"}, \"showlegend\": false, \"x\": [\"10\", \"25\", \"50\", \"75\", \"100\"], \"y\": [0.13739416417824235, 0.14244870461545484, 0.16684483891201174, 0.22362650844785292, 0.266925634692316], \"type\": \"scatter\", \"uid\": \"90b8a54b-0433-4af6-9e06-c2c581fa858c\"}, {\"fill\": \"tonexty\", \"fillcolor\": \"rgba(255,122,101,0.2)\", \"line\": {\"color\": \"rgba(255,255,255,0)\"}, \"name\": \"Validation SD\", \"x\": [\"10\", \"25\", \"50\", \"75\", \"100\"], \"y\": [0.18947181941914376, 0.1888799477029905, 0.2566739025775573, 0.2861057779590773, 0.3256424792824576], \"type\": \"scatter\", \"uid\": \"c3360696-7c1f-4f3c-be0e-41505ad02295\"}, {\"line\": {\"color\": \"rgb(163,218,151)\", \"dash\": \"dash\"}, \"mode\": \"lines\", \"name\": \"Training EM\", \"x\": [\"10\", \"25\", \"50\", \"75\", \"100\"], \"y\": [0.14887253991111135, 0.3050783518373385, 0.4540437568258438, 0.7757184429567977, 0.9143278204928733], \"type\": \"scatter\", \"uid\": \"743d869e-618f-4f2a-b75f-a4906525a568\"}, {\"line\": {\"color\": \"rgb(255,122,101)\", \"dash\": \"dash\"}, \"mode\": \"lines\", \"name\": \"Validation EM\", \"x\": [\"10\", \"25\", \"50\", \"75\", \"100\"], \"y\": [0.018815628815628815, 0.026643930781861818, 0.03447391688770999, 0.07216959285924804, 0.09553239863584691], \"type\": \"scatter\", \"uid\": \"dfc51f22-33c7-4bbe-bcb9-0c7e20850702\"}, {\"fillcolor\": \"rgba(163,218,151,0.2)\", \"line\": {\"color\": \"rgba(255,255,255,0)\"}, \"showlegend\": false, \"x\": [\"10\", \"25\", \"50\", \"75\", \"100\"], \"y\": [0.216923168402664, 0.4701062746420327, 0.7384954434124456, 0.9252720515194628, 0.9378310893348002], \"type\": \"scatter\", \"uid\": \"c6c4a120-38b0-4e53-a40f-2e18b180f7a2\"}, {\"fill\": \"tonexty\", \"fillcolor\": \"rgba(163,218,151,0.2)\", \"line\": {\"color\": \"rgba(255,255,255,0)\"}, \"name\": \"Training EM SD\", \"showlegend\": false, \"x\": [\"10\", \"25\", \"50\", \"75\", \"100\"], \"y\": [0.0808219114195587, 0.1400504290326443, 0.169592070239242, 0.6261648343941326, 0.8908245516509464], \"type\": \"scatter\", \"uid\": \"08d8cdbb-0d99-42ce-86fb-e26d38577e84\"}, {\"fillcolor\": \"rgba(255,122,101,0.2)\", \"line\": {\"color\": \"rgba(255,255,255,0)\"}, \"showlegend\": false, \"x\": [\"10\", \"25\", \"50\", \"75\", \"100\"], \"y\": [0.007093105618127229, 0.010787968252408457, 0.010785304193599972, 0.03596655704718567, 0.07532695671093881], \"type\": \"scatter\", \"uid\": \"ad96ca2c-0bcf-4988-a481-2c05c66e790e\"}, {\"fill\": \"tonexty\", \"fillcolor\": \"rgba(255,122,101,0.2)\", \"line\": {\"color\": \"rgba(255,255,255,0)\"}, \"name\": \"Validation EM SD\", \"showlegend\": false, \"x\": [\"10\", \"25\", \"50\", \"75\", \"100\"], \"y\": [0.030538152013130402, 0.04249989331131518, 0.058162529581820006, 0.10837262867131041, 0.115737840560755], \"type\": \"scatter\", \"uid\": \"0088c9f3-cc79-41cf-8432-4ab451400535\"}], {\"title\": {\"text\": \"\"}, \"xaxis\": {\"title\": {\"text\": \"Training Samples Amount (in %)\"}}, \"yaxis\": {\"title\": {\"text\": \"Score\"}}}, {\"showLink\": false, \"linkText\": \"Export to plot.ly\", \"plotlyServerURL\": \"https://plot.ly\"}); \n",
       "}\n",
       "});</script><script type=\"text/javascript\">window.addEventListener(\"resize\", function(){if (document.getElementById(\"3071ec4e-cd97-4d2e-96b7-93fe93a26b2e\")) {window._Plotly.Plots.resize(document.getElementById(\"3071ec4e-cd97-4d2e-96b7-93fe93a26b2e\"));};})</script>"
      ]
     },
     "metadata": {},
     "output_type": "display_data"
    }
   ],
   "source": [
    "metrics_no_elmo_path = \"{}/metrics/no_elmo\".format(os.getcwd())\n",
    "plot(metrics_no_elmo_path)"
   ]
  },
  {
   "cell_type": "markdown",
   "metadata": {},
   "source": [
    "### Curvas de Aprendizado sem K-Fold e com ELMo, com Word Embeddings de 600 dimensões e respostas adicionais para treino e dev."
   ]
  },
  {
   "cell_type": "code",
   "execution_count": 5,
   "metadata": {
    "scrolled": false
   },
   "outputs": [
    {
     "data": {
      "application/vnd.plotly.v1+json": {
       "config": {
        "linkText": "Export to plot.ly",
        "plotlyServerURL": "https://plot.ly",
        "showLink": false
       },
       "data": [
        {
         "line": {
          "color": "rgb(163,218,151)"
         },
         "mode": "lines",
         "name": "Training F1",
         "type": "scatter",
         "uid": "ce0b0637-8c6d-4d49-ad86-6620fd68ea1f",
         "x": [
          "10",
          "25",
          "50",
          "75",
          "100"
         ],
         "y": [
          0.6170317671149266,
          0.5025182821886298,
          0.9786308985778861,
          0.9780632655540922,
          0.9782481182935795
         ]
        },
        {
         "line": {
          "color": "rgb(255,122,101)"
         },
         "mode": "lines",
         "name": "Validation F1",
         "type": "scatter",
         "uid": "aea5c008-82db-4931-8277-8aa8f0ba4d24",
         "x": [
          "10",
          "25",
          "50",
          "75",
          "100"
         ],
         "y": [
          0.3267164720044898,
          0.3610185503188394,
          0.4299751990987093,
          0.4895108532920971,
          0.4673085448741661
         ]
        },
        {
         "line": {
          "color": "rgb(163,218,151)",
          "dash": "dash"
         },
         "mode": "lines",
         "name": "Training EM",
         "type": "scatter",
         "uid": "af038513-044d-4bbd-b657-0df60676dec1",
         "x": [
          "10",
          "25",
          "50",
          "75",
          "100"
         ],
         "y": [
          0.5707762557077626,
          0.4200426439232409,
          0.953360768175583,
          0.953939393939394,
          0.9522102747909199
         ]
        },
        {
         "line": {
          "color": "rgb(255,122,101)",
          "dash": "dash"
         },
         "mode": "lines",
         "name": "Validation EM",
         "type": "scatter",
         "uid": "d92177cc-7aad-4511-8ae3-7853ca48f4a0",
         "x": [
          "10",
          "25",
          "50",
          "75",
          "100"
         ],
         "y": [
          0.06349206349206349,
          0.06349206349206349,
          0.2222222222222222,
          0.2222222222222222,
          0.2222222222222222
         ]
        }
       ],
       "layout": {
        "title": {
         "text": ""
        },
        "xaxis": {
         "title": {
          "text": "Training Samples Amount (in %)"
         }
        },
        "yaxis": {
         "title": {
          "text": "Score"
         }
        }
       }
      },
      "text/html": [
       "<div id=\"6f443d68-ca3c-438f-9e2b-c302a303705e\" style=\"height: 525px; width: 100%;\" class=\"plotly-graph-div\"></div><script type=\"text/javascript\">require([\"plotly\"], function(Plotly) { window.PLOTLYENV=window.PLOTLYENV || {};window.PLOTLYENV.BASE_URL=\"https://plot.ly\";\n",
       "if (document.getElementById(\"6f443d68-ca3c-438f-9e2b-c302a303705e\")) {\n",
       "    Plotly.newPlot(\"6f443d68-ca3c-438f-9e2b-c302a303705e\", [{\"line\": {\"color\": \"rgb(163,218,151)\"}, \"mode\": \"lines\", \"name\": \"Training F1\", \"x\": [\"10\", \"25\", \"50\", \"75\", \"100\"], \"y\": [0.6170317671149266, 0.5025182821886298, 0.9786308985778861, 0.9780632655540922, 0.9782481182935795], \"type\": \"scatter\", \"uid\": \"ce0b0637-8c6d-4d49-ad86-6620fd68ea1f\"}, {\"line\": {\"color\": \"rgb(255,122,101)\"}, \"mode\": \"lines\", \"name\": \"Validation F1\", \"x\": [\"10\", \"25\", \"50\", \"75\", \"100\"], \"y\": [0.3267164720044898, 0.3610185503188394, 0.4299751990987093, 0.4895108532920971, 0.4673085448741661], \"type\": \"scatter\", \"uid\": \"aea5c008-82db-4931-8277-8aa8f0ba4d24\"}, {\"line\": {\"color\": \"rgb(163,218,151)\", \"dash\": \"dash\"}, \"mode\": \"lines\", \"name\": \"Training EM\", \"x\": [\"10\", \"25\", \"50\", \"75\", \"100\"], \"y\": [0.5707762557077626, 0.4200426439232409, 0.953360768175583, 0.953939393939394, 0.9522102747909199], \"type\": \"scatter\", \"uid\": \"af038513-044d-4bbd-b657-0df60676dec1\"}, {\"line\": {\"color\": \"rgb(255,122,101)\", \"dash\": \"dash\"}, \"mode\": \"lines\", \"name\": \"Validation EM\", \"x\": [\"10\", \"25\", \"50\", \"75\", \"100\"], \"y\": [0.06349206349206349, 0.06349206349206349, 0.2222222222222222, 0.2222222222222222, 0.2222222222222222], \"type\": \"scatter\", \"uid\": \"d92177cc-7aad-4511-8ae3-7853ca48f4a0\"}], {\"title\": {\"text\": \"\"}, \"xaxis\": {\"title\": {\"text\": \"Training Samples Amount (in %)\"}}, \"yaxis\": {\"title\": {\"text\": \"Score\"}}}, {\"showLink\": false, \"linkText\": \"Export to plot.ly\", \"plotlyServerURL\": \"https://plot.ly\"}); \n",
       "}\n",
       "});</script><script type=\"text/javascript\">window.addEventListener(\"resize\", function(){if (document.getElementById(\"6f443d68-ca3c-438f-9e2b-c302a303705e\")) {window._Plotly.Plots.resize(document.getElementById(\"6f443d68-ca3c-438f-9e2b-c302a303705e\"));};})</script>"
      ],
      "text/vnd.plotly.v1+html": [
       "<div id=\"6f443d68-ca3c-438f-9e2b-c302a303705e\" style=\"height: 525px; width: 100%;\" class=\"plotly-graph-div\"></div><script type=\"text/javascript\">require([\"plotly\"], function(Plotly) { window.PLOTLYENV=window.PLOTLYENV || {};window.PLOTLYENV.BASE_URL=\"https://plot.ly\";\n",
       "if (document.getElementById(\"6f443d68-ca3c-438f-9e2b-c302a303705e\")) {\n",
       "    Plotly.newPlot(\"6f443d68-ca3c-438f-9e2b-c302a303705e\", [{\"line\": {\"color\": \"rgb(163,218,151)\"}, \"mode\": \"lines\", \"name\": \"Training F1\", \"x\": [\"10\", \"25\", \"50\", \"75\", \"100\"], \"y\": [0.6170317671149266, 0.5025182821886298, 0.9786308985778861, 0.9780632655540922, 0.9782481182935795], \"type\": \"scatter\", \"uid\": \"ce0b0637-8c6d-4d49-ad86-6620fd68ea1f\"}, {\"line\": {\"color\": \"rgb(255,122,101)\"}, \"mode\": \"lines\", \"name\": \"Validation F1\", \"x\": [\"10\", \"25\", \"50\", \"75\", \"100\"], \"y\": [0.3267164720044898, 0.3610185503188394, 0.4299751990987093, 0.4895108532920971, 0.4673085448741661], \"type\": \"scatter\", \"uid\": \"aea5c008-82db-4931-8277-8aa8f0ba4d24\"}, {\"line\": {\"color\": \"rgb(163,218,151)\", \"dash\": \"dash\"}, \"mode\": \"lines\", \"name\": \"Training EM\", \"x\": [\"10\", \"25\", \"50\", \"75\", \"100\"], \"y\": [0.5707762557077626, 0.4200426439232409, 0.953360768175583, 0.953939393939394, 0.9522102747909199], \"type\": \"scatter\", \"uid\": \"af038513-044d-4bbd-b657-0df60676dec1\"}, {\"line\": {\"color\": \"rgb(255,122,101)\", \"dash\": \"dash\"}, \"mode\": \"lines\", \"name\": \"Validation EM\", \"x\": [\"10\", \"25\", \"50\", \"75\", \"100\"], \"y\": [0.06349206349206349, 0.06349206349206349, 0.2222222222222222, 0.2222222222222222, 0.2222222222222222], \"type\": \"scatter\", \"uid\": \"d92177cc-7aad-4511-8ae3-7853ca48f4a0\"}], {\"title\": {\"text\": \"\"}, \"xaxis\": {\"title\": {\"text\": \"Training Samples Amount (in %)\"}}, \"yaxis\": {\"title\": {\"text\": \"Score\"}}}, {\"showLink\": false, \"linkText\": \"Export to plot.ly\", \"plotlyServerURL\": \"https://plot.ly\"}); \n",
       "}\n",
       "});</script><script type=\"text/javascript\">window.addEventListener(\"resize\", function(){if (document.getElementById(\"6f443d68-ca3c-438f-9e2b-c302a303705e\")) {window._Plotly.Plots.resize(document.getElementById(\"6f443d68-ca3c-438f-9e2b-c302a303705e\"));};})</script>"
      ]
     },
     "metadata": {},
     "output_type": "display_data"
    }
   ],
   "source": [
    "metrics_single_fold_elmo_path = \"{}/metrics/single_fold_elmo\".format(os.getcwd())\n",
    "plot_single_fold(metrics_single_fold_elmo_path)"
   ]
  },
  {
   "cell_type": "markdown",
   "metadata": {},
   "source": [
    "### Curvas de Aprendizado sem K-Fold e sem ELMo, com Word Embeddings de 600 dimensões e respostas adicionais para treino e dev."
   ]
  },
  {
   "cell_type": "code",
   "execution_count": 6,
   "metadata": {},
   "outputs": [
    {
     "data": {
      "application/vnd.plotly.v1+json": {
       "config": {
        "linkText": "Export to plot.ly",
        "plotlyServerURL": "https://plot.ly",
        "showLink": false
       },
       "data": [
        {
         "line": {
          "color": "rgb(163,218,151)"
         },
         "mode": "lines",
         "name": "Training F1",
         "type": "scatter",
         "uid": "d1960459-d548-4a86-b48c-1a285884ccbd",
         "x": [
          "10",
          "25",
          "50",
          "75",
          "100"
         ],
         "y": [
          0.7667357791203572,
          0.9506731669340456,
          0.9560872600763132,
          0.9461498674605393,
          0.908122486798762
         ]
        },
        {
         "line": {
          "color": "rgb(255,122,101)"
         },
         "mode": "lines",
         "name": "Validation F1",
         "type": "scatter",
         "uid": "796e9086-cd47-4a6d-8bda-24b6d26701a7",
         "x": [
          "10",
          "25",
          "50",
          "75",
          "100"
         ],
         "y": [
          0.28588269722623644,
          0.38969952023863047,
          0.40064340082029676,
          0.4050473744545434,
          0.4279977462063188
         ]
        },
        {
         "line": {
          "color": "rgb(163,218,151)",
          "dash": "dash"
         },
         "mode": "lines",
         "name": "Training EM",
         "type": "scatter",
         "uid": "c9ef52ea-c571-4983-b607-08460009aa38",
         "x": [
          "10",
          "25",
          "50",
          "75",
          "100"
         ],
         "y": [
          0.6940639269406392,
          0.9040511727078892,
          0.897119341563786,
          0.8957575757575758,
          0.8327359617682198
         ]
        },
        {
         "line": {
          "color": "rgb(255,122,101)",
          "dash": "dash"
         },
         "mode": "lines",
         "name": "Validation EM",
         "type": "scatter",
         "uid": "2f8e14e9-9ee1-4cd8-ab60-744582d8012c",
         "x": [
          "10",
          "25",
          "50",
          "75",
          "100"
         ],
         "y": [
          0.06349206349206349,
          0.15873015873015872,
          0.19047619047619047,
          0.1746031746031746,
          0.25396825396825395
         ]
        }
       ],
       "layout": {
        "title": {
         "text": ""
        },
        "xaxis": {
         "title": {
          "text": "Training Samples Amount (in %)"
         }
        },
        "yaxis": {
         "title": {
          "text": "Score"
         }
        }
       }
      },
      "text/html": [
       "<div id=\"a499223a-dec4-4381-a5d4-22e8e0bcb474\" style=\"height: 525px; width: 100%;\" class=\"plotly-graph-div\"></div><script type=\"text/javascript\">require([\"plotly\"], function(Plotly) { window.PLOTLYENV=window.PLOTLYENV || {};window.PLOTLYENV.BASE_URL=\"https://plot.ly\";\n",
       "if (document.getElementById(\"a499223a-dec4-4381-a5d4-22e8e0bcb474\")) {\n",
       "    Plotly.newPlot(\"a499223a-dec4-4381-a5d4-22e8e0bcb474\", [{\"line\": {\"color\": \"rgb(163,218,151)\"}, \"mode\": \"lines\", \"name\": \"Training F1\", \"x\": [\"10\", \"25\", \"50\", \"75\", \"100\"], \"y\": [0.7667357791203572, 0.9506731669340456, 0.9560872600763132, 0.9461498674605393, 0.908122486798762], \"type\": \"scatter\", \"uid\": \"d1960459-d548-4a86-b48c-1a285884ccbd\"}, {\"line\": {\"color\": \"rgb(255,122,101)\"}, \"mode\": \"lines\", \"name\": \"Validation F1\", \"x\": [\"10\", \"25\", \"50\", \"75\", \"100\"], \"y\": [0.28588269722623644, 0.38969952023863047, 0.40064340082029676, 0.4050473744545434, 0.4279977462063188], \"type\": \"scatter\", \"uid\": \"796e9086-cd47-4a6d-8bda-24b6d26701a7\"}, {\"line\": {\"color\": \"rgb(163,218,151)\", \"dash\": \"dash\"}, \"mode\": \"lines\", \"name\": \"Training EM\", \"x\": [\"10\", \"25\", \"50\", \"75\", \"100\"], \"y\": [0.6940639269406392, 0.9040511727078892, 0.897119341563786, 0.8957575757575758, 0.8327359617682198], \"type\": \"scatter\", \"uid\": \"c9ef52ea-c571-4983-b607-08460009aa38\"}, {\"line\": {\"color\": \"rgb(255,122,101)\", \"dash\": \"dash\"}, \"mode\": \"lines\", \"name\": \"Validation EM\", \"x\": [\"10\", \"25\", \"50\", \"75\", \"100\"], \"y\": [0.06349206349206349, 0.15873015873015872, 0.19047619047619047, 0.1746031746031746, 0.25396825396825395], \"type\": \"scatter\", \"uid\": \"2f8e14e9-9ee1-4cd8-ab60-744582d8012c\"}], {\"title\": {\"text\": \"\"}, \"xaxis\": {\"title\": {\"text\": \"Training Samples Amount (in %)\"}}, \"yaxis\": {\"title\": {\"text\": \"Score\"}}}, {\"showLink\": false, \"linkText\": \"Export to plot.ly\", \"plotlyServerURL\": \"https://plot.ly\"}); \n",
       "}\n",
       "});</script><script type=\"text/javascript\">window.addEventListener(\"resize\", function(){if (document.getElementById(\"a499223a-dec4-4381-a5d4-22e8e0bcb474\")) {window._Plotly.Plots.resize(document.getElementById(\"a499223a-dec4-4381-a5d4-22e8e0bcb474\"));};})</script>"
      ],
      "text/vnd.plotly.v1+html": [
       "<div id=\"a499223a-dec4-4381-a5d4-22e8e0bcb474\" style=\"height: 525px; width: 100%;\" class=\"plotly-graph-div\"></div><script type=\"text/javascript\">require([\"plotly\"], function(Plotly) { window.PLOTLYENV=window.PLOTLYENV || {};window.PLOTLYENV.BASE_URL=\"https://plot.ly\";\n",
       "if (document.getElementById(\"a499223a-dec4-4381-a5d4-22e8e0bcb474\")) {\n",
       "    Plotly.newPlot(\"a499223a-dec4-4381-a5d4-22e8e0bcb474\", [{\"line\": {\"color\": \"rgb(163,218,151)\"}, \"mode\": \"lines\", \"name\": \"Training F1\", \"x\": [\"10\", \"25\", \"50\", \"75\", \"100\"], \"y\": [0.7667357791203572, 0.9506731669340456, 0.9560872600763132, 0.9461498674605393, 0.908122486798762], \"type\": \"scatter\", \"uid\": \"d1960459-d548-4a86-b48c-1a285884ccbd\"}, {\"line\": {\"color\": \"rgb(255,122,101)\"}, \"mode\": \"lines\", \"name\": \"Validation F1\", \"x\": [\"10\", \"25\", \"50\", \"75\", \"100\"], \"y\": [0.28588269722623644, 0.38969952023863047, 0.40064340082029676, 0.4050473744545434, 0.4279977462063188], \"type\": \"scatter\", \"uid\": \"796e9086-cd47-4a6d-8bda-24b6d26701a7\"}, {\"line\": {\"color\": \"rgb(163,218,151)\", \"dash\": \"dash\"}, \"mode\": \"lines\", \"name\": \"Training EM\", \"x\": [\"10\", \"25\", \"50\", \"75\", \"100\"], \"y\": [0.6940639269406392, 0.9040511727078892, 0.897119341563786, 0.8957575757575758, 0.8327359617682198], \"type\": \"scatter\", \"uid\": \"c9ef52ea-c571-4983-b607-08460009aa38\"}, {\"line\": {\"color\": \"rgb(255,122,101)\", \"dash\": \"dash\"}, \"mode\": \"lines\", \"name\": \"Validation EM\", \"x\": [\"10\", \"25\", \"50\", \"75\", \"100\"], \"y\": [0.06349206349206349, 0.15873015873015872, 0.19047619047619047, 0.1746031746031746, 0.25396825396825395], \"type\": \"scatter\", \"uid\": \"2f8e14e9-9ee1-4cd8-ab60-744582d8012c\"}], {\"title\": {\"text\": \"\"}, \"xaxis\": {\"title\": {\"text\": \"Training Samples Amount (in %)\"}}, \"yaxis\": {\"title\": {\"text\": \"Score\"}}}, {\"showLink\": false, \"linkText\": \"Export to plot.ly\", \"plotlyServerURL\": \"https://plot.ly\"}); \n",
       "}\n",
       "});</script><script type=\"text/javascript\">window.addEventListener(\"resize\", function(){if (document.getElementById(\"a499223a-dec4-4381-a5d4-22e8e0bcb474\")) {window._Plotly.Plots.resize(document.getElementById(\"a499223a-dec4-4381-a5d4-22e8e0bcb474\"));};})</script>"
      ]
     },
     "metadata": {},
     "output_type": "display_data"
    }
   ],
   "source": [
    "metrics_single_fold_no_elmo_path = \"{}/metrics/single_fold_no_elmo\".format(os.getcwd())\n",
    "plot_single_fold(metrics_single_fold_no_elmo_path)"
   ]
  },
  {
   "cell_type": "markdown",
   "metadata": {},
   "source": [
    "### Curvas de Aprendizado sem K-Fold e com ELMo, com Word Embeddings de 600 dimensões e respostas adicionais apenas para dev."
   ]
  },
  {
   "cell_type": "code",
   "execution_count": 7,
   "metadata": {
    "scrolled": false
   },
   "outputs": [
    {
     "data": {
      "application/vnd.plotly.v1+json": {
       "config": {
        "linkText": "Export to plot.ly",
        "plotlyServerURL": "https://plot.ly",
        "showLink": false
       },
       "data": [
        {
         "line": {
          "color": "rgb(163,218,151)"
         },
         "mode": "lines",
         "name": "Training F1",
         "type": "scatter",
         "uid": "45745947-542c-4eaa-aa3c-82dcee45a042",
         "x": [
          "10",
          "25",
          "50",
          "75",
          "100"
         ],
         "y": [
          0.8501322831817111,
          0.44739680661130315,
          0.9880800755453,
          0.9796715843838862,
          0.9835898056815203
         ]
        },
        {
         "line": {
          "color": "rgb(255,122,101)"
         },
         "mode": "lines",
         "name": "Validation F1",
         "type": "scatter",
         "uid": "c57ffc3d-fd3d-444a-ad50-f20bde4067e8",
         "x": [
          "10",
          "25",
          "50",
          "75",
          "100"
         ],
         "y": [
          0.3031248100081656,
          0.34791750046482856,
          0.44553980841007645,
          0.5082978575643291,
          0.5101020101267073
         ]
        },
        {
         "line": {
          "color": "rgb(163,218,151)",
          "dash": "dash"
         },
         "mode": "lines",
         "name": "Training EM",
         "type": "scatter",
         "uid": "770cc0e8-06ae-476e-9146-97132d03c54b",
         "x": [
          "10",
          "25",
          "50",
          "75",
          "100"
         ],
         "y": [
          0.8082191780821918,
          0.3603411513859275,
          0.9643347050754458,
          0.9490909090909091,
          0.9522102747909199
         ]
        },
        {
         "line": {
          "color": "rgb(255,122,101)",
          "dash": "dash"
         },
         "mode": "lines",
         "name": "Validation EM",
         "type": "scatter",
         "uid": "8863b4d3-53e7-433e-a325-b42ca787bdbd",
         "x": [
          "10",
          "25",
          "50",
          "75",
          "100"
         ],
         "y": [
          0.06349206349206349,
          0.06349206349206349,
          0.2222222222222222,
          0.2222222222222222,
          0.2222222222222222
         ]
        }
       ],
       "layout": {
        "title": {
         "text": ""
        },
        "xaxis": {
         "title": {
          "text": "Training Samples Amount (in %)"
         }
        },
        "yaxis": {
         "title": {
          "text": "Score"
         }
        }
       }
      },
      "text/html": [
       "<div id=\"54aab21e-fff3-4997-bb33-51526a260020\" style=\"height: 525px; width: 100%;\" class=\"plotly-graph-div\"></div><script type=\"text/javascript\">require([\"plotly\"], function(Plotly) { window.PLOTLYENV=window.PLOTLYENV || {};window.PLOTLYENV.BASE_URL=\"https://plot.ly\";\n",
       "if (document.getElementById(\"54aab21e-fff3-4997-bb33-51526a260020\")) {\n",
       "    Plotly.newPlot(\"54aab21e-fff3-4997-bb33-51526a260020\", [{\"line\": {\"color\": \"rgb(163,218,151)\"}, \"mode\": \"lines\", \"name\": \"Training F1\", \"x\": [\"10\", \"25\", \"50\", \"75\", \"100\"], \"y\": [0.8501322831817111, 0.44739680661130315, 0.9880800755453, 0.9796715843838862, 0.9835898056815203], \"type\": \"scatter\", \"uid\": \"45745947-542c-4eaa-aa3c-82dcee45a042\"}, {\"line\": {\"color\": \"rgb(255,122,101)\"}, \"mode\": \"lines\", \"name\": \"Validation F1\", \"x\": [\"10\", \"25\", \"50\", \"75\", \"100\"], \"y\": [0.3031248100081656, 0.34791750046482856, 0.44553980841007645, 0.5082978575643291, 0.5101020101267073], \"type\": \"scatter\", \"uid\": \"c57ffc3d-fd3d-444a-ad50-f20bde4067e8\"}, {\"line\": {\"color\": \"rgb(163,218,151)\", \"dash\": \"dash\"}, \"mode\": \"lines\", \"name\": \"Training EM\", \"x\": [\"10\", \"25\", \"50\", \"75\", \"100\"], \"y\": [0.8082191780821918, 0.3603411513859275, 0.9643347050754458, 0.9490909090909091, 0.9522102747909199], \"type\": \"scatter\", \"uid\": \"770cc0e8-06ae-476e-9146-97132d03c54b\"}, {\"line\": {\"color\": \"rgb(255,122,101)\", \"dash\": \"dash\"}, \"mode\": \"lines\", \"name\": \"Validation EM\", \"x\": [\"10\", \"25\", \"50\", \"75\", \"100\"], \"y\": [0.06349206349206349, 0.06349206349206349, 0.2222222222222222, 0.2222222222222222, 0.2222222222222222], \"type\": \"scatter\", \"uid\": \"8863b4d3-53e7-433e-a325-b42ca787bdbd\"}], {\"title\": {\"text\": \"\"}, \"xaxis\": {\"title\": {\"text\": \"Training Samples Amount (in %)\"}}, \"yaxis\": {\"title\": {\"text\": \"Score\"}}}, {\"showLink\": false, \"linkText\": \"Export to plot.ly\", \"plotlyServerURL\": \"https://plot.ly\"}); \n",
       "}\n",
       "});</script><script type=\"text/javascript\">window.addEventListener(\"resize\", function(){if (document.getElementById(\"54aab21e-fff3-4997-bb33-51526a260020\")) {window._Plotly.Plots.resize(document.getElementById(\"54aab21e-fff3-4997-bb33-51526a260020\"));};})</script>"
      ],
      "text/vnd.plotly.v1+html": [
       "<div id=\"54aab21e-fff3-4997-bb33-51526a260020\" style=\"height: 525px; width: 100%;\" class=\"plotly-graph-div\"></div><script type=\"text/javascript\">require([\"plotly\"], function(Plotly) { window.PLOTLYENV=window.PLOTLYENV || {};window.PLOTLYENV.BASE_URL=\"https://plot.ly\";\n",
       "if (document.getElementById(\"54aab21e-fff3-4997-bb33-51526a260020\")) {\n",
       "    Plotly.newPlot(\"54aab21e-fff3-4997-bb33-51526a260020\", [{\"line\": {\"color\": \"rgb(163,218,151)\"}, \"mode\": \"lines\", \"name\": \"Training F1\", \"x\": [\"10\", \"25\", \"50\", \"75\", \"100\"], \"y\": [0.8501322831817111, 0.44739680661130315, 0.9880800755453, 0.9796715843838862, 0.9835898056815203], \"type\": \"scatter\", \"uid\": \"45745947-542c-4eaa-aa3c-82dcee45a042\"}, {\"line\": {\"color\": \"rgb(255,122,101)\"}, \"mode\": \"lines\", \"name\": \"Validation F1\", \"x\": [\"10\", \"25\", \"50\", \"75\", \"100\"], \"y\": [0.3031248100081656, 0.34791750046482856, 0.44553980841007645, 0.5082978575643291, 0.5101020101267073], \"type\": \"scatter\", \"uid\": \"c57ffc3d-fd3d-444a-ad50-f20bde4067e8\"}, {\"line\": {\"color\": \"rgb(163,218,151)\", \"dash\": \"dash\"}, \"mode\": \"lines\", \"name\": \"Training EM\", \"x\": [\"10\", \"25\", \"50\", \"75\", \"100\"], \"y\": [0.8082191780821918, 0.3603411513859275, 0.9643347050754458, 0.9490909090909091, 0.9522102747909199], \"type\": \"scatter\", \"uid\": \"770cc0e8-06ae-476e-9146-97132d03c54b\"}, {\"line\": {\"color\": \"rgb(255,122,101)\", \"dash\": \"dash\"}, \"mode\": \"lines\", \"name\": \"Validation EM\", \"x\": [\"10\", \"25\", \"50\", \"75\", \"100\"], \"y\": [0.06349206349206349, 0.06349206349206349, 0.2222222222222222, 0.2222222222222222, 0.2222222222222222], \"type\": \"scatter\", \"uid\": \"8863b4d3-53e7-433e-a325-b42ca787bdbd\"}], {\"title\": {\"text\": \"\"}, \"xaxis\": {\"title\": {\"text\": \"Training Samples Amount (in %)\"}}, \"yaxis\": {\"title\": {\"text\": \"Score\"}}}, {\"showLink\": false, \"linkText\": \"Export to plot.ly\", \"plotlyServerURL\": \"https://plot.ly\"}); \n",
       "}\n",
       "});</script><script type=\"text/javascript\">window.addEventListener(\"resize\", function(){if (document.getElementById(\"54aab21e-fff3-4997-bb33-51526a260020\")) {window._Plotly.Plots.resize(document.getElementById(\"54aab21e-fff3-4997-bb33-51526a260020\"));};})</script>"
      ]
     },
     "metadata": {},
     "output_type": "display_data"
    }
   ],
   "source": [
    "metrics_single_fold_elmo_reduced_path = \"{}/metrics/single_fold_elmo_reduced\".format(os.getcwd())\n",
    "plot_single_fold(metrics_single_fold_elmo_reduced_path)"
   ]
  },
  {
   "cell_type": "markdown",
   "metadata": {},
   "source": [
    "### Curvas de Aprendizado sem K-Fold e sem ELMo, com Word Embeddings de 600 dimensões e respostas adicionais apenas para dev."
   ]
  },
  {
   "cell_type": "code",
   "execution_count": 8,
   "metadata": {
    "scrolled": false
   },
   "outputs": [
    {
     "data": {
      "application/vnd.plotly.v1+json": {
       "config": {
        "linkText": "Export to plot.ly",
        "plotlyServerURL": "https://plot.ly",
        "showLink": false
       },
       "data": [
        {
         "line": {
          "color": "rgb(163,218,151)"
         },
         "mode": "lines",
         "name": "Training F1",
         "type": "scatter",
         "uid": "b46883e8-c7cb-4710-86b8-9626d969a97e",
         "x": [
          "10",
          "25",
          "50",
          "75",
          "100"
         ],
         "y": [
          0.6795792230018363,
          0.9699082527737473,
          0.9777777370506667,
          0.9603322755082441,
          0.9441697990617359
         ]
        },
        {
         "line": {
          "color": "rgb(255,122,101)"
         },
         "mode": "lines",
         "name": "Validation F1",
         "type": "scatter",
         "uid": "6808a1de-e0ec-4979-be0c-d13d3ba07f13",
         "x": [
          "10",
          "25",
          "50",
          "75",
          "100"
         ],
         "y": [
          0.27572505221579896,
          0.3785980140975576,
          0.4750540973401135,
          0.48629016509997086,
          0.42088802773260936
         ]
        },
        {
         "line": {
          "color": "rgb(163,218,151)",
          "dash": "dash"
         },
         "mode": "lines",
         "name": "Training EM",
         "type": "scatter",
         "uid": "511c2b73-643c-4f54-919a-11355c335413",
         "x": [
          "10",
          "25",
          "50",
          "75",
          "100"
         ],
         "y": [
          0.6027397260273972,
          0.929637526652452,
          0.9478737997256516,
          0.9187878787878788,
          0.8984468339307049
         ]
        },
        {
         "line": {
          "color": "rgb(255,122,101)",
          "dash": "dash"
         },
         "mode": "lines",
         "name": "Validation EM",
         "type": "scatter",
         "uid": "0acd8ba0-4456-4783-9ccd-7c75798459f7",
         "x": [
          "10",
          "25",
          "50",
          "75",
          "100"
         ],
         "y": [
          0.06349206349206349,
          0.12698412698412698,
          0.23809523809523808,
          0.19047619047619047,
          0.19047619047619047
         ]
        }
       ],
       "layout": {
        "title": {
         "text": ""
        },
        "xaxis": {
         "title": {
          "text": "Training Samples Amount (in %)"
         }
        },
        "yaxis": {
         "title": {
          "text": "Score"
         }
        }
       }
      },
      "text/html": [
       "<div id=\"9f4aa502-4022-41f4-9189-949dd167fd8f\" style=\"height: 525px; width: 100%;\" class=\"plotly-graph-div\"></div><script type=\"text/javascript\">require([\"plotly\"], function(Plotly) { window.PLOTLYENV=window.PLOTLYENV || {};window.PLOTLYENV.BASE_URL=\"https://plot.ly\";\n",
       "if (document.getElementById(\"9f4aa502-4022-41f4-9189-949dd167fd8f\")) {\n",
       "    Plotly.newPlot(\"9f4aa502-4022-41f4-9189-949dd167fd8f\", [{\"line\": {\"color\": \"rgb(163,218,151)\"}, \"mode\": \"lines\", \"name\": \"Training F1\", \"x\": [\"10\", \"25\", \"50\", \"75\", \"100\"], \"y\": [0.6795792230018363, 0.9699082527737473, 0.9777777370506667, 0.9603322755082441, 0.9441697990617359], \"type\": \"scatter\", \"uid\": \"b46883e8-c7cb-4710-86b8-9626d969a97e\"}, {\"line\": {\"color\": \"rgb(255,122,101)\"}, \"mode\": \"lines\", \"name\": \"Validation F1\", \"x\": [\"10\", \"25\", \"50\", \"75\", \"100\"], \"y\": [0.27572505221579896, 0.3785980140975576, 0.4750540973401135, 0.48629016509997086, 0.42088802773260936], \"type\": \"scatter\", \"uid\": \"6808a1de-e0ec-4979-be0c-d13d3ba07f13\"}, {\"line\": {\"color\": \"rgb(163,218,151)\", \"dash\": \"dash\"}, \"mode\": \"lines\", \"name\": \"Training EM\", \"x\": [\"10\", \"25\", \"50\", \"75\", \"100\"], \"y\": [0.6027397260273972, 0.929637526652452, 0.9478737997256516, 0.9187878787878788, 0.8984468339307049], \"type\": \"scatter\", \"uid\": \"511c2b73-643c-4f54-919a-11355c335413\"}, {\"line\": {\"color\": \"rgb(255,122,101)\", \"dash\": \"dash\"}, \"mode\": \"lines\", \"name\": \"Validation EM\", \"x\": [\"10\", \"25\", \"50\", \"75\", \"100\"], \"y\": [0.06349206349206349, 0.12698412698412698, 0.23809523809523808, 0.19047619047619047, 0.19047619047619047], \"type\": \"scatter\", \"uid\": \"0acd8ba0-4456-4783-9ccd-7c75798459f7\"}], {\"title\": {\"text\": \"\"}, \"xaxis\": {\"title\": {\"text\": \"Training Samples Amount (in %)\"}}, \"yaxis\": {\"title\": {\"text\": \"Score\"}}}, {\"showLink\": false, \"linkText\": \"Export to plot.ly\", \"plotlyServerURL\": \"https://plot.ly\"}); \n",
       "}\n",
       "});</script><script type=\"text/javascript\">window.addEventListener(\"resize\", function(){if (document.getElementById(\"9f4aa502-4022-41f4-9189-949dd167fd8f\")) {window._Plotly.Plots.resize(document.getElementById(\"9f4aa502-4022-41f4-9189-949dd167fd8f\"));};})</script>"
      ],
      "text/vnd.plotly.v1+html": [
       "<div id=\"9f4aa502-4022-41f4-9189-949dd167fd8f\" style=\"height: 525px; width: 100%;\" class=\"plotly-graph-div\"></div><script type=\"text/javascript\">require([\"plotly\"], function(Plotly) { window.PLOTLYENV=window.PLOTLYENV || {};window.PLOTLYENV.BASE_URL=\"https://plot.ly\";\n",
       "if (document.getElementById(\"9f4aa502-4022-41f4-9189-949dd167fd8f\")) {\n",
       "    Plotly.newPlot(\"9f4aa502-4022-41f4-9189-949dd167fd8f\", [{\"line\": {\"color\": \"rgb(163,218,151)\"}, \"mode\": \"lines\", \"name\": \"Training F1\", \"x\": [\"10\", \"25\", \"50\", \"75\", \"100\"], \"y\": [0.6795792230018363, 0.9699082527737473, 0.9777777370506667, 0.9603322755082441, 0.9441697990617359], \"type\": \"scatter\", \"uid\": \"b46883e8-c7cb-4710-86b8-9626d969a97e\"}, {\"line\": {\"color\": \"rgb(255,122,101)\"}, \"mode\": \"lines\", \"name\": \"Validation F1\", \"x\": [\"10\", \"25\", \"50\", \"75\", \"100\"], \"y\": [0.27572505221579896, 0.3785980140975576, 0.4750540973401135, 0.48629016509997086, 0.42088802773260936], \"type\": \"scatter\", \"uid\": \"6808a1de-e0ec-4979-be0c-d13d3ba07f13\"}, {\"line\": {\"color\": \"rgb(163,218,151)\", \"dash\": \"dash\"}, \"mode\": \"lines\", \"name\": \"Training EM\", \"x\": [\"10\", \"25\", \"50\", \"75\", \"100\"], \"y\": [0.6027397260273972, 0.929637526652452, 0.9478737997256516, 0.9187878787878788, 0.8984468339307049], \"type\": \"scatter\", \"uid\": \"511c2b73-643c-4f54-919a-11355c335413\"}, {\"line\": {\"color\": \"rgb(255,122,101)\", \"dash\": \"dash\"}, \"mode\": \"lines\", \"name\": \"Validation EM\", \"x\": [\"10\", \"25\", \"50\", \"75\", \"100\"], \"y\": [0.06349206349206349, 0.12698412698412698, 0.23809523809523808, 0.19047619047619047, 0.19047619047619047], \"type\": \"scatter\", \"uid\": \"0acd8ba0-4456-4783-9ccd-7c75798459f7\"}], {\"title\": {\"text\": \"\"}, \"xaxis\": {\"title\": {\"text\": \"Training Samples Amount (in %)\"}}, \"yaxis\": {\"title\": {\"text\": \"Score\"}}}, {\"showLink\": false, \"linkText\": \"Export to plot.ly\", \"plotlyServerURL\": \"https://plot.ly\"}); \n",
       "}\n",
       "});</script><script type=\"text/javascript\">window.addEventListener(\"resize\", function(){if (document.getElementById(\"9f4aa502-4022-41f4-9189-949dd167fd8f\")) {window._Plotly.Plots.resize(document.getElementById(\"9f4aa502-4022-41f4-9189-949dd167fd8f\"));};})</script>"
      ]
     },
     "metadata": {},
     "output_type": "display_data"
    }
   ],
   "source": [
    "metrics_single_fold_no_elmo_reduced_path = \"{}/metrics/single_fold_no_elmo_reduced\".format(os.getcwd())\n",
    "plot_single_fold(metrics_single_fold_no_elmo_reduced_path)"
   ]
  }
 ],
 "metadata": {
  "kernelspec": {
   "display_name": "Python 3",
   "language": "python",
   "name": "python3"
  },
  "language_info": {
   "codemirror_mode": {
    "name": "ipython",
    "version": 3
   },
   "file_extension": ".py",
   "mimetype": "text/x-python",
   "name": "python",
   "nbconvert_exporter": "python",
   "pygments_lexer": "ipython3",
   "version": "3.7.3"
  }
 },
 "nbformat": 4,
 "nbformat_minor": 2
}
