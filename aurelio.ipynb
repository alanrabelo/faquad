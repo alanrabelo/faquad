{
 "cells": [
  {
   "cell_type": "code",
   "execution_count": 1,
   "metadata": {
    "scrolled": true
   },
   "outputs": [],
   "source": [
    "import pandas as pd\n",
    "from aurelio.dataset_utils import flatten_json, melt_dataframe, reduce_answer\n",
    "from sklearn.model_selection import GroupKFold\n",
    "from sklearn.model_selection import GroupShuffleSplit\n",
    "from sklearn.model_selection import KFold\n",
    "import json"
   ]
  },
  {
   "cell_type": "code",
   "execution_count": 2,
   "metadata": {},
   "outputs": [],
   "source": [
    "with open(\"data/qa_facom_dataset_train.json\", encoding=\"utf-8\") as file:\n",
    "\ttrain_dataset = json.loads(file.read())\n",
    "    \n",
    "with open(\"data/qa_facom_dev.json\", encoding=\"utf-8\") as file:\n",
    "    dev_dataset = json.loads(file.read())"
   ]
  },
  {
   "cell_type": "code",
   "execution_count": 33,
   "metadata": {
    "scrolled": false
   },
   "outputs": [
    {
     "name": "stdout",
     "output_type": "stream",
     "text": [
      "39\n",
      "39\n",
      "38\n",
      "39\n",
      "38\n",
      "37\n",
      "39\n",
      "38\n",
      "38\n",
      "39\n"
     ]
    }
   ],
   "source": [
    "train_data = flatten_json(train_dataset)\n",
    "dev_data = flatten_json(reduce_answer(dev_dataset))\n",
    "\n",
    "data = pd.concat([train_data, dev_data])\n",
    "\n",
    "kf = GroupKFold(n_splits=10)\n",
    "\n",
    "i = 1\n",
    "\n",
    "for train_indexes, test_indexes in kf.split(data, None, data[[\"context\"]]):\n",
    "    train = data.iloc[train_indexes, :]\n",
    "    test = data.iloc[test_indexes, :]\n",
    "    \n",
    "    groupSplit = GroupShuffleSplit(n_splits=1, test_size=0.9)\n",
    "    \n",
    "    split = list(groupSplit.split(train, None, train[[\"context\"]]))\n",
    "    \n",
    "    test = pd.concat([test, train.iloc[split[0][1], :]])\n",
    "    train = train.iloc[split[0][0], :]\n",
    "    \n",
    "    ds = melt_dataframe(test)\n",
    "    print(len(ds[\"data\"]))\n",
    "    \n",
    "    \n",
    "#     with open(\"generated_folds/data\" + str(i) + \"_train\", \"w\") as train_file:\n",
    "#         train_file.write(json.dumps(melt_dataframe(train)))\n",
    "#     with open(\"generated_folds/data\" + str(i) + \"_test\", \"w\") as test_file:\n",
    "#         test_file.write(json.dumps(melt_dataframe(test)))\n",
    "    \n",
    "    i+=1\n",
    "\n",
    "# melt_dataframe(data)\n"
   ]
  },
  {
   "cell_type": "code",
   "execution_count": null,
   "metadata": {},
   "outputs": [],
   "source": []
  }
 ],
 "metadata": {
  "kernelspec": {
   "display_name": "Python 3",
   "language": "python",
   "name": "python3"
  },
  "language_info": {
   "codemirror_mode": {
    "name": "ipython",
    "version": 3
   },
   "file_extension": ".py",
   "mimetype": "text/x-python",
   "name": "python",
   "nbconvert_exporter": "python",
   "pygments_lexer": "ipython3",
   "version": "3.7.3"
  }
 },
 "nbformat": 4,
 "nbformat_minor": 2
}
