{
 "cells": [
  {
   "cell_type": "code",
   "execution_count": 1,
   "metadata": {
    "scrolled": true
   },
   "outputs": [],
   "source": [
    "import pandas as pd\n",
    "import json\n",
    "from dataset_utils import flatten_json, melt_dataframe\n",
    "from sklearn.model_selection import GroupKFold\n",
    "from sklearn.model_selection import KFold\n",
    "import json"
   ]
  },
  {
   "cell_type": "code",
   "execution_count": 2,
   "metadata": {},
   "outputs": [],
   "source": [
    "with open(\"qa_facom_dataset_837.json\", encoding=\"utf-8\") as file:\n",
    "\tdataset = json.loads(file.read())"
   ]
  },
  {
   "cell_type": "code",
   "execution_count": 3,
   "metadata": {
    "scrolled": true
   },
   "outputs": [],
   "source": [
    "data = flatten_json(dataset)\n",
    "\n",
    "kf = GroupKFold(n_splits=10)\n",
    "\n",
    "i = 1\n",
    "\n",
    "for train_indexes, test_indexes in kf.split(data, None, data[[\"context\"]]):\n",
    "    train = data.iloc[train_indexes, :]\n",
    "    test = data.iloc[test_indexes, :]\n",
    "    \n",
    "    with open(\"data\" + str(i) + \"_train\", \"w\") as train_file:\n",
    "        train_file.write(json.dumps(melt_dataframe(train)))\n",
    "    with open(\"data\" + str(i) + \"_test\", \"w\") as test_file:\n",
    "        test_file.write(json.dumps(melt_dataframe(test)))\n",
    "    \n",
    "    i+=1\n",
    "# melt_dataframe(data)\n",
    "# data"
   ]
  },
  {
   "cell_type": "code",
   "execution_count": null,
   "metadata": {},
   "outputs": [],
   "source": []
  }
 ],
 "metadata": {
  "kernelspec": {
   "display_name": "Python 3",
   "language": "python",
   "name": "python3"
  },
  "language_info": {
   "codemirror_mode": {
    "name": "ipython",
    "version": 3
   },
   "file_extension": ".py",
   "mimetype": "text/x-python",
   "name": "python",
   "nbconvert_exporter": "python",
   "pygments_lexer": "ipython3",
   "version": "3.7.3"
  }
 },
 "nbformat": 4,
 "nbformat_minor": 2
}
