{
 "cells": [
  {
   "cell_type": "code",
   "execution_count": 105,
   "metadata": {
    "scrolled": true
   },
   "outputs": [],
   "source": [
    "from sys import argv\n",
    "import json\n",
    "from dataset_utils import flatten_json\n",
    "from pandas.io.json import json_normalize\n",
    "from sklearn.model_selection import GroupKFold\n",
    "from sklearn.model_selection import KFold"
   ]
  },
  {
   "cell_type": "code",
   "execution_count": 106,
   "metadata": {},
   "outputs": [],
   "source": [
    "# def flatten_json(dict):\n",
    "# \treturn json_normalize(dict[\"data\"], [\"paragraphs\", 'qas', \"answers\"], [\"title\", [\"paragraphs\", \"context\"], [\"paragraphs\", \"qas\", \"question\"]]).rename(columns={\"text\": \"answer\", \"paragraphs.context\": \"context\", \"paragraphs.qas.question\": \"question\"})"
   ]
  },
  {
   "cell_type": "code",
   "execution_count": 107,
   "metadata": {},
   "outputs": [],
   "source": [
    "with open(\"qa_facom_dataset_837.json\", encoding=\"utf-8\") as file:\n",
    "\tdataset = json.loads(file.read())"
   ]
  },
  {
   "cell_type": "code",
   "execution_count": 128,
   "metadata": {
    "scrolled": true
   },
   "outputs": [
    {
     "name": "stdout",
     "output_type": "stream",
     "text": [
      "Em quais cidades a UFMS mantém campi? Aquidauana, Chapadão do Sul, Corumbá, Coxim, Naviraí, Nova Andradina, Paranaíba, Ponta Porã e Três Lagoas\n",
      "Quando foi criado o Instituto Superior de Pedagogia em Corumbá? 1967\n",
      "Em quais cidades a UFMS mantém campi? Aquidauana, Chapadão do Sul, Corumbá, Coxim, Naviraí, Nova Andradina, Paranaíba, Ponta Porã e Três Lagoas\n",
      "Em quais cidades a UFMS mantém campi? Aquidauana, Chapadão do Sul, Corumbá, Coxim, Naviraí, Nova Andradina, Paranaíba, Ponta Porã e Três Lagoas\n",
      "Em quais cidades a UFMS mantém campi? Aquidauana, Chapadão do Sul, Corumbá, Coxim, Naviraí, Nova Andradina, Paranaíba, Ponta Porã e Três Lagoas\n",
      "Em quais cidades a UFMS mantém campi? Aquidauana, Chapadão do Sul, Corumbá, Coxim, Naviraí, Nova Andradina, Paranaíba, Ponta Porã e Três Lagoas\n",
      "Em quais cidades a UFMS mantém campi? Aquidauana, Chapadão do Sul, Corumbá, Coxim, Naviraí, Nova Andradina, Paranaíba, Ponta Porã e Três Lagoas\n",
      "Em quais cidades a UFMS mantém campi? Aquidauana, Chapadão do Sul, Corumbá, Coxim, Naviraí, Nova Andradina, Paranaíba, Ponta Porã e Três Lagoas\n",
      "Em quais cidades a UFMS mantém campi? Aquidauana, Chapadão do Sul, Corumbá, Coxim, Naviraí, Nova Andradina, Paranaíba, Ponta Porã e Três Lagoas\n",
      "Em quais cidades a UFMS mantém campi? Aquidauana, Chapadão do Sul, Corumbá, Coxim, Naviraí, Nova Andradina, Paranaíba, Ponta Porã e Três Lagoas\n"
     ]
    }
   ],
   "source": [
    "data = flatten_json(dataset)\n",
    "\n",
    "x = data[[\"title\", \"context\", \"question\"]]\n",
    "y = data[[\"answer\", \"answer_start\"]]\n",
    "\n",
    "kf = GroupKFold(n_splits=10)\n",
    "i = 0\n",
    "\n",
    "for train_indexes, test_indexes in kf.split(x, y, data[[\"context\"]]):\n",
    "    x_train, x_dev = x.iloc[train_indexes, :], x.iloc[test_indexes, :]\n",
    "    y_train, y_dev = y.iloc[train_indexes, :], y.iloc[test_indexes, :]\n",
    "    \n"
   ]
  },
  {
   "cell_type": "code",
   "execution_count": 26,
   "metadata": {},
   "outputs": [
    {
     "data": {
      "text/plain": [
       "<generator object _BaseKFold.split at 0x7f7eab59b570>"
      ]
     },
     "execution_count": 26,
     "metadata": {},
     "output_type": "execute_result"
    }
   ],
   "source": []
  }
 ],
 "metadata": {
  "kernelspec": {
   "display_name": "Python 3",
   "language": "python",
   "name": "python3"
  },
  "language_info": {
   "codemirror_mode": {
    "name": "ipython",
    "version": 3
   },
   "file_extension": ".py",
   "mimetype": "text/x-python",
   "name": "python",
   "nbconvert_exporter": "python",
   "pygments_lexer": "ipython3",
   "version": "3.7.3"
  }
 },
 "nbformat": 4,
 "nbformat_minor": 2
}
